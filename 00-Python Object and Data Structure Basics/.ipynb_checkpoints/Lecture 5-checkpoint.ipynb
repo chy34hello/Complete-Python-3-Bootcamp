{
 "cells": [
  {
   "cell_type": "code",
   "execution_count": 1,
   "id": "a85cea00-387e-4bc9-ad77-cd420648f26d",
   "metadata": {},
   "outputs": [],
   "source": [
    "L =[1,0,2,0,0,3,0,0,0,4,0]"
   ]
  },
  {
   "cell_type": "code",
   "execution_count": 2,
   "id": "988f607b-ccdd-49c6-ace1-f721e56a7bb3",
   "metadata": {},
   "outputs": [
    {
     "data": {
      "text/plain": [
       "['1', '0', '2', '0', '0', '3', '0', '0', '0', '4', '0']"
      ]
     },
     "execution_count": 2,
     "metadata": {},
     "output_type": "execute_result"
    }
   ],
   "source": [
    "[str(e) for e in L]"
   ]
  },
  {
   "cell_type": "code",
   "execution_count": 3,
   "id": "dcc234b9-288b-4026-938a-c973e3cd5671",
   "metadata": {},
   "outputs": [
    {
     "data": {
      "text/plain": [
       "[1, 0, 2, 0, 0, 3, 0, 0, 0, 4, 0]"
      ]
     },
     "execution_count": 3,
     "metadata": {},
     "output_type": "execute_result"
    }
   ],
   "source": [
    "[e for e in L]"
   ]
  },
  {
   "cell_type": "code",
   "execution_count": 4,
   "id": "c98f7f87-dea1-479e-a334-4875877a0fac",
   "metadata": {},
   "outputs": [
    {
     "data": {
      "text/plain": [
       "[1, 2, 3, 4]"
      ]
     },
     "execution_count": 4,
     "metadata": {},
     "output_type": "execute_result"
    }
   ],
   "source": [
    "[e for e in L if e]"
   ]
  },
  {
   "cell_type": "code",
   "execution_count": 5,
   "id": "adde8282-b687-47cc-93e9-d68b4594d669",
   "metadata": {},
   "outputs": [],
   "source": [
    "L =[e for e in L if e]"
   ]
  },
  {
   "cell_type": "code",
   "execution_count": null,
   "id": "8d0e52d0-9876-47ef-8141-09836b0c8417",
   "metadata": {},
   "outputs": [],
   "source": []
  }
 ],
 "metadata": {
  "kernelspec": {
   "display_name": "Python 3 (ipykernel)",
   "language": "python",
   "name": "python3"
  },
  "language_info": {
   "codemirror_mode": {
    "name": "ipython",
    "version": 3
   },
   "file_extension": ".py",
   "mimetype": "text/x-python",
   "name": "python",
   "nbconvert_exporter": "python",
   "pygments_lexer": "ipython3",
   "version": "3.9.7"
  }
 },
 "nbformat": 4,
 "nbformat_minor": 5
}
