{
 "cells": [
  {
   "cell_type": "code",
   "execution_count": 14,
   "id": "a85cea00-387e-4bc9-ad77-cd420648f26d",
   "metadata": {},
   "outputs": [],
   "source": [
    "L =[1,0,2,0,0,3,0,0,0,4,0]\n"
   ]
  },
  {
   "cell_type": "code",
   "execution_count": 2,
   "id": "988f607b-ccdd-49c6-ace1-f721e56a7bb3",
   "metadata": {},
   "outputs": [
    {
     "data": {
      "text/plain": [
       "['1', '0', '2', '0', '0', '3', '0', '0', '0', '4', '0']"
      ]
     },
     "execution_count": 2,
     "metadata": {},
     "output_type": "execute_result"
    }
   ],
   "source": [
    "[str(e) for e in L]"
   ]
  },
  {
   "cell_type": "code",
   "execution_count": 3,
   "id": "dcc234b9-288b-4026-938a-c973e3cd5671",
   "metadata": {},
   "outputs": [
    {
     "data": {
      "text/plain": [
       "[1, 0, 2, 0, 0, 3, 0, 0, 0, 4, 0]"
      ]
     },
     "execution_count": 3,
     "metadata": {},
     "output_type": "execute_result"
    }
   ],
   "source": [
    "[e for e in L]"
   ]
  },
  {
   "cell_type": "code",
   "execution_count": 4,
   "id": "c98f7f87-dea1-479e-a334-4875877a0fac",
   "metadata": {},
   "outputs": [
    {
     "data": {
      "text/plain": [
       "[1, 2, 3, 4]"
      ]
     },
     "execution_count": 4,
     "metadata": {},
     "output_type": "execute_result"
    }
   ],
   "source": [
    "[e for e in L if e]"
   ]
  },
  {
   "cell_type": "code",
   "execution_count": 5,
   "id": "adde8282-b687-47cc-93e9-d68b4594d669",
   "metadata": {},
   "outputs": [],
   "source": [
    "L =[e for e in L if e]"
   ]
  },
  {
   "cell_type": "code",
   "execution_count": 15,
   "id": "8d0e52d0-9876-47ef-8141-09836b0c8417",
   "metadata": {},
   "outputs": [
    {
     "data": {
      "text/plain": [
       "[1, 2, 3, 0, 4, 0]"
      ]
     },
     "execution_count": 15,
     "metadata": {},
     "output_type": "execute_result"
    }
   ],
   "source": [
    "for e in L:\n",
    "    if e==0:\n",
    "        L.remove(e)\n",
    "L"
   ]
  },
  {
   "cell_type": "code",
   "execution_count": 17,
   "id": "8bd009fe-32d7-48a7-ace9-7b2809228160",
   "metadata": {},
   "outputs": [
    {
     "name": "stdout",
     "output_type": "stream",
     "text": [
      "1  0  2  0  0  3  0  0  0  4  0  "
     ]
    }
   ],
   "source": [
    "L =[1,0,2,0,0,3,0,0,0,4,0]\n",
    "for e in L:\n",
    "    print(e, end='  ')"
   ]
  },
  {
   "cell_type": "code",
   "execution_count": 19,
   "id": "81d087b3-a65e-4e9e-b5bb-00287c63ad0b",
   "metadata": {},
   "outputs": [
    {
     "name": "stdout",
     "output_type": "stream",
     "text": [
      "1  0  2  0  0  3  0  0  0  4  0  "
     ]
    }
   ],
   "source": [
    "L =[1,0,2,0,0,3,0,0,0,4,0]\n",
    "for i in range(len(L)):\n",
    "    print(L[i], end='  ')"
   ]
  },
  {
   "cell_type": "code",
   "execution_count": 21,
   "id": "7709360f-8a83-43a1-bd99-0e8fd7128f26",
   "metadata": {},
   "outputs": [
    {
     "data": {
      "text/plain": [
       "[1, 2, 3, 0, 4, 0]"
      ]
     },
     "execution_count": 21,
     "metadata": {},
     "output_type": "execute_result"
    }
   ],
   "source": [
    "L =[1,0,2,0,0,3,0,0,0,4,0]\n",
    "# please notice that remove is dynamically changing the list,  so when iterating through the list,  the operation is no longer right any more\n",
    "# This is tricky, so please always make sure that manipulating of a lIst should not be performed in a for loop\n",
    "for e in L:\n",
    "    if e==0:\n",
    "        L.remove(e)\n",
    "L"
   ]
  },
  {
   "cell_type": "code",
   "execution_count": 24,
   "id": "e39218b6-f2a0-4af6-a49e-d078a766b1bd",
   "metadata": {},
   "outputs": [
    {
     "data": {
      "text/plain": [
       "[1, 2, 0, 0, 3, 0, 0, 0, 4, 0]"
      ]
     },
     "execution_count": 24,
     "metadata": {},
     "output_type": "execute_result"
    }
   ],
   "source": [
    "L =[1,0,2,0,0,3,0,0,0,4,0]\n",
    "L\n",
    "L.remove(0)\n",
    "L"
   ]
  },
  {
   "cell_type": "code",
   "execution_count": 25,
   "id": "19a1621f-acd9-460c-98e3-3203f19d141a",
   "metadata": {},
   "outputs": [],
   "source": [
    "from IPython.core.interactiveshell import InteractiveShell\n",
    "InteractiveShell.ast_node_interactivity = \"all\""
   ]
  },
  {
   "cell_type": "code",
   "execution_count": 26,
   "id": "06a1648a-e499-47f0-abd8-a39af66468e9",
   "metadata": {},
   "outputs": [
    {
     "data": {
      "text/plain": [
       "[1, 0, 2, 0, 0, 3, 0, 0, 0, 4, 0]"
      ]
     },
     "execution_count": 26,
     "metadata": {},
     "output_type": "execute_result"
    },
    {
     "data": {
      "text/plain": [
       "[1, 2, 0, 0, 3, 0, 0, 0, 4, 0]"
      ]
     },
     "execution_count": 26,
     "metadata": {},
     "output_type": "execute_result"
    }
   ],
   "source": [
    "L =[1,0,2,0,0,3,0,0,0,4,0]\n",
    "L\n",
    "L.remove(0)\n",
    "L"
   ]
  },
  {
   "cell_type": "code",
   "execution_count": 27,
   "id": "ce47bbde-4586-4201-87a9-9e3f8b83296f",
   "metadata": {},
   "outputs": [
    {
     "data": {
      "text/plain": [
       "[1, 2, 3, 4]"
      ]
     },
     "execution_count": 27,
     "metadata": {},
     "output_type": "execute_result"
    }
   ],
   "source": [
    "L =[1,0,2,0,0,3,0,0,0,4,0]\n",
    "# please notice that remove is dynamically changing the list,  so when iterating through the list,  the operation is no longer right any more\n",
    "# This is tricky, so please always make sure that manipulating of a lIst should not be performed in a for loop\n",
    "# Making a copy of L for interation, and operate on the original list \n",
    "for e in list(L):\n",
    "    if e==0:\n",
    "        L.remove(e)\n",
    "L"
   ]
  },
  {
   "cell_type": "code",
   "execution_count": 28,
   "id": "6c609217-77b8-41e1-aaf7-87481211a9da",
   "metadata": {},
   "outputs": [],
   "source": [
    "S = {1,0,2,0,0,3,0,0,0,4,0}"
   ]
  },
  {
   "cell_type": "code",
   "execution_count": 29,
   "id": "ea705197-1880-49ac-87c9-79dfc3738998",
   "metadata": {},
   "outputs": [
    {
     "data": {
      "text/plain": [
       "{0, 1, 2, 3, 4}"
      ]
     },
     "execution_count": 29,
     "metadata": {},
     "output_type": "execute_result"
    }
   ],
   "source": [
    "S"
   ]
  },
  {
   "cell_type": "markdown",
   "id": "71bbda1f-70c5-488d-bdfa-dbfbca8a9a8b",
   "metadata": {},
   "source": [
    "(0,0,0) ->0/1, (0,0,1) -> 0/1 ... (0,0,1) ->0/1"
   ]
  },
  {
   "cell_type": "code",
   "execution_count": 32,
   "id": "3ec1f5fa-cd9b-4cd0-b4b2-87ae861690cb",
   "metadata": {},
   "outputs": [
    {
     "data": {
      "text/plain": [
       "'10111'"
      ]
     },
     "execution_count": 32,
     "metadata": {},
     "output_type": "execute_result"
    }
   ],
   "source": [
    "f'{23:b}'"
   ]
  },
  {
   "cell_type": "code",
   "execution_count": 33,
   "id": "6d0cd553-bc5c-437d-b355-c6b571ba6b23",
   "metadata": {},
   "outputs": [
    {
     "data": {
      "text/plain": [
       "'00010111'"
      ]
     },
     "execution_count": 33,
     "metadata": {},
     "output_type": "execute_result"
    }
   ],
   "source": [
    "f'{23:08b}'"
   ]
  },
  {
   "cell_type": "code",
   "execution_count": 34,
   "id": "7e0b90ed-dbe5-43c4-8ab7-fbb76ce695d2",
   "metadata": {},
   "outputs": [
    {
     "data": {
      "text/plain": [
       "['0', '0', '0', '1', '0', '1', '1', '1']"
      ]
     },
     "execution_count": 34,
     "metadata": {},
     "output_type": "execute_result"
    }
   ],
   "source": [
    "list(f'{23:08b}')"
   ]
  },
  {
   "cell_type": "code",
   "execution_count": 35,
   "id": "ce21dbdb-f7ac-4b7a-99d9-4391041b3d51",
   "metadata": {},
   "outputs": [
    {
     "data": {
      "text/plain": [
       "[0, 0, 0, 1, 0, 1, 1, 1]"
      ]
     },
     "execution_count": 35,
     "metadata": {},
     "output_type": "execute_result"
    }
   ],
   "source": [
    "[int(e) for e in f'{23:08b}']"
   ]
  },
  {
   "cell_type": "code",
   "execution_count": 36,
   "id": "b1b7c030-9336-42c5-88b4-fd4fbe04e9a2",
   "metadata": {},
   "outputs": [
    {
     "data": {
      "text/plain": [
       "[0, 0, 0, 0, 0, 0, 0, 0]"
      ]
     },
     "execution_count": 36,
     "metadata": {},
     "output_type": "execute_result"
    }
   ],
   "source": [
    "[int(e) for e in f'{0:08b}']"
   ]
  },
  {
   "cell_type": "code",
   "execution_count": 37,
   "id": "05e66c35-1308-4ef8-b9da-e0dc3b275be5",
   "metadata": {},
   "outputs": [
    {
     "data": {
      "text/plain": [
       "[1, 1, 1, 1, 1, 1, 1, 1]"
      ]
     },
     "execution_count": 37,
     "metadata": {},
     "output_type": "execute_result"
    }
   ],
   "source": [
    "[int(e) for e in f'{255:08b}']"
   ]
  },
  {
   "cell_type": "code",
   "execution_count": 38,
   "id": "bcc1f20c-d807-4d4d-bbcf-440a62b3431a",
   "metadata": {},
   "outputs": [
    {
     "name": "stdout",
     "output_type": "stream",
     "text": [
      "000\n",
      "001\n",
      "010\n",
      "011\n",
      "100\n",
      "101\n",
      "110\n",
      "111\n"
     ]
    }
   ],
   "source": [
    "for n in range(8):\n",
    "    print(f'{n:03b}')"
   ]
  },
  {
   "cell_type": "code",
   "execution_count": 41,
   "id": "119c7b3b-da60-4e8b-a1e3-c10074cdafe4",
   "metadata": {},
   "outputs": [
    {
     "name": "stdout",
     "output_type": "stream",
     "text": [
      "(0, 0, 0)\n",
      "(0, 0, 1)\n",
      "(0, 1, 0)\n",
      "(0, 1, 1)\n",
      "(1, 0, 0)\n",
      "(1, 0, 1)\n",
      "(1, 1, 0)\n",
      "(1, 1, 1)\n"
     ]
    }
   ],
   "source": [
    "for n in range(8):\n",
    "    print(tuple(int(e) for e in f'{n:03b}'))"
   ]
  },
  {
   "cell_type": "code",
   "execution_count": 42,
   "id": "9dfeab71-7b84-4338-95ad-a0a848455365",
   "metadata": {},
   "outputs": [
    {
     "data": {
      "text/plain": [
       "[0, 0, 0, 1, 0, 1, 1, 1]"
      ]
     },
     "execution_count": 42,
     "metadata": {},
     "output_type": "execute_result"
    }
   ],
   "source": [
    "rule_nb = 75\n",
    "values = [int(e) for e in f'{23:08b}']\n",
    "values"
   ]
  },
  {
   "cell_type": "code",
   "execution_count": null,
   "id": "ba311bf1-913f-45ce-8239-a325854c4aa9",
   "metadata": {},
   "outputs": [],
   "source": []
  },
  {
   "cell_type": "code",
   "execution_count": 43,
   "id": "08753b90-1df6-4672-8e84-3052e39feedd",
   "metadata": {},
   "outputs": [
    {
     "data": {
      "text/plain": [
       "{1: 0}"
      ]
     },
     "execution_count": 43,
     "metadata": {},
     "output_type": "execute_result"
    }
   ],
   "source": [
    "{t: 0 for t in tuple(int(e) for e in f'{n:03b}')}"
   ]
  },
  {
   "cell_type": "code",
   "execution_count": 45,
   "id": "4b7a05b7-0345-4746-aacc-fc72c91e2f31",
   "metadata": {},
   "outputs": [
    {
     "data": {
      "text/plain": [
       "{(0, 0, 0): 0,\n",
       " (0, 0, 1): 0,\n",
       " (0, 1, 0): 0,\n",
       " (0, 1, 1): 1,\n",
       " (1, 0, 0): 0,\n",
       " (1, 0, 1): 1,\n",
       " (1, 1, 0): 1,\n",
       " (1, 1, 1): 1}"
      ]
     },
     "execution_count": 45,
     "metadata": {},
     "output_type": "execute_result"
    }
   ],
   "source": [
    "D= {}\n",
    "for n in range(8):\n",
    "    D[tuple(int(e) for e in f'{n:03b}')] = values[n]\n",
    "D"
   ]
  },
  {
   "cell_type": "code",
   "execution_count": 46,
   "id": "428954d7-6c8d-4aef-bbc8-8dbf94f3a6c0",
   "metadata": {},
   "outputs": [
    {
     "data": {
      "text/plain": [
       "{(0, 0, 0): 1,\n",
       " (0, 0, 1): 1,\n",
       " (0, 1, 0): 1,\n",
       " (0, 1, 1): 0,\n",
       " (1, 0, 0): 1,\n",
       " (1, 0, 1): 0,\n",
       " (1, 1, 0): 0,\n",
       " (1, 1, 1): 0}"
      ]
     },
     "execution_count": 46,
     "metadata": {},
     "output_type": "execute_result"
    }
   ],
   "source": [
    "D= {}\n",
    "for n in range(8):\n",
    "    D[tuple(int(e) for e in f'{n:03b}')] = values[-n-1]\n",
    "D"
   ]
  },
  {
   "cell_type": "code",
   "execution_count": 47,
   "id": "413f43aa-09bd-4e8b-9fe1-44d1e1b19828",
   "metadata": {},
   "outputs": [
    {
     "data": {
      "text/plain": [
       "{(0, 0, 0): 1,\n",
       " (0, 0, 1): 1,\n",
       " (0, 1, 0): 1,\n",
       " (0, 1, 1): 0,\n",
       " (1, 0, 0): 1,\n",
       " (1, 0, 1): 0,\n",
       " (1, 1, 0): 0,\n",
       " (1, 1, 1): 0}"
      ]
     },
     "execution_count": 47,
     "metadata": {},
     "output_type": "execute_result"
    }
   ],
   "source": [
    "D= {}\n",
    "for n in range(8):\n",
    "    D[tuple(int(e) for e in f'{n:03b}')] = values[7-n]\n",
    "D"
   ]
  },
  {
   "cell_type": "code",
   "execution_count": 48,
   "id": "03ac7015-de3e-49e3-8937-c02ea2874ab5",
   "metadata": {},
   "outputs": [],
   "source": [
    "# a better way"
   ]
  },
  {
   "cell_type": "code",
   "execution_count": 52,
   "id": "9e85916d-500c-4825-ae25-fdc86e150be1",
   "metadata": {},
   "outputs": [
    {
     "data": {
      "text/plain": [
       "(1234567, 8)"
      ]
     },
     "execution_count": 52,
     "metadata": {},
     "output_type": "execute_result"
    },
    {
     "data": {
      "text/plain": [
       "(123456, 78)"
      ]
     },
     "execution_count": 52,
     "metadata": {},
     "output_type": "execute_result"
    },
    {
     "data": {
      "text/plain": [
       "(12345, 678)"
      ]
     },
     "execution_count": 52,
     "metadata": {},
     "output_type": "execute_result"
    }
   ],
   "source": [
    "12345678//10, 12345678%10\n",
    "12345678//(10**2), 12345678%(10**2)\n",
    "12345678//(10**3), 12345678%(10**3)"
   ]
  },
  {
   "cell_type": "code",
   "execution_count": 53,
   "id": "1a22fcd3-3220-46b9-ae20-435a21cdb2fa",
   "metadata": {},
   "outputs": [
    {
     "data": {
      "text/plain": [
       "'11000000011101'"
      ]
     },
     "execution_count": 53,
     "metadata": {},
     "output_type": "execute_result"
    }
   ],
   "source": [
    "x = 12317\n",
    "f'{x:b}'"
   ]
  },
  {
   "cell_type": "code",
   "execution_count": 60,
   "id": "39057a3e-96e6-4721-a193-f317b33deb45",
   "metadata": {},
   "outputs": [
    {
     "data": {
      "text/plain": [
       "('1100000001110', '1')"
      ]
     },
     "execution_count": 60,
     "metadata": {},
     "output_type": "execute_result"
    },
    {
     "data": {
      "text/plain": [
       "('110000000111', '01')"
      ]
     },
     "execution_count": 60,
     "metadata": {},
     "output_type": "execute_result"
    },
    {
     "data": {
      "text/plain": [
       "('11000000011', '101')"
      ]
     },
     "execution_count": 60,
     "metadata": {},
     "output_type": "execute_result"
    }
   ],
   "source": [
    "f'{x//2:b}', f'{x%2:b}'\n",
    "f'{x//(2**2):02b}', f'{x%(2**2):02b}'\n",
    "f'{x//(2**3):03b}', f'{x%(2**3):03b}'"
   ]
  },
  {
   "cell_type": "code",
   "execution_count": 61,
   "id": "bb8ce2bb-6140-4a9c-936f-f0a4438220b5",
   "metadata": {},
   "outputs": [
    {
     "name": "stdout",
     "output_type": "stream",
     "text": [
      "(0, 0, 0)\n",
      "(0, 0, 1)\n",
      "(0, 1, 0)\n",
      "(0, 1, 1)\n",
      "(1, 0, 0)\n",
      "(1, 0, 1)\n",
      "(1, 1, 0)\n",
      "(1, 1, 1)\n"
     ]
    }
   ],
   "source": [
    "for n in range(8):\n",
    "    print((n//4, n%4//2, n%2))"
   ]
  },
  {
   "cell_type": "code",
   "execution_count": 66,
   "id": "023819af-d3b0-4f9a-9f9a-e18bf8ef20d2",
   "metadata": {},
   "outputs": [
    {
     "data": {
      "text/plain": [
       "[0, 1, 0, 0, 1, 0, 1, 1]"
      ]
     },
     "execution_count": 66,
     "metadata": {},
     "output_type": "execute_result"
    },
    {
     "data": {
      "text/plain": [
       "{(0, 0, 0): 1,\n",
       " (0, 0, 1): 1,\n",
       " (0, 1, 0): 0,\n",
       " (0, 1, 1): 1,\n",
       " (1, 0, 0): 0,\n",
       " (1, 0, 1): 0,\n",
       " (1, 1, 0): 1,\n",
       " (1, 1, 1): 0}"
      ]
     },
     "execution_count": 66,
     "metadata": {},
     "output_type": "execute_result"
    }
   ],
   "source": [
    "# create dictonary\n",
    "values = [int(e) for e in f'{75:08b}']\n",
    "values\n",
    "{(n//4, n%4//2, n%2): values[7-n] for n in range(8)}"
   ]
  },
  {
   "cell_type": "code",
   "execution_count": 69,
   "id": "e759f987-6a6d-4c55-9b2e-41883567699b",
   "metadata": {},
   "outputs": [
    {
     "data": {
      "text/plain": [
       "[0, 1, 2, 3, 4, 5, 6, 7, 8, 9, 10, 11, 12, 13, 14]"
      ]
     },
     "execution_count": 69,
     "metadata": {},
     "output_type": "execute_result"
    },
    {
     "data": {
      "text/plain": [
       "[2, 3, 4]"
      ]
     },
     "execution_count": 69,
     "metadata": {},
     "output_type": "execute_result"
    },
    {
     "data": {
      "text/plain": [
       "[2, 4, 6, 8, 10, 12, 14]"
      ]
     },
     "execution_count": 69,
     "metadata": {},
     "output_type": "execute_result"
    }
   ],
   "source": [
    "list (range(15))\n",
    "list (range(2, 5))\n",
    "list (range(2,15,2))"
   ]
  },
  {
   "cell_type": "code",
   "execution_count": 75,
   "id": "850d4890-598f-4a14-8b12-c1b284f26e28",
   "metadata": {},
   "outputs": [],
   "source": [
    "def primes_up_to(n):\n",
    "    sieve = [True]*(n+1)\n",
    "    for i in range(2, n+1):\n",
    "        if sieve[i]:\n",
    "            for j in range(i*2, n+1, i):\n",
    "                sieve[j] = False\n",
    "                \n",
    "    return [i for i in range(2, n+1) if sieve[i]]"
   ]
  },
  {
   "cell_type": "code",
   "execution_count": 76,
   "id": "af7d92e2-6315-417c-9e5a-768a64b8e783",
   "metadata": {},
   "outputs": [
    {
     "data": {
      "text/plain": [
       "[2, 3, 5, 7, 11, 13, 17, 19, 23, 29, 31, 37, 41, 43, 47]"
      ]
     },
     "execution_count": 76,
     "metadata": {},
     "output_type": "execute_result"
    }
   ],
   "source": [
    "primes_up_to(50)"
   ]
  },
  {
   "cell_type": "code",
   "execution_count": 77,
   "id": "b29eb0fb-d4da-49de-8b0f-d133c502f0c6",
   "metadata": {},
   "outputs": [
    {
     "data": {
      "text/plain": [
       "4"
      ]
     },
     "execution_count": 77,
     "metadata": {},
     "output_type": "execute_result"
    }
   ],
   "source": [
    "int(4.0)"
   ]
  },
  {
   "cell_type": "code",
   "execution_count": 78,
   "id": "f89a9984-3bc8-41f9-a88e-893fb7a23c9d",
   "metadata": {},
   "outputs": [
    {
     "data": {
      "text/plain": [
       "3"
      ]
     },
     "execution_count": 78,
     "metadata": {},
     "output_type": "execute_result"
    }
   ],
   "source": [
    "int(3.15123)"
   ]
  },
  {
   "cell_type": "code",
   "execution_count": 79,
   "id": "f98c3a78-9a26-43cd-a399-ad9ff83e2b34",
   "metadata": {},
   "outputs": [
    {
     "data": {
      "text/plain": [
       "3"
      ]
     },
     "execution_count": 79,
     "metadata": {},
     "output_type": "execute_result"
    }
   ],
   "source": [
    "int(3.999)"
   ]
  },
  {
   "cell_type": "code",
   "execution_count": 80,
   "id": "ab1da292-a48f-4bb1-8246-38f2d8433ef9",
   "metadata": {},
   "outputs": [
    {
     "data": {
      "text/plain": [
       "(4, 4)"
      ]
     },
     "execution_count": 80,
     "metadata": {},
     "output_type": "execute_result"
    }
   ],
   "source": [
    "round(4.00), round(3.91)"
   ]
  },
  {
   "cell_type": "code",
   "execution_count": 81,
   "id": "8e995e26-f2d6-4364-9183-9b8cce8c61f1",
   "metadata": {},
   "outputs": [],
   "source": [
    "dic =  {(0,2): 'Up', (0,-2): 'Down'}"
   ]
  },
  {
   "cell_type": "code",
   "execution_count": null,
   "id": "f2bc4217-c463-4e74-ad88-f5bd136f67a6",
   "metadata": {},
   "outputs": [],
   "source": [
    "dic."
   ]
  }
 ],
 "metadata": {
  "kernelspec": {
   "display_name": "Python 3 (ipykernel)",
   "language": "python",
   "name": "python3"
  },
  "language_info": {
   "codemirror_mode": {
    "name": "ipython",
    "version": 3
   },
   "file_extension": ".py",
   "mimetype": "text/x-python",
   "name": "python",
   "nbconvert_exporter": "python",
   "pygments_lexer": "ipython3",
   "version": "3.9.7"
  }
 },
 "nbformat": 4,
 "nbformat_minor": 5
}
