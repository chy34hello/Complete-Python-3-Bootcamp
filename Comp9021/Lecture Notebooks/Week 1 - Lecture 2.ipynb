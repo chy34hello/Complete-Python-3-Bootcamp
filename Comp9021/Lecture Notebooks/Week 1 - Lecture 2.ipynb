{
 "cells": [
  {
   "cell_type": "markdown",
   "id": "76cc2700-b793-4fcf-9f7f-74538a15e7a3",
   "metadata": {},
   "source": [
    "Integers\n",
    "Strings\n",
    "Lists\n",
    "Tuples\n",
    "Dictionaries"
   ]
  },
  {
   "cell_type": "markdown",
   "id": "9ffd5061-6053-44f2-8f98-fe25e9c33780",
   "metadata": {},
   "source": [
    "if statements\n",
    "while loops\n",
    "some operators on data\n",
    "read from a file\n",
    "..."
   ]
  },
  {
   "cell_type": "code",
   "execution_count": 1,
   "id": "953f714e-8aea-467f-b410-222f0829ed76",
   "metadata": {},
   "outputs": [
    {
     "data": {
      "text/plain": [
       "''"
      ]
     },
     "execution_count": 1,
     "metadata": {},
     "output_type": "execute_result"
    },
    {
     "data": {
      "text/plain": [
       "'a'"
      ]
     },
     "execution_count": 1,
     "metadata": {},
     "output_type": "execute_result"
    },
    {
     "data": {
      "text/plain": [
       "'ab'"
      ]
     },
     "execution_count": 1,
     "metadata": {},
     "output_type": "execute_result"
    },
    {
     "data": {
      "text/plain": [
       "'abc'"
      ]
     },
     "execution_count": 1,
     "metadata": {},
     "output_type": "execute_result"
    }
   ],
   "source": [
    "''\n",
    "'a'\n",
    "'ab'\n",
    "'abc'"
   ]
  },
  {
   "cell_type": "code",
   "execution_count": 4,
   "id": "f9ced458-8ed8-481b-b463-71a68f3ff9d4",
   "metadata": {},
   "outputs": [],
   "source": [
    "L = [0, 1, 1, 1, 0, 1, 1]"
   ]
  },
  {
   "cell_type": "code",
   "execution_count": 5,
   "id": "7dc3064c-5651-4513-bed3-bfd32ecc9e63",
   "metadata": {},
   "outputs": [
    {
     "data": {
      "text/plain": [
       "[0, 1, 1, 1, 0, 1, 1]"
      ]
     },
     "execution_count": 5,
     "metadata": {},
     "output_type": "execute_result"
    }
   ],
   "source": [
    "L"
   ]
  },
  {
   "cell_type": "code",
   "execution_count": 6,
   "id": "7988423e-0748-4314-a008-8e0fc479a940",
   "metadata": {},
   "outputs": [
    {
     "data": {
      "text/plain": [
       "list"
      ]
     },
     "execution_count": 6,
     "metadata": {},
     "output_type": "execute_result"
    }
   ],
   "source": [
    "type(L)"
   ]
  },
  {
   "cell_type": "code",
   "execution_count": 7,
   "id": "5a30aa60-3e7f-41c2-8a4e-1fa5a380e27a",
   "metadata": {},
   "outputs": [
    {
     "data": {
      "text/plain": [
       "int"
      ]
     },
     "execution_count": 7,
     "metadata": {},
     "output_type": "execute_result"
    }
   ],
   "source": [
    "type(0)"
   ]
  },
  {
   "cell_type": "code",
   "execution_count": 8,
   "id": "4b2fdc3c-a46a-4b28-b1a3-d995dd2c12ab",
   "metadata": {},
   "outputs": [
    {
     "data": {
      "text/plain": [
       "7"
      ]
     },
     "execution_count": 8,
     "metadata": {},
     "output_type": "execute_result"
    }
   ],
   "source": [
    "len(L)"
   ]
  },
  {
   "cell_type": "code",
   "execution_count": 9,
   "id": "025a618b-4347-4d27-bcc1-deb255626ae8",
   "metadata": {},
   "outputs": [],
   "source": [
    "L1 = [10, 3, 14, 89, 45]"
   ]
  },
  {
   "cell_type": "code",
   "execution_count": 10,
   "id": "d27c9c76-7cf5-48e5-92db-ed0d267fda64",
   "metadata": {},
   "outputs": [
    {
     "data": {
      "text/plain": [
       "5"
      ]
     },
     "execution_count": 10,
     "metadata": {},
     "output_type": "execute_result"
    }
   ],
   "source": [
    "len(L1)"
   ]
  },
  {
   "cell_type": "code",
   "execution_count": 11,
   "id": "17b8c9ff-5436-4cb0-9abd-99ce90fc6e5a",
   "metadata": {},
   "outputs": [
    {
     "data": {
      "text/plain": [
       "10"
      ]
     },
     "execution_count": 11,
     "metadata": {},
     "output_type": "execute_result"
    }
   ],
   "source": [
    "L1[0]"
   ]
  },
  {
   "cell_type": "code",
   "execution_count": 12,
   "id": "f180f36b-2a41-4ddb-b529-28a684011c8d",
   "metadata": {},
   "outputs": [
    {
     "data": {
      "text/plain": [
       "3"
      ]
     },
     "execution_count": 12,
     "metadata": {},
     "output_type": "execute_result"
    }
   ],
   "source": [
    "L1[1]"
   ]
  },
  {
   "cell_type": "code",
   "execution_count": 13,
   "id": "6bd8fbdd-2be3-49f1-ad1a-e39d1b00a8a6",
   "metadata": {},
   "outputs": [
    {
     "data": {
      "text/plain": [
       "45"
      ]
     },
     "execution_count": 13,
     "metadata": {},
     "output_type": "execute_result"
    }
   ],
   "source": [
    "L1[4]"
   ]
  },
  {
   "cell_type": "code",
   "execution_count": 14,
   "id": "d7caf8b4-dfe0-4634-9cba-9e16505602b5",
   "metadata": {},
   "outputs": [
    {
     "ename": "IndexError",
     "evalue": "list index out of range",
     "output_type": "error",
     "traceback": [
      "\u001b[0;31m---------------------------------------------------------------------------\u001b[0m",
      "\u001b[0;31mIndexError\u001b[0m                                Traceback (most recent call last)",
      "Input \u001b[0;32mIn [14]\u001b[0m, in \u001b[0;36m<module>\u001b[0;34m\u001b[0m\n\u001b[0;32m----> 1\u001b[0m \u001b[43mL1\u001b[49m\u001b[43m[\u001b[49m\u001b[38;5;28;43mlen\u001b[39;49m\u001b[43m(\u001b[49m\u001b[43mL\u001b[49m\u001b[43m)\u001b[49m\u001b[43m \u001b[49m\u001b[38;5;241;43m-\u001b[39;49m\u001b[43m \u001b[49m\u001b[38;5;241;43m1\u001b[39;49m\u001b[43m]\u001b[49m\n",
      "\u001b[0;31mIndexError\u001b[0m: list index out of range"
     ]
    }
   ],
   "source": [
    "L1[len(L) - 1]"
   ]
  },
  {
   "cell_type": "code",
   "execution_count": 15,
   "id": "48be5ba7-8e0d-4e07-bcbb-6b499feb2d3c",
   "metadata": {},
   "outputs": [
    {
     "data": {
      "text/plain": [
       "45"
      ]
     },
     "execution_count": 15,
     "metadata": {},
     "output_type": "execute_result"
    }
   ],
   "source": [
    "L1[len(L1) - 1]"
   ]
  },
  {
   "cell_type": "code",
   "execution_count": 16,
   "id": "d27c9003-e268-4876-862f-05507a7ec0c1",
   "metadata": {},
   "outputs": [
    {
     "ename": "IndexError",
     "evalue": "list index out of range",
     "output_type": "error",
     "traceback": [
      "\u001b[0;31m---------------------------------------------------------------------------\u001b[0m",
      "\u001b[0;31mIndexError\u001b[0m                                Traceback (most recent call last)",
      "Input \u001b[0;32mIn [16]\u001b[0m, in \u001b[0;36m<module>\u001b[0;34m\u001b[0m\n\u001b[0;32m----> 1\u001b[0m \u001b[43mL1\u001b[49m\u001b[43m[\u001b[49m\u001b[38;5;28;43mlen\u001b[39;49m\u001b[43m(\u001b[49m\u001b[43mL1\u001b[49m\u001b[43m)\u001b[49m\u001b[43m]\u001b[49m\n",
      "\u001b[0;31mIndexError\u001b[0m: list index out of range"
     ]
    }
   ],
   "source": [
    "L1[len(L1)]"
   ]
  },
  {
   "cell_type": "code",
   "execution_count": 17,
   "id": "823c08b3-d87a-4a0d-b397-03375cb7007e",
   "metadata": {},
   "outputs": [
    {
     "data": {
      "text/plain": [
       "[10, 3, 14, 89, 45]"
      ]
     },
     "execution_count": 17,
     "metadata": {},
     "output_type": "execute_result"
    }
   ],
   "source": [
    "L1"
   ]
  },
  {
   "cell_type": "code",
   "execution_count": 18,
   "id": "43acaf0b-7984-4857-bef9-672aac2f7576",
   "metadata": {},
   "outputs": [
    {
     "data": {
      "text/plain": [
       "45"
      ]
     },
     "execution_count": 18,
     "metadata": {},
     "output_type": "execute_result"
    }
   ],
   "source": [
    "L1[-1]"
   ]
  },
  {
   "cell_type": "code",
   "execution_count": 20,
   "id": "92ec2d52-e836-4708-b85e-fdfde782867a",
   "metadata": {},
   "outputs": [
    {
     "data": {
      "text/plain": [
       "89"
      ]
     },
     "execution_count": 20,
     "metadata": {},
     "output_type": "execute_result"
    }
   ],
   "source": [
    "L1[-2]"
   ]
  },
  {
   "cell_type": "code",
   "execution_count": 22,
   "id": "c7956c4c-dbda-4eb0-aa4e-12a09115f5c6",
   "metadata": {},
   "outputs": [
    {
     "data": {
      "text/plain": [
       "10"
      ]
     },
     "execution_count": 22,
     "metadata": {},
     "output_type": "execute_result"
    }
   ],
   "source": [
    "L1[-len(L1)]"
   ]
  },
  {
   "cell_type": "code",
   "execution_count": 23,
   "id": "af8037d4-8804-4ece-8cca-f36a9a72af61",
   "metadata": {},
   "outputs": [],
   "source": [
    "s = 'comp9021'"
   ]
  },
  {
   "cell_type": "code",
   "execution_count": 24,
   "id": "dc3ef995-f98b-4a3b-8bbe-f45362ee5244",
   "metadata": {},
   "outputs": [
    {
     "data": {
      "text/plain": [
       "8"
      ]
     },
     "execution_count": 24,
     "metadata": {},
     "output_type": "execute_result"
    }
   ],
   "source": [
    "len(s)"
   ]
  },
  {
   "cell_type": "code",
   "execution_count": 25,
   "id": "12f42bd7-ebf4-49e7-ab08-53eb29bd6ec1",
   "metadata": {},
   "outputs": [
    {
     "data": {
      "text/plain": [
       "'p'"
      ]
     },
     "execution_count": 25,
     "metadata": {},
     "output_type": "execute_result"
    }
   ],
   "source": [
    "s[3]"
   ]
  },
  {
   "cell_type": "code",
   "execution_count": 26,
   "id": "ee24f291-c8f9-4393-b5a1-45757113c365",
   "metadata": {},
   "outputs": [
    {
     "data": {
      "text/plain": [
       "7"
      ]
     },
     "execution_count": 26,
     "metadata": {},
     "output_type": "execute_result"
    }
   ],
   "source": [
    "3 + 4"
   ]
  },
  {
   "cell_type": "code",
   "execution_count": 27,
   "id": "6bf5afb4-8d1e-425a-8ed2-335fde6008b6",
   "metadata": {},
   "outputs": [
    {
     "data": {
      "text/plain": [
       "'comp9021'"
      ]
     },
     "execution_count": 27,
     "metadata": {},
     "output_type": "execute_result"
    }
   ],
   "source": [
    "'comp' + '9021'"
   ]
  },
  {
   "cell_type": "code",
   "execution_count": 29,
   "id": "fbd3505c-94eb-4a93-bda2-5e72bed2a672",
   "metadata": {},
   "outputs": [
    {
     "ename": "TypeError",
     "evalue": "can only concatenate str (not \"int\") to str",
     "output_type": "error",
     "traceback": [
      "\u001b[0;31m---------------------------------------------------------------------------\u001b[0m",
      "\u001b[0;31mTypeError\u001b[0m                                 Traceback (most recent call last)",
      "Input \u001b[0;32mIn [29]\u001b[0m, in \u001b[0;36m<module>\u001b[0;34m\u001b[0m\n\u001b[0;32m----> 1\u001b[0m \u001b[38;5;124;43m'\u001b[39;49m\u001b[38;5;124;43mcomp\u001b[39;49m\u001b[38;5;124;43m'\u001b[39;49m\u001b[43m \u001b[49m\u001b[38;5;241;43m+\u001b[39;49m\u001b[43m \u001b[49m\u001b[38;5;241;43m9021\u001b[39;49m\n",
      "\u001b[0;31mTypeError\u001b[0m: can only concatenate str (not \"int\") to str"
     ]
    }
   ],
   "source": [
    "'comp' + 9021"
   ]
  },
  {
   "cell_type": "code",
   "execution_count": 28,
   "id": "d18dec0b-b9ad-4752-afa5-43d9321cc54c",
   "metadata": {},
   "outputs": [
    {
     "data": {
      "text/plain": [
       "[1, 3, 5, 7, 8]"
      ]
     },
     "execution_count": 28,
     "metadata": {},
     "output_type": "execute_result"
    }
   ],
   "source": [
    "[1, 3, 5] + [7, 8]"
   ]
  },
  {
   "cell_type": "code",
   "execution_count": 30,
   "id": "1660456c-79ce-4d4a-92d4-95e153084a50",
   "metadata": {},
   "outputs": [
    {
     "data": {
      "text/plain": [
       "'compcompcompcomp'"
      ]
     },
     "execution_count": 30,
     "metadata": {},
     "output_type": "execute_result"
    }
   ],
   "source": [
    "'comp' * 4"
   ]
  },
  {
   "cell_type": "code",
   "execution_count": 31,
   "id": "80f7a3c2-ee71-4f1f-8e8a-c87c35c52f21",
   "metadata": {},
   "outputs": [
    {
     "data": {
      "text/plain": [
       "'compcompcompcomp'"
      ]
     },
     "execution_count": 31,
     "metadata": {},
     "output_type": "execute_result"
    }
   ],
   "source": [
    "4 * 'comp'"
   ]
  },
  {
   "cell_type": "code",
   "execution_count": 32,
   "id": "f2055aaf-c367-4c54-9c23-ebc6b5b5db61",
   "metadata": {},
   "outputs": [
    {
     "data": {
      "text/plain": [
       "'comp'"
      ]
     },
     "execution_count": 32,
     "metadata": {},
     "output_type": "execute_result"
    }
   ],
   "source": [
    "'comp' * 1"
   ]
  },
  {
   "cell_type": "code",
   "execution_count": 33,
   "id": "4caa8f72-abb4-481f-9899-013edadb814a",
   "metadata": {},
   "outputs": [
    {
     "data": {
      "text/plain": [
       "''"
      ]
     },
     "execution_count": 33,
     "metadata": {},
     "output_type": "execute_result"
    }
   ],
   "source": [
    "'comp' * 0"
   ]
  },
  {
   "cell_type": "code",
   "execution_count": 34,
   "id": "79df11b1-5d81-42eb-913f-bd08f5a67095",
   "metadata": {},
   "outputs": [
    {
     "data": {
      "text/plain": [
       "[1, 3, 5, 1, 3, 5, 1, 3, 5]"
      ]
     },
     "execution_count": 34,
     "metadata": {},
     "output_type": "execute_result"
    }
   ],
   "source": [
    "[1, 3, 5] * 3"
   ]
  },
  {
   "cell_type": "code",
   "execution_count": 35,
   "id": "1f9883f5-dcf5-4c68-a54c-b534945403d2",
   "metadata": {},
   "outputs": [
    {
     "data": {
      "text/plain": [
       "[0, 0, 0, 1, 1, 1, 1, 1, 1, 1, 1, 1, 1, 1, 1, 0, 0, 0]"
      ]
     },
     "execution_count": 35,
     "metadata": {},
     "output_type": "execute_result"
    }
   ],
   "source": [
    "[0] * 3 + [1] * 12 + [0] * 3"
   ]
  },
  {
   "cell_type": "code",
   "execution_count": 36,
   "id": "d5a58e5c-40eb-448c-96bf-bcb7b5815c84",
   "metadata": {},
   "outputs": [
    {
     "data": {
      "text/plain": [
       "''"
      ]
     },
     "execution_count": 36,
     "metadata": {},
     "output_type": "execute_result"
    }
   ],
   "source": [
    "'comp' * -4"
   ]
  },
  {
   "cell_type": "code",
   "execution_count": 37,
   "id": "043ab93b-35cc-44a6-8f84-5d682e6ef7c7",
   "metadata": {},
   "outputs": [
    {
     "data": {
      "text/plain": [
       "[]"
      ]
     },
     "execution_count": 37,
     "metadata": {},
     "output_type": "execute_result"
    }
   ],
   "source": [
    "[1, 3, 5] * -3"
   ]
  },
  {
   "cell_type": "code",
   "execution_count": 38,
   "id": "2b314307-f2ff-4dd6-a975-e479813f5f70",
   "metadata": {},
   "outputs": [
    {
     "ename": "IndentationError",
     "evalue": "expected an indented block after function definition on line 1 (2195635014.py, line 1)",
     "output_type": "error",
     "traceback": [
      "\u001b[0;36m  Input \u001b[0;32mIn [38]\u001b[0;36m\u001b[0m\n\u001b[0;31m    def draw_tape():\u001b[0m\n\u001b[0m                    ^\u001b[0m\n\u001b[0;31mIndentationError\u001b[0m\u001b[0;31m:\u001b[0m expected an indented block after function definition on line 1\n"
     ]
    }
   ],
   "source": [
    "def draw_tape():"
   ]
  },
  {
   "cell_type": "code",
   "execution_count": 39,
   "id": "400df8ab-2953-4670-9f95-1bfe378c62db",
   "metadata": {},
   "outputs": [],
   "source": [
    "def draw_tape():\n",
    "    pass"
   ]
  },
  {
   "cell_type": "code",
   "execution_count": 40,
   "id": "3cb3f302-20a3-4019-9d42-b498a0c87cad",
   "metadata": {},
   "outputs": [],
   "source": [
    "def greet(name):\n",
    "    print(f'Hi {name}!')"
   ]
  },
  {
   "cell_type": "code",
   "execution_count": 41,
   "id": "04afb3c7-dfbf-46e8-99bf-1671d127b8ae",
   "metadata": {},
   "outputs": [],
   "source": [
    "draw_tape()"
   ]
  },
  {
   "cell_type": "code",
   "execution_count": 42,
   "id": "be2fdc41-2ebd-40ca-94a0-077484cf6e0e",
   "metadata": {},
   "outputs": [
    {
     "name": "stdout",
     "output_type": "stream",
     "text": [
      "None\n"
     ]
    }
   ],
   "source": [
    "print(draw_tape())"
   ]
  },
  {
   "cell_type": "code",
   "execution_count": 43,
   "id": "958ded6a-5764-4f8e-a851-991a5b48dc91",
   "metadata": {},
   "outputs": [
    {
     "name": "stdout",
     "output_type": "stream",
     "text": [
      "Hi Lina!\n"
     ]
    }
   ],
   "source": [
    "greet('Lina')"
   ]
  },
  {
   "cell_type": "code",
   "execution_count": 44,
   "id": "5824dc24-b11b-4c6c-9a18-4e3a4f2272bc",
   "metadata": {},
   "outputs": [
    {
     "name": "stdout",
     "output_type": "stream",
     "text": [
      "Hi Lina!\n",
      "None\n"
     ]
    }
   ],
   "source": [
    "print(greet('Lina'))"
   ]
  },
  {
   "cell_type": "code",
   "execution_count": 45,
   "id": "7296c89f-d470-4381-b16a-8513798fbf68",
   "metadata": {},
   "outputs": [],
   "source": [
    "def f():\n",
    "    return None"
   ]
  },
  {
   "cell_type": "code",
   "execution_count": 46,
   "id": "39d433a3-22c7-4605-a443-27a7a74bb8ec",
   "metadata": {},
   "outputs": [
    {
     "name": "stdout",
     "output_type": "stream",
     "text": [
      "None\n"
     ]
    }
   ],
   "source": [
    "print(f())"
   ]
  },
  {
   "cell_type": "code",
   "execution_count": 47,
   "id": "c8315b94-8233-4bd8-8ecc-cb3755841488",
   "metadata": {},
   "outputs": [],
   "source": [
    "def g():\n",
    "    return 2"
   ]
  },
  {
   "cell_type": "code",
   "execution_count": 48,
   "id": "c11ed621-df68-4738-8a86-b8c1056c90b9",
   "metadata": {},
   "outputs": [
    {
     "data": {
      "text/plain": [
       "2"
      ]
     },
     "execution_count": 48,
     "metadata": {},
     "output_type": "execute_result"
    }
   ],
   "source": [
    "g()"
   ]
  },
  {
   "cell_type": "code",
   "execution_count": 49,
   "id": "af467641-fedc-40bc-9cc5-1563c8903714",
   "metadata": {},
   "outputs": [
    {
     "name": "stdout",
     "output_type": "stream",
     "text": [
      "2\n"
     ]
    }
   ],
   "source": [
    "print(g())"
   ]
  },
  {
   "cell_type": "code",
   "execution_count": 50,
   "id": "cd720ce6-b702-4bb3-a73c-5ce9229569fd",
   "metadata": {},
   "outputs": [],
   "source": [
    "def draw_tape():\n",
    "    draw_boundary()\n",
    "    # Print out cell contents\n",
    "    draw_boundary()"
   ]
  },
  {
   "cell_type": "code",
   "execution_count": 51,
   "id": "c1685f4d-58aa-4a5f-a21f-121ea0bde555",
   "metadata": {},
   "outputs": [
    {
     "ename": "NameError",
     "evalue": "name 'draw_boundary' is not defined",
     "output_type": "error",
     "traceback": [
      "\u001b[0;31m---------------------------------------------------------------------------\u001b[0m",
      "\u001b[0;31mNameError\u001b[0m                                 Traceback (most recent call last)",
      "Input \u001b[0;32mIn [51]\u001b[0m, in \u001b[0;36m<module>\u001b[0;34m\u001b[0m\n\u001b[0;32m----> 1\u001b[0m \u001b[43mdraw_tape\u001b[49m\u001b[43m(\u001b[49m\u001b[43m)\u001b[49m\n",
      "Input \u001b[0;32mIn [50]\u001b[0m, in \u001b[0;36mdraw_tape\u001b[0;34m()\u001b[0m\n\u001b[1;32m      1\u001b[0m \u001b[38;5;28;01mdef\u001b[39;00m \u001b[38;5;21mdraw_tape\u001b[39m():\n\u001b[0;32m----> 2\u001b[0m     \u001b[43mdraw_boundary\u001b[49m()\n\u001b[1;32m      3\u001b[0m     \u001b[38;5;66;03m# Print out cell contents\u001b[39;00m\n\u001b[1;32m      4\u001b[0m     draw_boundary()\n",
      "\u001b[0;31mNameError\u001b[0m: name 'draw_boundary' is not defined"
     ]
    }
   ],
   "source": [
    "draw_tape()"
   ]
  },
  {
   "cell_type": "code",
   "execution_count": 53,
   "id": "c2c64f49-be59-49b3-a1e0-883b9df526ac",
   "metadata": {},
   "outputs": [
    {
     "data": {
      "text/plain": [
       "[0, 0, 0, 1, 1, 1, 1, 1, 1, 1, 1, 1, 1, 1, 1, 0, 0, 0]"
      ]
     },
     "execution_count": 53,
     "metadata": {},
     "output_type": "execute_result"
    }
   ],
   "source": [
    "tape = [0] * 3 + [1] * 12 + [0] * 3\n",
    "tape"
   ]
  },
  {
   "cell_type": "code",
   "execution_count": 55,
   "id": "76767f83-b0dd-44a5-915a-3b81e9bcda99",
   "metadata": {},
   "outputs": [],
   "source": [
    "def draw_boundary():\n",
    "    print('-' * (2 * len(L) + 1))"
   ]
  },
  {
   "cell_type": "code",
   "execution_count": 56,
   "id": "7c9c1a10-cd11-4540-9a74-d4f9a3df187f",
   "metadata": {},
   "outputs": [
    {
     "name": "stdout",
     "output_type": "stream",
     "text": [
      "---------------\n",
      "---------------\n"
     ]
    }
   ],
   "source": [
    "draw_tape()"
   ]
  },
  {
   "cell_type": "code",
   "execution_count": 59,
   "id": "2c3abdc9-8f4d-4870-b432-0aeeb32cdddb",
   "metadata": {},
   "outputs": [
    {
     "data": {
      "text/plain": [
       "int"
      ]
     },
     "execution_count": 59,
     "metadata": {},
     "output_type": "execute_result"
    },
    {
     "data": {
      "text/plain": [
       "str"
      ]
     },
     "execution_count": 59,
     "metadata": {},
     "output_type": "execute_result"
    },
    {
     "data": {
      "text/plain": [
       "'0'"
      ]
     },
     "execution_count": 59,
     "metadata": {},
     "output_type": "execute_result"
    },
    {
     "data": {
      "text/plain": [
       "0"
      ]
     },
     "execution_count": 59,
     "metadata": {},
     "output_type": "execute_result"
    }
   ],
   "source": [
    "type(0)\n",
    "type('0')\n",
    "str(0)\n",
    "int('0')"
   ]
  },
  {
   "cell_type": "code",
   "execution_count": 60,
   "id": "cf8b10cd-cc37-41d6-90fe-cfbc91cd1d20",
   "metadata": {},
   "outputs": [
    {
     "ename": "ValueError",
     "evalue": "invalid literal for int() with base 10: '-'",
     "output_type": "error",
     "traceback": [
      "\u001b[0;31m---------------------------------------------------------------------------\u001b[0m",
      "\u001b[0;31mValueError\u001b[0m                                Traceback (most recent call last)",
      "Input \u001b[0;32mIn [60]\u001b[0m, in \u001b[0;36m<module>\u001b[0;34m\u001b[0m\n\u001b[0;32m----> 1\u001b[0m \u001b[38;5;28;43mint\u001b[39;49m\u001b[43m(\u001b[49m\u001b[38;5;124;43m'\u001b[39;49m\u001b[38;5;124;43m-\u001b[39;49m\u001b[38;5;124;43m'\u001b[39;49m\u001b[43m)\u001b[49m\n",
      "\u001b[0;31mValueError\u001b[0m: invalid literal for int() with base 10: '-'"
     ]
    }
   ],
   "source": [
    "int('-')"
   ]
  },
  {
   "cell_type": "code",
   "execution_count": 62,
   "id": "2c6d2cf1-70c0-4cb3-aaff-bd737e43a81d",
   "metadata": {},
   "outputs": [
    {
     "data": {
      "text/plain": [
       "[1, 1, 1, 3, 3, 3, 3, 3, 3, 3, 3, 3, 3, 3, 3, 1, 1, 1]"
      ]
     },
     "execution_count": 62,
     "metadata": {},
     "output_type": "execute_result"
    }
   ],
   "source": [
    "[2 * x + 1 for x in tape]"
   ]
  },
  {
   "cell_type": "code",
   "execution_count": 63,
   "id": "60c22116-c8ff-43b2-ba0e-1649ef44e399",
   "metadata": {},
   "outputs": [
    {
     "data": {
      "text/plain": [
       "['0',\n",
       " '0',\n",
       " '0',\n",
       " '1',\n",
       " '1',\n",
       " '1',\n",
       " '1',\n",
       " '1',\n",
       " '1',\n",
       " '1',\n",
       " '1',\n",
       " '1',\n",
       " '1',\n",
       " '1',\n",
       " '1',\n",
       " '0',\n",
       " '0',\n",
       " '0']"
      ]
     },
     "execution_count": 63,
     "metadata": {},
     "output_type": "execute_result"
    }
   ],
   "source": [
    "[str(e) for e in tape]"
   ]
  },
  {
   "cell_type": "code",
   "execution_count": 64,
   "id": "ab6ab3f8-fbc8-471c-877a-8f80ce990442",
   "metadata": {},
   "outputs": [
    {
     "name": "stdout",
     "output_type": "stream",
     "text": [
      "['0', '0', '0', '1', '1', '1', '1', '1', '1', '1', '1', '1', '1', '1', '1', '0', '0', '0']\n"
     ]
    }
   ],
   "source": [
    "print([str(e) for e in tape])"
   ]
  },
  {
   "cell_type": "code",
   "execution_count": 65,
   "id": "1393733f-405d-48eb-9a07-104be89f29b6",
   "metadata": {},
   "outputs": [
    {
     "data": {
      "text/plain": [
       "'0***0***0***1***1***1***1***1***1***1***1***1***1***1***1***0***0***0'"
      ]
     },
     "execution_count": 65,
     "metadata": {},
     "output_type": "execute_result"
    }
   ],
   "source": [
    "'***'.join([str(e) for e in tape])"
   ]
  },
  {
   "cell_type": "code",
   "execution_count": 66,
   "id": "b18c441c-24f3-47de-9667-07364371804c",
   "metadata": {},
   "outputs": [
    {
     "data": {
      "text/plain": [
       "'000111111111111000'"
      ]
     },
     "execution_count": 66,
     "metadata": {},
     "output_type": "execute_result"
    }
   ],
   "source": [
    "''.join([str(e) for e in tape])"
   ]
  },
  {
   "cell_type": "code",
   "execution_count": 67,
   "id": "62e00da5-ef69-4ebe-b147-58cdf386fceb",
   "metadata": {},
   "outputs": [
    {
     "data": {
      "text/plain": [
       "'0|0|0|1|1|1|1|1|1|1|1|1|1|1|1|0|0|0'"
      ]
     },
     "execution_count": 67,
     "metadata": {},
     "output_type": "execute_result"
    }
   ],
   "source": [
    "'|'.join([str(e) for e in tape])"
   ]
  },
  {
   "cell_type": "code",
   "execution_count": 68,
   "id": "996744b5-4d25-4dcb-9afa-3550b9fafb29",
   "metadata": {},
   "outputs": [
    {
     "data": {
      "text/plain": [
       "'|0|0|0|1|1|1|1|1|1|1|1|1|1|1|1|0|0|0|'"
      ]
     },
     "execution_count": 68,
     "metadata": {},
     "output_type": "execute_result"
    }
   ],
   "source": [
    "'|' + '|'.join([str(e) for e in tape]) + '|'"
   ]
  },
  {
   "cell_type": "code",
   "execution_count": 71,
   "id": "cebbdec2-b05c-411e-8111-a029c3695cac",
   "metadata": {},
   "outputs": [
    {
     "data": {
      "text/plain": [
       "[0, 0, 0, 1, 1, 1, 1, 1, 1, 1, 1, 1, 1, 1, 1, 0, 0, 0]"
      ]
     },
     "execution_count": 71,
     "metadata": {},
     "output_type": "execute_result"
    }
   ],
   "source": [
    "tape"
   ]
  },
  {
   "cell_type": "code",
   "execution_count": 72,
   "id": "02710369-e8df-4a6e-8184-361942144175",
   "metadata": {},
   "outputs": [],
   "source": [
    "def draw_boundary():\n",
    "    print('-' * (2 * len(tape) + 1))"
   ]
  },
  {
   "cell_type": "code",
   "execution_count": 69,
   "id": "b41c631b-b23e-4e50-8c2a-4c682b2c7d67",
   "metadata": {},
   "outputs": [],
   "source": [
    "def draw_tape():\n",
    "    draw_boundary()\n",
    "    print('|', '|'.join([str(e) for e in tape]), '|')\n",
    "    draw_boundary()"
   ]
  },
  {
   "cell_type": "code",
   "execution_count": 73,
   "id": "1c1094c0-4600-4c90-9699-9ab6abdcfe28",
   "metadata": {},
   "outputs": [
    {
     "name": "stdout",
     "output_type": "stream",
     "text": [
      "-------------------------------------\n",
      "| 0|0|0|1|1|1|1|1|1|1|1|1|1|1|1|0|0|0 |\n",
      "-------------------------------------\n"
     ]
    }
   ],
   "source": [
    "draw_tape()"
   ]
  },
  {
   "cell_type": "code",
   "execution_count": 76,
   "id": "860a7556-7cdd-46d0-9e25-af78483d17ca",
   "metadata": {},
   "outputs": [],
   "source": [
    "e = 10\n",
    "\n",
    "def draw_tape():\n",
    "    draw_boundary()\n",
    "    print('|', '|'.join([str(e) for e in tape]), '|', sep='')\n",
    "    draw_boundary()\n",
    "    \n"
   ]
  },
  {
   "cell_type": "code",
   "execution_count": 77,
   "id": "fddb61ad-53d7-4293-8e6e-af8b6fa01e17",
   "metadata": {},
   "outputs": [
    {
     "name": "stdout",
     "output_type": "stream",
     "text": [
      "10\n",
      "-------------------------------------\n",
      "|0|0|0|1|1|1|1|1|1|1|1|1|1|1|1|0|0|0|\n",
      "-------------------------------------\n",
      "10\n"
     ]
    }
   ],
   "source": [
    "print(e)\n",
    "draw_tape()\n",
    "print(e)"
   ]
  },
  {
   "cell_type": "code",
   "execution_count": 81,
   "id": "7725a81d-8445-4e42-859b-e04a52223e02",
   "metadata": {},
   "outputs": [
    {
     "data": {
      "text/plain": [
       "[0, 0, 0, 1, 1, 1, 1, 1, 1, 1, 1, 1, 1, 1, 1, 0, 0, 0]"
      ]
     },
     "execution_count": 81,
     "metadata": {},
     "output_type": "execute_result"
    }
   ],
   "source": [
    "tape"
   ]
  },
  {
   "cell_type": "code",
   "execution_count": 86,
   "id": "14288035-30c9-434c-a136-b9866da1e4d5",
   "metadata": {},
   "outputs": [
    {
     "data": {
      "text/plain": [
       "<generator object <genexpr> at 0x10d80dcb0>"
      ]
     },
     "execution_count": 86,
     "metadata": {},
     "output_type": "execute_result"
    }
   ],
   "source": [
    "E = (str(e) for e in tape)\n",
    "E"
   ]
  },
  {
   "cell_type": "code",
   "execution_count": 80,
   "id": "7010af20-fb76-4e79-a048-a822bd356858",
   "metadata": {},
   "outputs": [
    {
     "data": {
      "text/plain": [
       "'0'"
      ]
     },
     "execution_count": 80,
     "metadata": {},
     "output_type": "execute_result"
    },
    {
     "data": {
      "text/plain": [
       "'0'"
      ]
     },
     "execution_count": 80,
     "metadata": {},
     "output_type": "execute_result"
    },
    {
     "data": {
      "text/plain": [
       "'0'"
      ]
     },
     "execution_count": 80,
     "metadata": {},
     "output_type": "execute_result"
    },
    {
     "data": {
      "text/plain": [
       "'1'"
      ]
     },
     "execution_count": 80,
     "metadata": {},
     "output_type": "execute_result"
    }
   ],
   "source": [
    "next(E)\n",
    "next(E)\n",
    "next(E)\n",
    "next(E)\n"
   ]
  },
  {
   "cell_type": "code",
   "execution_count": 82,
   "id": "b0e114fa-f1f2-499d-9e1c-40b32498eabe",
   "metadata": {},
   "outputs": [],
   "source": [
    "def draw_tape():\n",
    "    draw_boundary()\n",
    "    print('|', '|'.join((str(e) for e in tape)), '|', sep='')\n",
    "    draw_boundary()"
   ]
  },
  {
   "cell_type": "code",
   "execution_count": 83,
   "id": "2e26310d-6f68-4581-a641-f636175e5432",
   "metadata": {},
   "outputs": [
    {
     "name": "stdout",
     "output_type": "stream",
     "text": [
      "-------------------------------------\n",
      "|0|0|0|1|1|1|1|1|1|1|1|1|1|1|1|0|0|0|\n",
      "-------------------------------------\n"
     ]
    }
   ],
   "source": [
    "draw_tape()"
   ]
  },
  {
   "cell_type": "code",
   "execution_count": 84,
   "id": "8ca5eb52-e631-44a4-ab4b-b89dea4dcb69",
   "metadata": {},
   "outputs": [],
   "source": [
    "def draw_tape():\n",
    "    draw_boundary()\n",
    "    print('|', '|'.join(str(e) for e in tape), '|', sep='')\n",
    "    draw_boundary()"
   ]
  },
  {
   "cell_type": "code",
   "execution_count": 85,
   "id": "17aabe5d-ae28-40f9-b412-6fe44d744f6b",
   "metadata": {},
   "outputs": [
    {
     "name": "stdout",
     "output_type": "stream",
     "text": [
      "-------------------------------------\n",
      "|0|0|0|1|1|1|1|1|1|1|1|1|1|1|1|0|0|0|\n",
      "-------------------------------------\n"
     ]
    }
   ],
   "source": [
    "draw_tape()"
   ]
  },
  {
   "cell_type": "code",
   "execution_count": 87,
   "id": "9020cd6a-fbb2-41c5-b417-6eb63b9d2d40",
   "metadata": {},
   "outputs": [
    {
     "data": {
      "text/plain": [
       "['0',\n",
       " '0',\n",
       " '0',\n",
       " '1',\n",
       " '1',\n",
       " '1',\n",
       " '1',\n",
       " '1',\n",
       " '1',\n",
       " '1',\n",
       " '1',\n",
       " '1',\n",
       " '1',\n",
       " '1',\n",
       " '1',\n",
       " '0',\n",
       " '0',\n",
       " '0']"
      ]
     },
     "execution_count": 87,
     "metadata": {},
     "output_type": "execute_result"
    }
   ],
   "source": [
    "E = (str(e) for e in tape)\n",
    "list(E)"
   ]
  },
  {
   "cell_type": "code",
   "execution_count": 88,
   "id": "ab88da60-3f96-4257-9335-1d7cfe1f6c37",
   "metadata": {},
   "outputs": [
    {
     "data": {
      "text/plain": [
       "'/Users/ericmartin'"
      ]
     },
     "execution_count": 88,
     "metadata": {},
     "output_type": "execute_result"
    }
   ],
   "source": [
    "pwd"
   ]
  },
  {
   "cell_type": "code",
   "execution_count": 89,
   "id": "0cea6d6f-c954-4d9f-94d1-fadd41eaf1a1",
   "metadata": {},
   "outputs": [
    {
     "name": "stdout",
     "output_type": "stream",
     "text": [
      "# Initial state: del1\n",
      "\n",
      "del1 1 del2 0 R\n",
      "del2 1 mov1R 0 R\n",
      "mov1R 1 mov1R 1 R\n",
      "mov1R 0 mov2R 0 R\n",
      "mov2R 1 mov2R 1 R\n",
      "mov2R 0 mov1L 1 L\n",
      "mov1L 1 mov1L 1 L\n",
      "mov1L 0 mov2L 0 L\n",
      "mov2L 1 mov2L 1 L\n",
      "mov2L 0 del1 0 R\n",
      "del1 0 end 0 R\n",
      "del2 0 end 0 R\n"
     ]
    }
   ],
   "source": [
    "cat division_by_2.txt"
   ]
  },
  {
   "cell_type": "code",
   "execution_count": 90,
   "id": "9d639324-3ef6-4589-84a4-e5a6fbb2dd4d",
   "metadata": {},
   "outputs": [
    {
     "data": {
      "text/plain": [
       "'# Initial state: del1\\n'"
      ]
     },
     "execution_count": 90,
     "metadata": {},
     "output_type": "execute_result"
    },
    {
     "data": {
      "text/plain": [
       "'\\n'"
      ]
     },
     "execution_count": 90,
     "metadata": {},
     "output_type": "execute_result"
    },
    {
     "data": {
      "text/plain": [
       "'del1 1 del2 0 R\\n'"
      ]
     },
     "execution_count": 90,
     "metadata": {},
     "output_type": "execute_result"
    }
   ],
   "source": [
    "with open('division_by_2.txt') as file_handle:\n",
    "    next(file_handle)\n",
    "    next(file_handle)\n",
    "    next(file_handle)"
   ]
  },
  {
   "cell_type": "code",
   "execution_count": 95,
   "id": "3b10c684-1d49-4f32-8349-94e057de66b2",
   "metadata": {},
   "outputs": [
    {
     "data": {
      "text/plain": [
       "'# Initial state: del1\\n'"
      ]
     },
     "execution_count": 95,
     "metadata": {},
     "output_type": "execute_result"
    },
    {
     "data": {
      "text/plain": [
       "'\\n'"
      ]
     },
     "execution_count": 95,
     "metadata": {},
     "output_type": "execute_result"
    },
    {
     "data": {
      "text/plain": [
       "'del1 1 del2 0 R\\n'"
      ]
     },
     "execution_count": 95,
     "metadata": {},
     "output_type": "execute_result"
    },
    {
     "data": {
      "text/plain": [
       "'del2 1 mov1R 0 R\\n'"
      ]
     },
     "execution_count": 95,
     "metadata": {},
     "output_type": "execute_result"
    },
    {
     "data": {
      "text/plain": [
       "'mov1R 1 mov1R 1 R\\n'"
      ]
     },
     "execution_count": 95,
     "metadata": {},
     "output_type": "execute_result"
    },
    {
     "data": {
      "text/plain": [
       "'mov1R 0 mov2R 0 R\\n'"
      ]
     },
     "execution_count": 95,
     "metadata": {},
     "output_type": "execute_result"
    },
    {
     "data": {
      "text/plain": [
       "'mov2R 1 mov2R 1 R\\n'"
      ]
     },
     "execution_count": 95,
     "metadata": {},
     "output_type": "execute_result"
    },
    {
     "data": {
      "text/plain": [
       "'mov2R 0 mov1L 1 L\\n'"
      ]
     },
     "execution_count": 95,
     "metadata": {},
     "output_type": "execute_result"
    },
    {
     "data": {
      "text/plain": [
       "'mov1L 1 mov1L 1 L\\n'"
      ]
     },
     "execution_count": 95,
     "metadata": {},
     "output_type": "execute_result"
    },
    {
     "data": {
      "text/plain": [
       "'mov1L 0 mov2L 0 L\\n'"
      ]
     },
     "execution_count": 95,
     "metadata": {},
     "output_type": "execute_result"
    },
    {
     "data": {
      "text/plain": [
       "'mov2L 1 mov2L 1 L\\n'"
      ]
     },
     "execution_count": 95,
     "metadata": {},
     "output_type": "execute_result"
    },
    {
     "data": {
      "text/plain": [
       "'mov2L 0 del1 0 R\\n'"
      ]
     },
     "execution_count": 95,
     "metadata": {},
     "output_type": "execute_result"
    },
    {
     "data": {
      "text/plain": [
       "'del1 0 end 0 R\\n'"
      ]
     },
     "execution_count": 95,
     "metadata": {},
     "output_type": "execute_result"
    },
    {
     "data": {
      "text/plain": [
       "'del2 0 end 0 R\\n'"
      ]
     },
     "execution_count": 95,
     "metadata": {},
     "output_type": "execute_result"
    },
    {
     "data": {
      "text/plain": [
       "''"
      ]
     },
     "execution_count": 95,
     "metadata": {},
     "output_type": "execute_result"
    },
    {
     "data": {
      "text/plain": [
       "''"
      ]
     },
     "execution_count": 95,
     "metadata": {},
     "output_type": "execute_result"
    },
    {
     "data": {
      "text/plain": [
       "''"
      ]
     },
     "execution_count": 95,
     "metadata": {},
     "output_type": "execute_result"
    },
    {
     "data": {
      "text/plain": [
       "''"
      ]
     },
     "execution_count": 95,
     "metadata": {},
     "output_type": "execute_result"
    },
    {
     "data": {
      "text/plain": [
       "''"
      ]
     },
     "execution_count": 95,
     "metadata": {},
     "output_type": "execute_result"
    },
    {
     "data": {
      "text/plain": [
       "''"
      ]
     },
     "execution_count": 95,
     "metadata": {},
     "output_type": "execute_result"
    },
    {
     "data": {
      "text/plain": [
       "''"
      ]
     },
     "execution_count": 95,
     "metadata": {},
     "output_type": "execute_result"
    }
   ],
   "source": [
    "with open('division_by_2.txt') as file_handle:\n",
    "    file_handle.readline()\n",
    "    file_handle.readline()\n",
    "    file_handle.readline()\n",
    "    file_handle.readline()\n",
    "    file_handle.readline()\n",
    "    file_handle.readline()\n",
    "    file_handle.readline()\n",
    "    file_handle.readline()\n",
    "    file_handle.readline()\n",
    "    file_handle.readline()\n",
    "    file_handle.readline()\n",
    "    file_handle.readline()\n",
    "    file_handle.readline()\n",
    "    file_handle.readline()\n",
    "    file_handle.readline()\n",
    "    file_handle.readline()\n",
    "    file_handle.readline()\n",
    "    file_handle.readline()\n",
    "    file_handle.readline()\n",
    "    file_handle.readline()\n",
    "    file_handle.readline()"
   ]
  },
  {
   "cell_type": "code",
   "execution_count": 96,
   "id": "22b2d375-9ee2-4c39-8196-94447af7ba97",
   "metadata": {},
   "outputs": [
    {
     "data": {
      "text/plain": [
       "['# Initial state: del1\\n',\n",
       " '\\n',\n",
       " 'del1 1 del2 0 R\\n',\n",
       " 'del2 1 mov1R 0 R\\n',\n",
       " 'mov1R 1 mov1R 1 R\\n',\n",
       " 'mov1R 0 mov2R 0 R\\n',\n",
       " 'mov2R 1 mov2R 1 R\\n',\n",
       " 'mov2R 0 mov1L 1 L\\n',\n",
       " 'mov1L 1 mov1L 1 L\\n',\n",
       " 'mov1L 0 mov2L 0 L\\n',\n",
       " 'mov2L 1 mov2L 1 L\\n',\n",
       " 'mov2L 0 del1 0 R\\n',\n",
       " 'del1 0 end 0 R\\n',\n",
       " 'del2 0 end 0 R\\n']"
      ]
     },
     "execution_count": 96,
     "metadata": {},
     "output_type": "execute_result"
    }
   ],
   "source": [
    "with open('division_by_2.txt') as file_handle:\n",
    "    file_handle.readlines()"
   ]
  },
  {
   "cell_type": "code",
   "execution_count": 97,
   "id": "d993021c-049c-4e8f-8610-d324b697fbcb",
   "metadata": {},
   "outputs": [
    {
     "name": "stdout",
     "output_type": "stream",
     "text": [
      "# Initial state: del1\n",
      "\n",
      "\n",
      "\n",
      "del1 1 del2 0 R\n",
      "\n",
      "del2 1 mov1R 0 R\n",
      "\n",
      "mov1R 1 mov1R 1 R\n",
      "\n",
      "mov1R 0 mov2R 0 R\n",
      "\n",
      "mov2R 1 mov2R 1 R\n",
      "\n",
      "mov2R 0 mov1L 1 L\n",
      "\n",
      "mov1L 1 mov1L 1 L\n",
      "\n",
      "mov1L 0 mov2L 0 L\n",
      "\n",
      "mov2L 1 mov2L 1 L\n",
      "\n",
      "mov2L 0 del1 0 R\n",
      "\n",
      "del1 0 end 0 R\n",
      "\n",
      "del2 0 end 0 R\n",
      "\n"
     ]
    }
   ],
   "source": [
    "with open('division_by_2.txt') as file_handle:\n",
    "    for line in file_handle:\n",
    "        print(line)"
   ]
  },
  {
   "cell_type": "code",
   "execution_count": 98,
   "id": "8e559b1e-040a-44eb-9af7-7f8c471fc3c0",
   "metadata": {},
   "outputs": [
    {
     "name": "stdout",
     "output_type": "stream",
     "text": [
      "# Initial state: del1\n",
      "\n",
      "del1 1 del2 0 R\n",
      "del2 1 mov1R 0 R\n",
      "mov1R 1 mov1R 1 R\n",
      "mov1R 0 mov2R 0 R\n",
      "mov2R 1 mov2R 1 R\n",
      "mov2R 0 mov1L 1 L\n",
      "mov1L 1 mov1L 1 L\n",
      "mov1L 0 mov2L 0 L\n",
      "mov2L 1 mov2L 1 L\n",
      "mov2L 0 del1 0 R\n",
      "del1 0 end 0 R\n",
      "del2 0 end 0 R\n"
     ]
    }
   ],
   "source": [
    "with open('division_by_2.txt') as file_handle:\n",
    "    for line in file_handle:\n",
    "        print(line, end='')"
   ]
  },
  {
   "cell_type": "code",
   "execution_count": 99,
   "id": "b18ecd86-6171-4f62-ae4f-f1d45ac01375",
   "metadata": {},
   "outputs": [
    {
     "data": {
      "text/plain": [
       "['__add__',\n",
       " '__class__',\n",
       " '__contains__',\n",
       " '__delattr__',\n",
       " '__dir__',\n",
       " '__doc__',\n",
       " '__eq__',\n",
       " '__format__',\n",
       " '__ge__',\n",
       " '__getattribute__',\n",
       " '__getitem__',\n",
       " '__getnewargs__',\n",
       " '__gt__',\n",
       " '__hash__',\n",
       " '__init__',\n",
       " '__init_subclass__',\n",
       " '__iter__',\n",
       " '__le__',\n",
       " '__len__',\n",
       " '__lt__',\n",
       " '__mod__',\n",
       " '__mul__',\n",
       " '__ne__',\n",
       " '__new__',\n",
       " '__reduce__',\n",
       " '__reduce_ex__',\n",
       " '__repr__',\n",
       " '__rmod__',\n",
       " '__rmul__',\n",
       " '__setattr__',\n",
       " '__sizeof__',\n",
       " '__str__',\n",
       " '__subclasshook__',\n",
       " 'capitalize',\n",
       " 'casefold',\n",
       " 'center',\n",
       " 'count',\n",
       " 'encode',\n",
       " 'endswith',\n",
       " 'expandtabs',\n",
       " 'find',\n",
       " 'format',\n",
       " 'format_map',\n",
       " 'index',\n",
       " 'isalnum',\n",
       " 'isalpha',\n",
       " 'isascii',\n",
       " 'isdecimal',\n",
       " 'isdigit',\n",
       " 'isidentifier',\n",
       " 'islower',\n",
       " 'isnumeric',\n",
       " 'isprintable',\n",
       " 'isspace',\n",
       " 'istitle',\n",
       " 'isupper',\n",
       " 'join',\n",
       " 'ljust',\n",
       " 'lower',\n",
       " 'lstrip',\n",
       " 'maketrans',\n",
       " 'partition',\n",
       " 'removeprefix',\n",
       " 'removesuffix',\n",
       " 'replace',\n",
       " 'rfind',\n",
       " 'rindex',\n",
       " 'rjust',\n",
       " 'rpartition',\n",
       " 'rsplit',\n",
       " 'rstrip',\n",
       " 'split',\n",
       " 'splitlines',\n",
       " 'startswith',\n",
       " 'strip',\n",
       " 'swapcase',\n",
       " 'title',\n",
       " 'translate',\n",
       " 'upper',\n",
       " 'zfill']"
      ]
     },
     "execution_count": 99,
     "metadata": {},
     "output_type": "execute_result"
    }
   ],
   "source": [
    "dir(str)"
   ]
  },
  {
   "cell_type": "code",
   "execution_count": 100,
   "id": "064efbe6-a467-4048-87fc-5bbda9604af7",
   "metadata": {},
   "outputs": [
    {
     "data": {
      "text/plain": [
       "'# initial stat'"
      ]
     },
     "execution_count": 100,
     "metadata": {},
     "output_type": "execute_result"
    }
   ],
   "source": [
    "'# Initial stat'.capitalize()"
   ]
  },
  {
   "cell_type": "code",
   "execution_count": 101,
   "id": "dba72bae-41e3-4ff1-9401-b29cdae1da3b",
   "metadata": {},
   "outputs": [
    {
     "data": {
      "text/plain": [
       "'# INITIAL STAT'"
      ]
     },
     "execution_count": 101,
     "metadata": {},
     "output_type": "execute_result"
    }
   ],
   "source": [
    "'# Initial stat'.upper()"
   ]
  },
  {
   "cell_type": "code",
   "execution_count": 102,
   "id": "185edc7e-271f-43c0-9f9c-b6084ce96db1",
   "metadata": {},
   "outputs": [
    {
     "data": {
      "text/plain": [
       "True"
      ]
     },
     "execution_count": 102,
     "metadata": {},
     "output_type": "execute_result"
    }
   ],
   "source": [
    "'# Initial stat'.startswith('#')"
   ]
  },
  {
   "cell_type": "code",
   "execution_count": 103,
   "id": "9375a8e8-da82-45de-b940-67f353ef7163",
   "metadata": {},
   "outputs": [
    {
     "data": {
      "text/plain": [
       "True"
      ]
     },
     "execution_count": 103,
     "metadata": {},
     "output_type": "execute_result"
    }
   ],
   "source": [
    "'# Initial stat'.startswith('# I')"
   ]
  },
  {
   "cell_type": "code",
   "execution_count": 104,
   "id": "88a0bf81-7c52-4d3c-afa4-27d98e5c2a00",
   "metadata": {},
   "outputs": [
    {
     "data": {
      "text/plain": [
       "False"
      ]
     },
     "execution_count": 104,
     "metadata": {},
     "output_type": "execute_result"
    }
   ],
   "source": [
    "'# Initial stat'.startswith('# IN')"
   ]
  },
  {
   "cell_type": "code",
   "execution_count": 105,
   "id": "7e7cdeae-fb50-471c-bad3-6d59174049ed",
   "metadata": {},
   "outputs": [
    {
     "data": {
      "text/plain": [
       "True"
      ]
     },
     "execution_count": 105,
     "metadata": {},
     "output_type": "execute_result"
    }
   ],
   "source": [
    "'# Initial stat'.startswith('')"
   ]
  },
  {
   "cell_type": "code",
   "execution_count": 106,
   "id": "bb345dfe-58e5-4cb9-815a-6be6e42cfd12",
   "metadata": {},
   "outputs": [
    {
     "name": "stdout",
     "output_type": "stream",
     "text": [
      "\n",
      "del1 1 del2 0 R\n",
      "del2 1 mov1R 0 R\n",
      "mov1R 1 mov1R 1 R\n",
      "mov1R 0 mov2R 0 R\n",
      "mov2R 1 mov2R 1 R\n",
      "mov2R 0 mov1L 1 L\n",
      "mov1L 1 mov1L 1 L\n",
      "mov1L 0 mov2L 0 L\n",
      "mov2L 1 mov2L 1 L\n",
      "mov2L 0 del1 0 R\n",
      "del1 0 end 0 R\n",
      "del2 0 end 0 R\n"
     ]
    }
   ],
   "source": [
    "with open('division_by_2.txt') as file_handle:\n",
    "    for line in file_handle:\n",
    "        if not line.startswith('#'):\n",
    "            print(line, end='')"
   ]
  },
  {
   "cell_type": "code",
   "execution_count": 107,
   "id": "d5883e55-3014-4163-a924-f8d2bec2f428",
   "metadata": {},
   "outputs": [
    {
     "name": "stdout",
     "output_type": "stream",
     "text": [
      "\n",
      "del1 1 del2 0 R\n",
      "del2 1 mov1R 0 R\n",
      "mov1R 1 mov1R 1 R\n",
      "mov1R 0 mov2R 0 R\n",
      "mov2R 1 mov2R 1 R\n",
      "mov2R 0 mov1L 1 L\n",
      "mov1L 1 mov1L 1 L\n",
      "mov1L 0 mov2L 0 L\n",
      "mov2L 1 mov2L 1 L\n",
      "mov2L 0 del1 0 R\n",
      "del1 0 end 0 R\n",
      "del2 0 end 0 R\n"
     ]
    }
   ],
   "source": [
    "with open('division_by_2.txt') as file_handle:\n",
    "    for line in file_handle:\n",
    "        if line.startswith('#'):\n",
    "            continue\n",
    "        print(line, end='')"
   ]
  },
  {
   "cell_type": "code",
   "execution_count": 108,
   "id": "e6bd7384-5cfa-4613-a2b6-edb195b2cecb",
   "metadata": {},
   "outputs": [
    {
     "data": {
      "text/plain": [
       "True"
      ]
     },
     "execution_count": 108,
     "metadata": {},
     "output_type": "execute_result"
    }
   ],
   "source": [
    "'   \\n   \\t\\t'.isspace()"
   ]
  },
  {
   "cell_type": "code",
   "execution_count": 109,
   "id": "cdf69819-54b1-4b01-9200-3314fe0a2d71",
   "metadata": {},
   "outputs": [
    {
     "data": {
      "text/plain": [
       "False"
      ]
     },
     "execution_count": 109,
     "metadata": {},
     "output_type": "execute_result"
    }
   ],
   "source": [
    "'   \\n   A\\t\\t'.isspace()"
   ]
  },
  {
   "cell_type": "code",
   "execution_count": 110,
   "id": "ed867703-e7ea-4300-94bf-6cbac43aedf2",
   "metadata": {},
   "outputs": [
    {
     "data": {
      "text/plain": [
       "False"
      ]
     },
     "execution_count": 110,
     "metadata": {},
     "output_type": "execute_result"
    }
   ],
   "source": [
    "''.isspace()"
   ]
  },
  {
   "cell_type": "code",
   "execution_count": 111,
   "id": "4f71967b-6875-4f4e-8216-08612428f7c7",
   "metadata": {},
   "outputs": [
    {
     "name": "stdout",
     "output_type": "stream",
     "text": [
      "del1 1 del2 0 R\n",
      "del2 1 mov1R 0 R\n",
      "mov1R 1 mov1R 1 R\n",
      "mov1R 0 mov2R 0 R\n",
      "mov2R 1 mov2R 1 R\n",
      "mov2R 0 mov1L 1 L\n",
      "mov1L 1 mov1L 1 L\n",
      "mov1L 0 mov2L 0 L\n",
      "mov2L 1 mov2L 1 L\n",
      "mov2L 0 del1 0 R\n",
      "del1 0 end 0 R\n",
      "del2 0 end 0 R\n"
     ]
    }
   ],
   "source": [
    "with open('division_by_2.txt') as file_handle:\n",
    "    for line in file_handle:\n",
    "        if line.startswith('#'):\n",
    "            continue\n",
    "        if line.isspace():\n",
    "            continue\n",
    "        print(line, end='')"
   ]
  },
  {
   "cell_type": "code",
   "execution_count": 112,
   "id": "0715e733-f808-4b1b-ace9-e662b0d2beed",
   "metadata": {},
   "outputs": [
    {
     "name": "stdout",
     "output_type": "stream",
     "text": [
      "del1 1 del2 0 R\n",
      "del2 1 mov1R 0 R\n",
      "mov1R 1 mov1R 1 R\n",
      "mov1R 0 mov2R 0 R\n",
      "mov2R 1 mov2R 1 R\n",
      "mov2R 0 mov1L 1 L\n",
      "mov1L 1 mov1L 1 L\n",
      "mov1L 0 mov2L 0 L\n",
      "mov2L 1 mov2L 1 L\n",
      "mov2L 0 del1 0 R\n",
      "del1 0 end 0 R\n",
      "del2 0 end 0 R\n"
     ]
    }
   ],
   "source": [
    "with open('division_by_2.txt') as file_handle:\n",
    "    for line in file_handle:\n",
    "        if line.startswith('#'):\n",
    "            continue\n",
    "        if line == '\\n':\n",
    "            continue\n",
    "        print(line, end='')"
   ]
  },
  {
   "cell_type": "code",
   "execution_count": 113,
   "id": "f67c6970-6e5e-4e2d-93fa-66e9bc4d58e8",
   "metadata": {},
   "outputs": [
    {
     "name": "stdout",
     "output_type": "stream",
     "text": [
      "del1 1 del2 0 R\n",
      "del2 1 mov1R 0 R\n",
      "mov1R 1 mov1R 1 R\n",
      "mov1R 0 mov2R 0 R\n",
      "mov2R 1 mov2R 1 R\n",
      "mov2R 0 mov1L 1 L\n",
      "mov1L 1 mov1L 1 L\n",
      "mov1L 0 mov2L 0 L\n",
      "mov2L 1 mov2L 1 L\n",
      "mov2L 0 del1 0 R\n",
      "del1 0 end 0 R\n",
      "del2 0 end 0 R\n"
     ]
    }
   ],
   "source": [
    "with open('division_by_2.txt') as file_handle:\n",
    "    for line in file_handle:\n",
    "        if line.startswith('#') or line.isspace():\n",
    "            continue\n",
    "        print(line, end='')"
   ]
  },
  {
   "cell_type": "code",
   "execution_count": 119,
   "id": "31ba4fd9-529e-4d77-8b03-46015d187af8",
   "metadata": {},
   "outputs": [
    {
     "data": {
      "text/plain": [
       "['del1', '1', 'del2', '0', 'R']"
      ]
     },
     "execution_count": 119,
     "metadata": {},
     "output_type": "execute_result"
    }
   ],
   "source": [
    "'del1 1    del2 \\t\\n  0 R'.split()"
   ]
  },
  {
   "cell_type": "code",
   "execution_count": 121,
   "id": "2dd014db-9340-40a3-8fab-10876442b9ae",
   "metadata": {},
   "outputs": [
    {
     "data": {
      "text/plain": [
       "['del', '', ' ', ' del2 0 R']"
      ]
     },
     "execution_count": 121,
     "metadata": {},
     "output_type": "execute_result"
    }
   ],
   "source": [
    "'del11 1 del2 0 R'.split('1')"
   ]
  },
  {
   "cell_type": "code",
   "execution_count": 122,
   "id": "a8e5d45a-34dc-4f6f-8d89-84df59c4c27a",
   "metadata": {},
   "outputs": [
    {
     "data": {
      "text/plain": [
       "['del', ' 1 del2 0 R']"
      ]
     },
     "execution_count": 122,
     "metadata": {},
     "output_type": "execute_result"
    }
   ],
   "source": [
    "'del11 1 del2 0 R'.split('11')"
   ]
  },
  {
   "cell_type": "code",
   "execution_count": 124,
   "id": "c3658526-48eb-41d5-891e-83b5acc739ed",
   "metadata": {},
   "outputs": [
    {
     "name": "stdout",
     "output_type": "stream",
     "text": [
      "['del1', '1', 'del2', '0', 'R']['del2', '1', 'mov1R', '0', 'R']['mov1R', '1', 'mov1R', '1', 'R']['mov1R', '0', 'mov2R', '0', 'R']['mov2R', '1', 'mov2R', '1', 'R']['mov2R', '0', 'mov1L', '1', 'L']['mov1L', '1', 'mov1L', '1', 'L']['mov1L', '0', 'mov2L', '0', 'L']['mov2L', '1', 'mov2L', '1', 'L']['mov2L', '0', 'del1', '0', 'R']['del1', '0', 'end', '0', 'R']['del2', '0', 'end', '0', 'R']"
     ]
    }
   ],
   "source": [
    "with open('division_by_2.txt') as file_handle:\n",
    "    for line in file_handle:\n",
    "        if line.startswith('#') or line.isspace():\n",
    "            continue\n",
    "        print(line.split(), end='')"
   ]
  },
  {
   "cell_type": "code",
   "execution_count": 130,
   "id": "202fb144-e569-4e2d-bb1c-280835419fc0",
   "metadata": {},
   "outputs": [],
   "source": [
    "D = {0: 'zero', 1: 'one', 2: 'two', 3: 'three', 10: 'ten'}"
   ]
  },
  {
   "cell_type": "code",
   "execution_count": 126,
   "id": "88da42a0-a998-421f-9175-b4dad6a09c3f",
   "metadata": {},
   "outputs": [
    {
     "data": {
      "text/plain": [
       "{0: 'zero', 1: 'one', 2: 'two', 3: 'three'}"
      ]
     },
     "execution_count": 126,
     "metadata": {},
     "output_type": "execute_result"
    }
   ],
   "source": [
    "D"
   ]
  },
  {
   "cell_type": "code",
   "execution_count": 127,
   "id": "a3a45d49-23d8-4d61-ad0f-30ad5f6aa240",
   "metadata": {},
   "outputs": [
    {
     "data": {
      "text/plain": [
       "dict_keys([0, 1, 2, 3])"
      ]
     },
     "execution_count": 127,
     "metadata": {},
     "output_type": "execute_result"
    }
   ],
   "source": [
    "D.keys()"
   ]
  },
  {
   "cell_type": "code",
   "execution_count": 128,
   "id": "6bb7f8fb-5406-4a81-bbab-7329ab2d6ef4",
   "metadata": {},
   "outputs": [
    {
     "data": {
      "text/plain": [
       "dict_values(['zero', 'one', 'two', 'three'])"
      ]
     },
     "execution_count": 128,
     "metadata": {},
     "output_type": "execute_result"
    }
   ],
   "source": [
    "D.values()"
   ]
  },
  {
   "cell_type": "code",
   "execution_count": 129,
   "id": "c69a97e6-431e-42e7-8464-3f0a5be61fc4",
   "metadata": {},
   "outputs": [
    {
     "data": {
      "text/plain": [
       "'zero'"
      ]
     },
     "execution_count": 129,
     "metadata": {},
     "output_type": "execute_result"
    }
   ],
   "source": [
    "D[0]"
   ]
  },
  {
   "cell_type": "code",
   "execution_count": 131,
   "id": "f870db56-9232-4f5a-a037-31fec488aec0",
   "metadata": {},
   "outputs": [
    {
     "data": {
      "text/plain": [
       "'ten'"
      ]
     },
     "execution_count": 131,
     "metadata": {},
     "output_type": "execute_result"
    }
   ],
   "source": [
    "D[10]"
   ]
  },
  {
   "cell_type": "code",
   "execution_count": 132,
   "id": "590f0abf-0cdb-4764-bff7-9e2be09d81dd",
   "metadata": {},
   "outputs": [
    {
     "ename": "KeyError",
     "evalue": "11",
     "output_type": "error",
     "traceback": [
      "\u001b[0;31m---------------------------------------------------------------------------\u001b[0m",
      "\u001b[0;31mKeyError\u001b[0m                                  Traceback (most recent call last)",
      "Input \u001b[0;32mIn [132]\u001b[0m, in \u001b[0;36m<module>\u001b[0;34m\u001b[0m\n\u001b[0;32m----> 1\u001b[0m \u001b[43mD\u001b[49m\u001b[43m[\u001b[49m\u001b[38;5;241;43m11\u001b[39;49m\u001b[43m]\u001b[49m\n",
      "\u001b[0;31mKeyError\u001b[0m: 11"
     ]
    }
   ],
   "source": [
    "D[11]"
   ]
  },
  {
   "cell_type": "code",
   "execution_count": 133,
   "id": "037076d1-d0de-4210-ba13-abe53d83f9dd",
   "metadata": {},
   "outputs": [
    {
     "name": "stdout",
     "output_type": "stream",
     "text": [
      "I have 3 (three) oranges\n"
     ]
    }
   ],
   "source": [
    "print(f'I have 3 ({D[3]}) oranges')"
   ]
  }
 ],
 "metadata": {
  "kernelspec": {
   "display_name": "Python 3 (ipykernel)",
   "language": "python",
   "name": "python3"
  },
  "language_info": {
   "codemirror_mode": {
    "name": "ipython",
    "version": 3
   },
   "file_extension": ".py",
   "mimetype": "text/x-python",
   "name": "python",
   "nbconvert_exporter": "python",
   "pygments_lexer": "ipython3",
   "version": "3.10.2"
  },
  "widgets": {
   "application/vnd.jupyter.widget-state+json": {
    "state": {},
    "version_major": 2,
    "version_minor": 0
   }
  }
 },
 "nbformat": 4,
 "nbformat_minor": 5
}
