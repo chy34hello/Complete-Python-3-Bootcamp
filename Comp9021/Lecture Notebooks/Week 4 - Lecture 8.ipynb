{
 "cells": [
  {
   "cell_type": "code",
   "execution_count": null,
   "id": "4284e904-451b-418c-b2be-f75fbce5a469",
   "metadata": {},
   "outputs": [],
   "source": [
    "1 4 9 16 25 36 ..."
   ]
  },
  {
   "cell_type": "code",
   "execution_count": null,
   "id": "772e178c-18f8-4278-b28c-2d4d7f640a17",
   "metadata": {},
   "outputs": [],
   "source": [
    "(a, b, c)"
   ]
  },
  {
   "cell_type": "code",
   "execution_count": null,
   "id": "b228d591-9d3a-41d5-ba90-6aaa40cb7516",
   "metadata": {},
   "outputs": [],
   "source": [
    "c <= 9876532"
   ]
  },
  {
   "cell_type": "code",
   "execution_count": null,
   "id": "6e5516ca-020e-4cb8-aab2-c1c7d2860214",
   "metadata": {},
   "outputs": [],
   "source": [
    "b <= 9998 "
   ]
  },
  {
   "cell_type": "code",
   "execution_count": null,
   "id": "8bf4c034-d24d-4e0a-899f-20faf75c05f3",
   "metadata": {},
   "outputs": [],
   "source": [
    "a <= 997"
   ]
  },
  {
   "cell_type": "code",
   "execution_count": 1,
   "id": "06063c81-b910-44ea-a839-6b487aa0be83",
   "metadata": {},
   "outputs": [],
   "source": [
    "from math import sqrt"
   ]
  },
  {
   "cell_type": "code",
   "execution_count": 3,
   "id": "4ece0612-53d9-4bc1-b2b8-1a6c454c4d47",
   "metadata": {},
   "outputs": [],
   "source": [
    "for i in range(1, int(sqrt(997)) + 1):\n",
    "    a = i ** 2\n",
    "    for j in range(i + 1, int(sqrt(9998)) + 1):\n",
    "        b = j ** 2\n",
    "        for k in range(j + 1, int(sqrt(9876532)) + 1):\n",
    "            c = k ** 2"
   ]
  },
  {
   "cell_type": "code",
   "execution_count": 4,
   "id": "709f9ac3-0e01-4f41-b5b8-a16446e25739",
   "metadata": {},
   "outputs": [
    {
     "data": {
      "text/plain": [
       "7936372"
      ]
     },
     "execution_count": 4,
     "metadata": {},
     "output_type": "execute_result"
    }
   ],
   "source": [
    "sum(1 for i in range(1, int(sqrt(997)) + 1)\n",
    "        for j in range(i + 1, int(sqrt(9998)) + 1)\n",
    "            for k in range(j + 1, int(sqrt(9876532)) + 1)\n",
    "   )"
   ]
  },
  {
   "cell_type": "code",
   "execution_count": 5,
   "id": "8318ca56-1411-4cea-b333-34189387d166",
   "metadata": {},
   "outputs": [
    {
     "data": {
      "text/plain": [
       "[(1, 2, 3),\n",
       " (1, 2, 4),\n",
       " (1, 2, 5),\n",
       " (1, 2, 6),\n",
       " (1, 2, 7),\n",
       " (1, 3, 4),\n",
       " (1, 3, 5),\n",
       " (1, 3, 6),\n",
       " (1, 3, 7),\n",
       " (1, 4, 5),\n",
       " (1, 4, 6),\n",
       " (1, 4, 7),\n",
       " (2, 3, 4),\n",
       " (2, 3, 5),\n",
       " (2, 3, 6),\n",
       " (2, 3, 7),\n",
       " (2, 4, 5),\n",
       " (2, 4, 6),\n",
       " (2, 4, 7)]"
      ]
     },
     "execution_count": 5,
     "metadata": {},
     "output_type": "execute_result"
    }
   ],
   "source": [
    "[(i, j, k) for i in range(1, 3)\n",
    "               for j in range(i + 1, 5)\n",
    "                   for k in range(j + 1, 8)\n",
    "]"
   ]
  },
  {
   "cell_type": "code",
   "execution_count": 6,
   "id": "023f3047-134e-400b-8fcb-d634193f767e",
   "metadata": {},
   "outputs": [
    {
     "data": {
      "text/plain": [
       "[1, 1, 1, 1, 1, 1, 1, 1, 1, 1, 1, 1, 1, 1, 1, 1, 1, 1, 1]"
      ]
     },
     "execution_count": 6,
     "metadata": {},
     "output_type": "execute_result"
    }
   ],
   "source": [
    "[1 for i in range(1, 3)\n",
    "       for j in range(i + 1, 5)\n",
    "           for k in range(j + 1, 8)\n",
    "]"
   ]
  },
  {
   "cell_type": "code",
   "execution_count": 7,
   "id": "7a932ec4-2546-4f4f-a3d2-a3223097fbdd",
   "metadata": {},
   "outputs": [
    {
     "data": {
      "text/plain": [
       "16"
      ]
     },
     "execution_count": 7,
     "metadata": {},
     "output_type": "execute_result"
    }
   ],
   "source": [
    "sum([2, 4, 10])"
   ]
  },
  {
   "cell_type": "code",
   "execution_count": 8,
   "id": "894b2fbf-a58e-4027-8235-f78c2b900baa",
   "metadata": {},
   "outputs": [
    {
     "data": {
      "text/plain": [
       "19"
      ]
     },
     "execution_count": 8,
     "metadata": {},
     "output_type": "execute_result"
    }
   ],
   "source": [
    "sum([1 for i in range(1, 3)\n",
    "           for j in range(i + 1, 5)\n",
    "               for k in range(j + 1, 8)\n",
    "    ]\n",
    "   )"
   ]
  },
  {
   "cell_type": "code",
   "execution_count": 10,
   "id": "129cca67-ba9c-4fa4-b6e0-593260fc1807",
   "metadata": {},
   "outputs": [
    {
     "data": {
      "text/plain": [
       "1"
      ]
     },
     "execution_count": 10,
     "metadata": {},
     "output_type": "execute_result"
    },
    {
     "data": {
      "text/plain": [
       "1"
      ]
     },
     "execution_count": 10,
     "metadata": {},
     "output_type": "execute_result"
    },
    {
     "data": {
      "text/plain": [
       "1"
      ]
     },
     "execution_count": 10,
     "metadata": {},
     "output_type": "execute_result"
    }
   ],
   "source": [
    "E = (1 for i in range(1, 3)\n",
    "           for j in range(i + 1, 5)\n",
    "               for k in range(j + 1, 8)\n",
    "    )\n",
    "next(E)\n",
    "next(E)\n",
    "next(E)"
   ]
  },
  {
   "cell_type": "code",
   "execution_count": null,
   "id": "c983ed66-5dd0-48fd-8153-c686c0916c87",
   "metadata": {},
   "outputs": [],
   "source": [
    "sum((1 for i in range(1, 3)\n",
    "           for j in range(i + 1, 5)\n",
    "               for k in range(j + 1, 8)\n",
    "    )\n",
    "   )"
   ]
  },
  {
   "cell_type": "code",
   "execution_count": 11,
   "id": "7b0ee746-3f24-4858-b9c9-5ebbd3875e2d",
   "metadata": {},
   "outputs": [
    {
     "data": {
      "text/plain": [
       "19"
      ]
     },
     "execution_count": 11,
     "metadata": {},
     "output_type": "execute_result"
    }
   ],
   "source": [
    "sum(1 for i in range(1, 3)\n",
    "           for j in range(i + 1, 5)\n",
    "               for k in range(j + 1, 8)\n",
    "   )"
   ]
  },
  {
   "cell_type": "code",
   "execution_count": null,
   "id": "e0dd656c-e1d2-4466-bed4-24789829cbc8",
   "metadata": {},
   "outputs": [],
   "source": [
    "i = 1   a = 1\n",
    "\n",
    "j = 2   b = 4\n",
    "\n",
    "k = 3   c = 9"
   ]
  },
  {
   "cell_type": "code",
   "execution_count": null,
   "id": "393dea1d-ea6e-41eb-8160-4a3b9efa38e0",
   "metadata": {},
   "outputs": [],
   "source": [
    "{0}\n",
    "i = 6   a = 36\n",
    "{0, 3, 6}\n",
    "j = 9   b = 81\n",
    "{0, 1, 8, 3, 6}\n",
    "k = 13   c = 169"
   ]
  },
  {
   "cell_type": "code",
   "execution_count": 14,
   "id": "2b28f8c2-4dc9-49e5-9e63-eec73648d146",
   "metadata": {},
   "outputs": [
    {
     "data": {
      "text/plain": [
       "'169'"
      ]
     },
     "execution_count": 14,
     "metadata": {},
     "output_type": "execute_result"
    }
   ],
   "source": [
    "str(169)"
   ]
  },
  {
   "cell_type": "code",
   "execution_count": 15,
   "id": "6f7083dc-8753-44cf-bc7b-bd36e6fa5932",
   "metadata": {},
   "outputs": [
    {
     "data": {
      "text/plain": [
       "{'1', '6', '9'}"
      ]
     },
     "execution_count": 15,
     "metadata": {},
     "output_type": "execute_result"
    }
   ],
   "source": [
    "set(str(169))"
   ]
  },
  {
   "cell_type": "code",
   "execution_count": 18,
   "id": "26837a25-5e1b-4d41-b800-052158f3efdd",
   "metadata": {},
   "outputs": [
    {
     "data": {
      "text/plain": [
       "['__and__',\n",
       " '__class__',\n",
       " '__class_getitem__',\n",
       " '__contains__',\n",
       " '__delattr__',\n",
       " '__dir__',\n",
       " '__doc__',\n",
       " '__eq__',\n",
       " '__format__',\n",
       " '__ge__',\n",
       " '__getattribute__',\n",
       " '__gt__',\n",
       " '__hash__',\n",
       " '__iand__',\n",
       " '__init__',\n",
       " '__init_subclass__',\n",
       " '__ior__',\n",
       " '__isub__',\n",
       " '__iter__',\n",
       " '__ixor__',\n",
       " '__le__',\n",
       " '__len__',\n",
       " '__lt__',\n",
       " '__ne__',\n",
       " '__new__',\n",
       " '__or__',\n",
       " '__rand__',\n",
       " '__reduce__',\n",
       " '__reduce_ex__',\n",
       " '__repr__',\n",
       " '__ror__',\n",
       " '__rsub__',\n",
       " '__rxor__',\n",
       " '__setattr__',\n",
       " '__sizeof__',\n",
       " '__str__',\n",
       " '__sub__',\n",
       " '__subclasshook__',\n",
       " '__xor__',\n",
       " 'add',\n",
       " 'clear',\n",
       " 'copy',\n",
       " 'difference',\n",
       " 'difference_update',\n",
       " 'discard',\n",
       " 'intersection',\n",
       " 'intersection_update',\n",
       " 'isdisjoint',\n",
       " 'issubset',\n",
       " 'issuperset',\n",
       " 'pop',\n",
       " 'remove',\n",
       " 'symmetric_difference',\n",
       " 'symmetric_difference_update',\n",
       " 'union',\n",
       " 'update']"
      ]
     },
     "execution_count": 18,
     "metadata": {},
     "output_type": "execute_result"
    }
   ],
   "source": [
    "dir(set)"
   ]
  },
  {
   "cell_type": "code",
   "execution_count": 21,
   "id": "9b1d1e61-6de1-44aa-8af1-e78eaa5c7265",
   "metadata": {},
   "outputs": [
    {
     "data": {
      "text/plain": [
       "{'1', '3', '6', '8', '9'}"
      ]
     },
     "execution_count": 21,
     "metadata": {},
     "output_type": "execute_result"
    },
    {
     "data": {
      "text/plain": [
       "{'1', '6', '9'}"
      ]
     },
     "execution_count": 21,
     "metadata": {},
     "output_type": "execute_result"
    }
   ],
   "source": [
    "S = {'1', '6', '9'}\n",
    "S.union(['3', '8'])\n",
    "S"
   ]
  },
  {
   "cell_type": "code",
   "execution_count": 22,
   "id": "f92ad6ec-60ac-45f3-b5be-55a2b098fdf5",
   "metadata": {},
   "outputs": [
    {
     "data": {
      "text/plain": [
       "{'1', '3', '6', '8', '9'}"
      ]
     },
     "execution_count": 22,
     "metadata": {},
     "output_type": "execute_result"
    }
   ],
   "source": [
    "S = {'1', '6', '9'}\n",
    "S.update(['3', '8'])\n",
    "S"
   ]
  },
  {
   "cell_type": "code",
   "execution_count": 17,
   "id": "498da72b-1fee-4f1b-b8ba-182c540b86f9",
   "metadata": {},
   "outputs": [
    {
     "data": {
      "text/plain": [
       "{'3', '8'}"
      ]
     },
     "execution_count": 17,
     "metadata": {},
     "output_type": "execute_result"
    },
    {
     "data": {
      "text/plain": [
       "{'1', '3', '6', '8', '9'}"
      ]
     },
     "execution_count": 17,
     "metadata": {},
     "output_type": "execute_result"
    }
   ],
   "source": [
    "digits = {'1', '6', '9'}\n",
    "n = 83\n",
    "set(str(n))\n",
    "{'1', '6', '9'} | set(str(n))"
   ]
  },
  {
   "cell_type": "code",
   "execution_count": 23,
   "id": "a8dd89ed-d8f5-46a5-8373-047a0a3cc42e",
   "metadata": {},
   "outputs": [
    {
     "data": {
      "text/plain": [
       "{'8'}"
      ]
     },
     "execution_count": 23,
     "metadata": {},
     "output_type": "execute_result"
    },
    {
     "data": {
      "text/plain": [
       "{'1', '6', '8', '9'}"
      ]
     },
     "execution_count": 23,
     "metadata": {},
     "output_type": "execute_result"
    }
   ],
   "source": [
    "digits = {'1', '6', '9'}\n",
    "n = 88\n",
    "set(str(n))\n",
    "{'1', '6', '9'} | set(str(n))"
   ]
  },
  {
   "cell_type": "code",
   "execution_count": 24,
   "id": "b8f80284-522c-4c58-8455-0393627e5942",
   "metadata": {},
   "outputs": [
    {
     "data": {
      "text/plain": [
       "{'8', '9'}"
      ]
     },
     "execution_count": 24,
     "metadata": {},
     "output_type": "execute_result"
    },
    {
     "data": {
      "text/plain": [
       "{'1', '6', '8', '9'}"
      ]
     },
     "execution_count": 24,
     "metadata": {},
     "output_type": "execute_result"
    }
   ],
   "source": [
    "digits = {'1', '6', '9'}\n",
    "n = 89\n",
    "set(str(n))\n",
    "{'1', '6', '9'} | set(str(n))"
   ]
  },
  {
   "cell_type": "code",
   "execution_count": 29,
   "id": "fad098a4-c88d-4485-b2da-57df1ec4b852",
   "metadata": {},
   "outputs": [
    {
     "data": {
      "text/plain": [
       "'89'"
      ]
     },
     "execution_count": 29,
     "metadata": {},
     "output_type": "execute_result"
    },
    {
     "data": {
      "text/plain": [
       "2"
      ]
     },
     "execution_count": 29,
     "metadata": {},
     "output_type": "execute_result"
    },
    {
     "data": {
      "text/plain": [
       "{'8', '9'}"
      ]
     },
     "execution_count": 29,
     "metadata": {},
     "output_type": "execute_result"
    },
    {
     "data": {
      "text/plain": [
       "{'1', '6', '8', '9'}"
      ]
     },
     "execution_count": 29,
     "metadata": {},
     "output_type": "execute_result"
    },
    {
     "data": {
      "text/plain": [
       "4"
      ]
     },
     "execution_count": 29,
     "metadata": {},
     "output_type": "execute_result"
    },
    {
     "data": {
      "text/plain": [
       "5"
      ]
     },
     "execution_count": 29,
     "metadata": {},
     "output_type": "execute_result"
    }
   ],
   "source": [
    "digits = {'1', '6', '9'}\n",
    "n = 89\n",
    "n_str = str(n)\n",
    "n_str\n",
    "len(n_str)\n",
    "set(n_str)\n",
    "{'1', '6', '9'} | set(n_str)\n",
    "len({'1', '6', '9'} | set(n_str))\n",
    "len(digits) + len(n_str)"
   ]
  },
  {
   "cell_type": "code",
   "execution_count": 30,
   "id": "46b3fdd3-e53b-442f-8a4b-d8b4f38fa427",
   "metadata": {},
   "outputs": [
    {
     "data": {
      "text/plain": [
       "'87'"
      ]
     },
     "execution_count": 30,
     "metadata": {},
     "output_type": "execute_result"
    },
    {
     "data": {
      "text/plain": [
       "2"
      ]
     },
     "execution_count": 30,
     "metadata": {},
     "output_type": "execute_result"
    },
    {
     "data": {
      "text/plain": [
       "{'7', '8'}"
      ]
     },
     "execution_count": 30,
     "metadata": {},
     "output_type": "execute_result"
    },
    {
     "data": {
      "text/plain": [
       "{'1', '6', '7', '8', '9'}"
      ]
     },
     "execution_count": 30,
     "metadata": {},
     "output_type": "execute_result"
    },
    {
     "data": {
      "text/plain": [
       "5"
      ]
     },
     "execution_count": 30,
     "metadata": {},
     "output_type": "execute_result"
    },
    {
     "data": {
      "text/plain": [
       "5"
      ]
     },
     "execution_count": 30,
     "metadata": {},
     "output_type": "execute_result"
    }
   ],
   "source": [
    "digits = {'1', '6', '9'}\n",
    "n = 87\n",
    "n_str = str(n)\n",
    "n_str\n",
    "len(n_str)\n",
    "set(n_str)\n",
    "{'1', '6', '9'} | set(n_str)\n",
    "len({'1', '6', '9'} | set(n_str))\n",
    "len(digits) + len(n_str)"
   ]
  },
  {
   "cell_type": "code",
   "execution_count": 31,
   "id": "48a972a1-d706-491e-b6c3-2ad197cbe36c",
   "metadata": {},
   "outputs": [
    {
     "data": {
      "text/plain": [
       "'88'"
      ]
     },
     "execution_count": 31,
     "metadata": {},
     "output_type": "execute_result"
    },
    {
     "data": {
      "text/plain": [
       "2"
      ]
     },
     "execution_count": 31,
     "metadata": {},
     "output_type": "execute_result"
    },
    {
     "data": {
      "text/plain": [
       "{'8'}"
      ]
     },
     "execution_count": 31,
     "metadata": {},
     "output_type": "execute_result"
    },
    {
     "data": {
      "text/plain": [
       "{'1', '6', '8', '9'}"
      ]
     },
     "execution_count": 31,
     "metadata": {},
     "output_type": "execute_result"
    },
    {
     "data": {
      "text/plain": [
       "4"
      ]
     },
     "execution_count": 31,
     "metadata": {},
     "output_type": "execute_result"
    },
    {
     "data": {
      "text/plain": [
       "5"
      ]
     },
     "execution_count": 31,
     "metadata": {},
     "output_type": "execute_result"
    }
   ],
   "source": [
    "digits = {'1', '6', '9'}\n",
    "n = 88\n",
    "n_str = str(n)\n",
    "n_str\n",
    "len(n_str)\n",
    "set(n_str)\n",
    "{'1', '6', '9'} | set(n_str)\n",
    "len({'1', '6', '9'} | set(n_str))\n",
    "len(digits) + len(n_str)"
   ]
  },
  {
   "cell_type": "code",
   "execution_count": 32,
   "id": "ff8cb176-c7d2-4665-b98d-f45049a7fd69",
   "metadata": {},
   "outputs": [],
   "source": [
    "def digits_are_ok(n, digits):\n",
    "    n_str = str(n)\n",
    "    combined_digits = digits | set(n_str)\n",
    "    if len(combined_digits) == len(digits) + len(n_str):\n",
    "        return combined_digits"
   ]
  },
  {
   "cell_type": "code",
   "execution_count": 36,
   "id": "ae7409a7-cf1b-4ce9-bce4-e6371bbddbb2",
   "metadata": {},
   "outputs": [
    {
     "data": {
      "text/plain": [
       "{'1', '6', '7', '8', '9'}"
      ]
     },
     "execution_count": 36,
     "metadata": {},
     "output_type": "execute_result"
    },
    {
     "name": "stdout",
     "output_type": "stream",
     "text": [
      "None\n",
      "None\n"
     ]
    }
   ],
   "source": [
    "digits_are_ok(87, {'1', '6', '9'})\n",
    "print(digits_are_ok(89, {'1', '6', '9'}))\n",
    "print(digits_are_ok(88, {'1', '6', '9'}))"
   ]
  },
  {
   "cell_type": "code",
   "execution_count": 37,
   "id": "cfa7730c-3042-47cf-8765-3832f67fd7a6",
   "metadata": {},
   "outputs": [
    {
     "name": "stdout",
     "output_type": "stream",
     "text": [
      "1 4 3297856\n",
      "1 4 3857296\n",
      "1 4 5827396\n",
      "1 4 6385729\n",
      "1 4 8567329\n",
      "1 4 9572836\n",
      "1 49 872356\n",
      "1 64 537289\n",
      "1 256 73984\n",
      "1 625 73984\n",
      "4 16 537289\n",
      "4 25 139876\n",
      "4 25 391876\n",
      "4 289 15376\n",
      "9 324 15876\n",
      "16 25 73984\n",
      "16 784 5329\n",
      "25 784 1369\n",
      "25 784 1936\n",
      "25 841 7396\n",
      "36 81 74529\n",
      "36 81 79524\n",
      "36 729 5184\n",
      "81 324 7569\n",
      "81 576 3249\n",
      "81 729 4356\n",
      "361 529 784\n"
     ]
    }
   ],
   "source": [
    "for i in range(1, int(sqrt(997)) + 1):\n",
    "    digits_seen_before_a = {'0'}\n",
    "    a = i ** 2\n",
    "    digits_seen_after_a = digits_are_ok(a, digits_seen_before_a)\n",
    "    if not digits_seen_after_a:\n",
    "        continue\n",
    "    for j in range(i + 1, int(sqrt(9998)) + 1):\n",
    "        b = j ** 2\n",
    "        digits_seen_after_b = digits_are_ok(b, digits_seen_after_a)\n",
    "        if not digits_seen_after_b:\n",
    "            continue\n",
    "        for k in range(j + 1, int(sqrt(9876532)) + 1):\n",
    "            c = k ** 2\n",
    "            digits_seen_after_c = digits_are_ok(c, digits_seen_after_b)\n",
    "            if not digits_seen_after_c:\n",
    "                continue\n",
    "            if len(digits_seen_after_c) == 10:\n",
    "                print(a, b, c)"
   ]
  },
  {
   "cell_type": "code",
   "execution_count": null,
   "id": "1f69e99c-a991-42c9-9821-175701065e5c",
   "metadata": {},
   "outputs": [],
   "source": [
    "n = 37 digits = {2, 4, 6}\n",
    "{2, 4, 6, 3, 7}"
   ]
  },
  {
   "cell_type": "code",
   "execution_count": 43,
   "id": "8c30bf6f-769c-42d9-a044-3224ee9b4f51",
   "metadata": {},
   "outputs": [],
   "source": [
    "def digits_are_indeed_ok(n, digits):\n",
    "    while n:\n",
    "        d = n % 10\n",
    "        if d in digits:\n",
    "            return\n",
    "        digits.add(d)\n",
    "        n //= 10\n",
    "    return digits     "
   ]
  },
  {
   "cell_type": "code",
   "execution_count": 46,
   "id": "b561eea5-d1e0-4c5b-ae01-0796d1b5c67e",
   "metadata": {},
   "outputs": [
    {
     "name": "stdout",
     "output_type": "stream",
     "text": [
      "{2, 3, 4, 6, 7}\n",
      "None\n",
      "None\n"
     ]
    }
   ],
   "source": [
    "print(digits_are_indeed_ok(37, {2, 4, 6}))\n",
    "print(digits_are_indeed_ok(36, {2, 4, 6}))\n",
    "print(digits_are_indeed_ok(33, {2, 4, 6}))"
   ]
  },
  {
   "cell_type": "code",
   "execution_count": 48,
   "id": "aebe1372-5a33-4472-a4cf-739d33614760",
   "metadata": {},
   "outputs": [],
   "source": [
    "for i in range(1, int(sqrt(997)) + 1):\n",
    "    digits_seen_before_a = {0}\n",
    "    a = i ** 2\n",
    "    digits_seen_after_a = digits_are_indeed_ok(a, digits_seen_before_a)\n",
    "    if not digits_seen_after_a:\n",
    "        continue\n",
    "    for j in range(i + 1, int(sqrt(9998)) + 1):\n",
    "        b = j ** 2\n",
    "        digits_seen_after_b = digits_are_indeed_ok(b, digits_seen_after_a)\n",
    "        if not digits_seen_after_b:\n",
    "            continue\n",
    "        for k in range(j + 1, int(sqrt(9876532)) + 1):\n",
    "            c = k ** 2\n",
    "            digits_seen_after_c = digits_are_indeed_ok(c, digits_seen_after_b)\n",
    "            if not digits_seen_after_c:\n",
    "                continue\n",
    "            if len(digits_seen_after_c) == 10:\n",
    "                print(a, b, c)"
   ]
  },
  {
   "cell_type": "code",
   "execution_count": 49,
   "id": "ac6d121a-3e50-49dd-8d0d-5e06156c94f7",
   "metadata": {},
   "outputs": [
    {
     "data": {
      "text/plain": [
       "{1, 2, 3, 4}"
      ]
     },
     "execution_count": 49,
     "metadata": {},
     "output_type": "execute_result"
    },
    {
     "data": {
      "text/plain": [
       "{1, 2, 3, 4}"
      ]
     },
     "execution_count": 49,
     "metadata": {},
     "output_type": "execute_result"
    }
   ],
   "source": [
    "S = {1, 2, 3}\n",
    "S1 = S\n",
    "S1.add(4)\n",
    "S\n",
    "S1"
   ]
  },
  {
   "cell_type": "code",
   "execution_count": 51,
   "id": "8da3b444-e84a-404d-98ea-05bd614f30f5",
   "metadata": {},
   "outputs": [
    {
     "data": {
      "text/plain": [
       "{1, 2, 3, 4}"
      ]
     },
     "execution_count": 51,
     "metadata": {},
     "output_type": "execute_result"
    },
    {
     "data": {
      "text/plain": [
       "{1, 2, 3, 4}"
      ]
     },
     "execution_count": 51,
     "metadata": {},
     "output_type": "execute_result"
    }
   ],
   "source": [
    "S = {1, 2, 3}\n",
    "def f(S1, n):\n",
    "    S1.add(n)\n",
    "    return S1\n",
    "\n",
    "f(S, 4)\n",
    "S"
   ]
  },
  {
   "cell_type": "code",
   "execution_count": 56,
   "id": "66a5e8ab-af6c-426e-9fa0-2ae524dccdf0",
   "metadata": {},
   "outputs": [
    {
     "data": {
      "text/plain": [
       "{1, 2, 3, 4}"
      ]
     },
     "execution_count": 56,
     "metadata": {},
     "output_type": "execute_result"
    },
    {
     "data": {
      "text/plain": [
       "{1, 2, 3}"
      ]
     },
     "execution_count": 56,
     "metadata": {},
     "output_type": "execute_result"
    }
   ],
   "source": [
    "S = {1, 2, 3}\n",
    "def f(S1, n):\n",
    "    S1.add(n)\n",
    "    return S1\n",
    "\n",
    "f(set(S), 4)\n",
    "S"
   ]
  },
  {
   "cell_type": "code",
   "execution_count": 52,
   "id": "aa5368a5-9819-405a-8e36-2948cc77b89d",
   "metadata": {},
   "outputs": [
    {
     "name": "stdout",
     "output_type": "stream",
     "text": [
      "Help on method_descriptor:\n",
      "\n",
      "update(...)\n",
      "    Update a set with the union of itself and others.\n",
      "\n"
     ]
    }
   ],
   "source": [
    "help(set.update)"
   ]
  },
  {
   "cell_type": "code",
   "execution_count": 53,
   "id": "b0a4507a-00fe-4659-8c60-74901e32e831",
   "metadata": {},
   "outputs": [
    {
     "name": "stdout",
     "output_type": "stream",
     "text": [
      "Help on method_descriptor:\n",
      "\n",
      "add(...)\n",
      "    Add an element to a set.\n",
      "    \n",
      "    This has no effect if the element is already present.\n",
      "\n"
     ]
    }
   ],
   "source": [
    "help(set.add)"
   ]
  },
  {
   "cell_type": "code",
   "execution_count": 54,
   "id": "88e3834f-b453-4a99-ab2b-cbc40c5a1480",
   "metadata": {},
   "outputs": [
    {
     "data": {
      "text/plain": [
       "{1, 2, 3, 4, 5}"
      ]
     },
     "execution_count": 54,
     "metadata": {},
     "output_type": "execute_result"
    }
   ],
   "source": [
    "S = {1, 2, 3}\n",
    "S.add(4)\n",
    "S.update([5])\n",
    "S"
   ]
  },
  {
   "cell_type": "code",
   "execution_count": 55,
   "id": "349bf600-93f1-47c7-becb-c82a430af844",
   "metadata": {},
   "outputs": [
    {
     "ename": "TypeError",
     "evalue": "'int' object is not iterable",
     "output_type": "error",
     "traceback": [
      "\u001b[0;31m---------------------------------------------------------------------------\u001b[0m",
      "\u001b[0;31mTypeError\u001b[0m                                 Traceback (most recent call last)",
      "Input \u001b[0;32mIn [55]\u001b[0m, in \u001b[0;36m<cell line: 3>\u001b[0;34m()\u001b[0m\n\u001b[1;32m      1\u001b[0m S \u001b[38;5;241m=\u001b[39m {\u001b[38;5;241m1\u001b[39m, \u001b[38;5;241m2\u001b[39m, \u001b[38;5;241m3\u001b[39m}\n\u001b[1;32m      2\u001b[0m S\u001b[38;5;241m.\u001b[39madd(\u001b[38;5;241m4\u001b[39m)\n\u001b[0;32m----> 3\u001b[0m \u001b[43mS\u001b[49m\u001b[38;5;241;43m.\u001b[39;49m\u001b[43mupdate\u001b[49m\u001b[43m(\u001b[49m\u001b[38;5;241;43m5\u001b[39;49m\u001b[43m)\u001b[49m\n\u001b[1;32m      4\u001b[0m S\n",
      "\u001b[0;31mTypeError\u001b[0m: 'int' object is not iterable"
     ]
    }
   ],
   "source": [
    "S = {1, 2, 3}\n",
    "S.add(4)\n",
    "S.update(5)\n",
    "S"
   ]
  },
  {
   "cell_type": "code",
   "execution_count": 60,
   "id": "51596617-ab92-4cec-a7e9-a587faa642d0",
   "metadata": {},
   "outputs": [
    {
     "name": "stdout",
     "output_type": "stream",
     "text": [
      "1 4 3297856\n",
      "1 4 3857296\n",
      "1 4 5827396\n",
      "1 4 6385729\n",
      "1 4 8567329\n",
      "1 4 9572836\n",
      "1 49 872356\n",
      "1 64 537289\n",
      "1 256 73984\n",
      "1 625 73984\n",
      "4 16 537289\n",
      "4 25 139876\n",
      "4 25 391876\n",
      "4 289 15376\n",
      "9 324 15876\n",
      "16 25 73984\n",
      "16 784 5329\n",
      "25 784 1369\n",
      "25 784 1936\n",
      "25 841 7396\n",
      "36 81 74529\n",
      "36 81 79524\n",
      "36 729 5184\n",
      "81 324 7569\n",
      "81 576 3249\n",
      "81 729 4356\n",
      "361 529 784\n"
     ]
    }
   ],
   "source": [
    "for i in range(1, int(sqrt(997)) + 1):\n",
    "    digits_seen_before_a = {0}\n",
    "    a = i ** 2\n",
    "    digits_seen_after_a =\\\n",
    "            digits_are_indeed_ok(a, set(digits_seen_before_a))\n",
    "    if not digits_seen_after_a:\n",
    "        continue\n",
    "    for j in range(i + 1, int(sqrt(9998)) + 1):\n",
    "        b = j ** 2\n",
    "        digits_seen_after_b =\\\n",
    "                digits_are_indeed_ok(b, set(digits_seen_after_a))\n",
    "        if not digits_seen_after_b:\n",
    "            continue\n",
    "        for k in range(j + 1, int(sqrt(9876532)) + 1):\n",
    "            c = k ** 2\n",
    "            digits_seen_after_c =\\\n",
    "                digits_are_indeed_ok(c, set(digits_seen_after_b))\n",
    "            if not digits_seen_after_c:\n",
    "                continue\n",
    "            if len(digits_seen_after_c) == 10:\n",
    "                print(a, b, c)"
   ]
  },
  {
   "cell_type": "code",
   "execution_count": 58,
   "id": "c402f73f-5d29-44dc-8b3e-9623cb4acce7",
   "metadata": {},
   "outputs": [
    {
     "ename": "TypeError",
     "evalue": "unhashable type: 'set'",
     "output_type": "error",
     "traceback": [
      "\u001b[0;31m---------------------------------------------------------------------------\u001b[0m",
      "\u001b[0;31mTypeError\u001b[0m                                 Traceback (most recent call last)",
      "Input \u001b[0;32mIn [58]\u001b[0m, in \u001b[0;36m<cell line: 1>\u001b[0;34m()\u001b[0m\n\u001b[0;32m----> 1\u001b[0m {{\u001b[38;5;241m1\u001b[39m, \u001b[38;5;241m2\u001b[39m}, {\u001b[38;5;241m3\u001b[39m}}\n",
      "\u001b[0;31mTypeError\u001b[0m: unhashable type: 'set'"
     ]
    }
   ],
   "source": [
    "{{1, 2}, {3}}"
   ]
  },
  {
   "cell_type": "code",
   "execution_count": 59,
   "id": "62c7baa1-900c-4658-a1ff-a09b3fe6b771",
   "metadata": {},
   "outputs": [
    {
     "data": {
      "text/plain": [
       "{frozenset({3}), frozenset({1, 2})}"
      ]
     },
     "execution_count": 59,
     "metadata": {},
     "output_type": "execute_result"
    }
   ],
   "source": [
    "{frozenset({1, 2}), frozenset({3})}"
   ]
  },
  {
   "cell_type": "code",
   "execution_count": null,
   "id": "7fc06280-5bba-44cd-add9-fd1ee545d0e2",
   "metadata": {},
   "outputs": [],
   "source": [
    "# Written by Eric Martin for COMP9021\n",
    "\n",
    "def do_it():\n",
    "    '''\n",
    "    Discovers all triples (a,b,c) of natural numbers such that:\n",
    "    - a < b < c;\n",
    "    - a, b and c are perfect squares;\n",
    "    - 0 occurs in none of a, b and c;\n",
    "    - every nonzero digit occurs exactly once in one of a, b and c.\n",
    "\n",
    "    Extracts digits using the % and // operators and records them as sets.\n",
    "    '''\n",
    "\n",
    "\n",
    "    from math import sqrt\n",
    "\n",
    "    def digits_if_ok(number, seen_digits):\n",
    "        while number:\n",
    "            number, digit = divmod(number, 10)\n",
    "            if digit in seen_digits:\n",
    "                return\n",
    "            seen_digits.add(digit)\n",
    "        return seen_digits\n",
    "\n",
    "    nb_of_solutions = 0\n",
    "    # A largest possible value for a is 997: otherwise, b would consist of at least\n",
    "    # 3 digits and c would consist of at least 4 digits, for a total of at least 10\n",
    "    # digits.\n",
    "    for i in range(1, int(sqrt(997)) + 1):\n",
    "        a = i ** 2\n",
    "        a_digits_and_0 = digits_if_ok(a, {0})\n",
    "        # a_digits_and_0 is not None iff all digits in a are distinct and not equal\n",
    "        # to 0.\n",
    "        if not a_digits_and_0:\n",
    "            continue\n",
    "        # A largest possible value for b is 9998: otherwise, c would consist of at\n",
    "        # least 5 digitsand a takes at least one digit, for a total of at least 10\n",
    "        # digits.\n",
    "        for j in range(i + 1, int(sqrt(9998)) + 1):\n",
    "            b = j ** 2\n",
    "            a_b_digits_and_0 = digits_if_ok(b, set(a_digits_and_0))\n",
    "            # a_b_digits_and_0 is not None iff all digits in a are distinct,\n",
    "            # distinct to 0, and distinct to all digits in a.\n",
    "            if not a_b_digits_and_0:\n",
    "                continue\n",
    "            # Since we need 3 perfect squares and use up each of the 9 nonzero\n",
    "            # digits once and only once, c can consist of at most 7 digits, leaving\n",
    "            # one digit to a and 1 digit to b. There are three 1-digit nonzero\n",
    "            # perfect squares: 1, 4 and 9. So a largest possible value for c is\n",
    "            # obtained by setting a to 1, b to 4, and c to 9876532.\n",
    "            for k in range(j + 1, int(sqrt(9876532)) + 1):\n",
    "                c = k ** 2\n",
    "                a_b_c_digits_and_0 = digits_if_ok(c, set(a_b_digits_and_0))\n",
    "                # a_b_c_digits_and_0 is not None iff all digits in c are distinct,\n",
    "                # distinct to 0, and distinct to all digits in a and b.\n",
    "                if not a_b_c_digits_and_0 or len(a_b_c_digits_and_0) != 10:\n",
    "                    continue\n",
    "                print(f'{a:7} {b:7} {c:7}')\n",
    "                nb_of_solutions += 1\n",
    "    print('\\nAltogether,', nb_of_solutions, 'solutions have been found.')\n",
    "\n",
    "do_it()"
   ]
  },
  {
   "cell_type": "code",
   "execution_count": null,
   "id": "0601da0d-750f-439b-b80b-ba35c46aae6d",
   "metadata": {},
   "outputs": [],
   "source": []
  }
 ],
 "metadata": {
  "kernelspec": {
   "display_name": "Python 3 (ipykernel)",
   "language": "python",
   "name": "python3"
  },
  "language_info": {
   "codemirror_mode": {
    "name": "ipython",
    "version": 3
   },
   "file_extension": ".py",
   "mimetype": "text/x-python",
   "name": "python",
   "nbconvert_exporter": "python",
   "pygments_lexer": "ipython3",
   "version": "3.10.2"
  },
  "widgets": {
   "application/vnd.jupyter.widget-state+json": {
    "state": {},
    "version_major": 2,
    "version_minor": 0
   }
  }
 },
 "nbformat": 4,
 "nbformat_minor": 5
}
