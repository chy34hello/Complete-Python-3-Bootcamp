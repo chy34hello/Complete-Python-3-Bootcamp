{
 "cells": [
  {
   "cell_type": "markdown",
   "id": "b2cb81c5",
   "metadata": {},
   "source": [
    "Base 2, 8 ,16\n",
    "\n",
    "Unicode character set\n",
    "\n",
    "Dictionary comprehensions\n",
    "\n",
    "sorted() function\n",
    "\n",
    "lambda expressions"
   ]
  },
  {
   "cell_type": "code",
   "execution_count": 2,
   "id": "70b6344f",
   "metadata": {},
   "outputs": [
    {
     "data": {
      "text/plain": [
       "'11011'"
      ]
     },
     "execution_count": 2,
     "metadata": {},
     "output_type": "execute_result"
    }
   ],
   "source": [
    "f'{27:b}'"
   ]
  },
  {
   "cell_type": "code",
   "execution_count": 3,
   "id": "d70bd78b",
   "metadata": {},
   "outputs": [
    {
     "data": {
      "text/plain": [
       "27"
      ]
     },
     "execution_count": 3,
     "metadata": {},
     "output_type": "execute_result"
    }
   ],
   "source": [
    "1+2+8+16"
   ]
  },
  {
   "cell_type": "code",
   "execution_count": 4,
   "id": "6b690b6a",
   "metadata": {},
   "outputs": [
    {
     "data": {
      "text/plain": [
       "'33'"
      ]
     },
     "execution_count": 4,
     "metadata": {},
     "output_type": "execute_result"
    }
   ],
   "source": [
    "f'{27:o}'"
   ]
  },
  {
   "cell_type": "code",
   "execution_count": 5,
   "id": "7d8cd615",
   "metadata": {},
   "outputs": [
    {
     "data": {
      "text/plain": [
       "27"
      ]
     },
     "execution_count": 5,
     "metadata": {},
     "output_type": "execute_result"
    }
   ],
   "source": [
    "3+3*8\n"
   ]
  },
  {
   "cell_type": "code",
   "execution_count": 6,
   "id": "08075f15",
   "metadata": {},
   "outputs": [
    {
     "data": {
      "text/plain": [
       "'1b'"
      ]
     },
     "execution_count": 6,
     "metadata": {},
     "output_type": "execute_result"
    }
   ],
   "source": [
    "f'{27:x}'"
   ]
  },
  {
   "cell_type": "code",
   "execution_count": 7,
   "id": "56477b2c",
   "metadata": {},
   "outputs": [
    {
     "data": {
      "text/plain": [
       "27"
      ]
     },
     "execution_count": 7,
     "metadata": {},
     "output_type": "execute_result"
    }
   ],
   "source": [
    "11+1*16\n"
   ]
  },
  {
   "cell_type": "code",
   "execution_count": 8,
   "id": "64b17407",
   "metadata": {},
   "outputs": [
    {
     "data": {
      "text/plain": [
       "27"
      ]
     },
     "execution_count": 8,
     "metadata": {},
     "output_type": "execute_result"
    }
   ],
   "source": [
    "0b11011"
   ]
  },
  {
   "cell_type": "code",
   "execution_count": 9,
   "id": "a83e02b5",
   "metadata": {},
   "outputs": [
    {
     "data": {
      "text/plain": [
       "27"
      ]
     },
     "execution_count": 9,
     "metadata": {},
     "output_type": "execute_result"
    }
   ],
   "source": [
    "0o33"
   ]
  },
  {
   "cell_type": "code",
   "execution_count": 10,
   "id": "bdab90e9",
   "metadata": {},
   "outputs": [
    {
     "data": {
      "text/plain": [
       "27"
      ]
     },
     "execution_count": 10,
     "metadata": {},
     "output_type": "execute_result"
    }
   ],
   "source": [
    "0x1b"
   ]
  },
  {
   "cell_type": "code",
   "execution_count": 11,
   "id": "1412af7c",
   "metadata": {},
   "outputs": [
    {
     "data": {
      "text/plain": [
       "27"
      ]
     },
     "execution_count": 11,
     "metadata": {},
     "output_type": "execute_result"
    }
   ],
   "source": [
    "int('27')"
   ]
  },
  {
   "cell_type": "code",
   "execution_count": 15,
   "id": "fc2c839c",
   "metadata": {},
   "outputs": [
    {
     "data": {
      "text/plain": [
       "27"
      ]
     },
     "execution_count": 15,
     "metadata": {},
     "output_type": "execute_result"
    }
   ],
   "source": [
    "int('0b11011',2)"
   ]
  },
  {
   "cell_type": "code",
   "execution_count": 16,
   "id": "c4cbcee2",
   "metadata": {},
   "outputs": [
    {
     "data": {
      "text/plain": [
       "27"
      ]
     },
     "execution_count": 16,
     "metadata": {},
     "output_type": "execute_result"
    }
   ],
   "source": [
    "int('11011',2)"
   ]
  },
  {
   "cell_type": "code",
   "execution_count": 17,
   "id": "5ac8ed3f",
   "metadata": {},
   "outputs": [
    {
     "data": {
      "text/plain": [
       "27"
      ]
     },
     "execution_count": 17,
     "metadata": {},
     "output_type": "execute_result"
    }
   ],
   "source": [
    "int('33', 8)"
   ]
  },
  {
   "cell_type": "code",
   "execution_count": 18,
   "id": "dcec09a0",
   "metadata": {},
   "outputs": [
    {
     "data": {
      "text/plain": [
       "'='"
      ]
     },
     "execution_count": 18,
     "metadata": {},
     "output_type": "execute_result"
    }
   ],
   "source": [
    "chr(61)"
   ]
  },
  {
   "cell_type": "code",
   "execution_count": 21,
   "id": "eebb8572",
   "metadata": {},
   "outputs": [
    {
     "data": {
      "text/plain": [
       "61"
      ]
     },
     "execution_count": 21,
     "metadata": {},
     "output_type": "execute_result"
    }
   ],
   "source": [
    "ord('=')\n"
   ]
  },
  {
   "cell_type": "code",
   "execution_count": 22,
   "id": "a3985d66",
   "metadata": {},
   "outputs": [
    {
     "data": {
      "text/plain": [
       "'퐱'"
      ]
     },
     "execution_count": 22,
     "metadata": {},
     "output_type": "execute_result"
    }
   ],
   "source": [
    "chr(54321)"
   ]
  },
  {
   "cell_type": "code",
   "execution_count": 23,
   "id": "7b859131",
   "metadata": {},
   "outputs": [
    {
     "data": {
      "text/plain": [
       "54321"
      ]
     },
     "execution_count": 23,
     "metadata": {},
     "output_type": "execute_result"
    }
   ],
   "source": [
    "ord('퐱')"
   ]
  },
  {
   "cell_type": "code",
   "execution_count": 36,
   "id": "8dea386d",
   "metadata": {},
   "outputs": [
    {
     "ename": "SyntaxError",
     "evalue": "(unicode error) 'unicodeescape' codec can't decode bytes in position 0-21: unknown Unicode character name (Temp/ipykernel_24608/2989513772.py, line 1)",
     "output_type": "error",
     "traceback": [
      "\u001b[1;36m  File \u001b[1;32m\"C:\\Users\\chy34\\AppData\\Local\\Temp/ipykernel_24608/2989513772.py\"\u001b[1;36m, line \u001b[1;32m1\u001b[0m\n\u001b[1;33m    '\\N{white large circle}'\u001b[0m\n\u001b[1;37m                            ^\u001b[0m\n\u001b[1;31mSyntaxError\u001b[0m\u001b[1;31m:\u001b[0m (unicode error) 'unicodeescape' codec can't decode bytes in position 0-21: unknown Unicode character name\n"
     ]
    }
   ],
   "source": [
    "'\\N{white large circle}'"
   ]
  },
  {
   "cell_type": "code",
   "execution_count": 32,
   "id": "975ad547",
   "metadata": {},
   "outputs": [
    {
     "data": {
      "text/plain": [
       "'⬜'"
      ]
     },
     "execution_count": 32,
     "metadata": {},
     "output_type": "execute_result"
    }
   ],
   "source": [
    "'\\N{white large square}'"
   ]
  },
  {
   "cell_type": "code",
   "execution_count": 28,
   "id": "b8d0421c",
   "metadata": {},
   "outputs": [
    {
     "data": {
      "text/plain": [
       "'\\x00'"
      ]
     },
     "execution_count": 28,
     "metadata": {},
     "output_type": "execute_result"
    }
   ],
   "source": [
    "chr(0)"
   ]
  },
  {
   "cell_type": "code",
   "execution_count": 29,
   "id": "3a408569",
   "metadata": {},
   "outputs": [
    {
     "data": {
      "text/plain": [
       "'\\x01'"
      ]
     },
     "execution_count": 29,
     "metadata": {},
     "output_type": "execute_result"
    }
   ],
   "source": [
    "chr(1)"
   ]
  },
  {
   "cell_type": "code",
   "execution_count": 30,
   "id": "d28ee7e7",
   "metadata": {},
   "outputs": [
    {
     "data": {
      "text/plain": [
       "'❦'"
      ]
     },
     "execution_count": 30,
     "metadata": {},
     "output_type": "execute_result"
    }
   ],
   "source": [
    "chr(10086)"
   ]
  },
  {
   "cell_type": "code",
   "execution_count": 31,
   "id": "d680621e",
   "metadata": {},
   "outputs": [
    {
     "data": {
      "text/plain": [
       "'⬛'"
      ]
     },
     "execution_count": 31,
     "metadata": {},
     "output_type": "execute_result"
    }
   ],
   "source": [
    "'\\N{black large square}'"
   ]
  },
  {
   "cell_type": "code",
   "execution_count": 43,
   "id": "2be13131",
   "metadata": {},
   "outputs": [],
   "source": [
    "a = '\\N{black large square}'\n",
    "L=[]\n",
    "L.append(a)\n",
    "L.append(a)\n",
    "L.append(a)\n",
    "L.append(a)\n",
    "L.append(a)\n",
    "L.append(a)\n"
   ]
  },
  {
   "cell_type": "code",
   "execution_count": 44,
   "id": "f780b8c8",
   "metadata": {},
   "outputs": [
    {
     "data": {
      "text/plain": [
       "6"
      ]
     },
     "execution_count": 44,
     "metadata": {},
     "output_type": "execute_result"
    }
   ],
   "source": [
    "len(L)"
   ]
  },
  {
   "cell_type": "code",
   "execution_count": 46,
   "id": "f714db41",
   "metadata": {},
   "outputs": [],
   "source": [
    "mapping = {0: '⬛', 1:'⬜'}"
   ]
  },
  {
   "cell_type": "code",
   "execution_count": 47,
   "id": "ef86b835",
   "metadata": {},
   "outputs": [
    {
     "data": {
      "text/plain": [
       "'⬜'"
      ]
     },
     "execution_count": 47,
     "metadata": {},
     "output_type": "execute_result"
    }
   ],
   "source": [
    "mapping[1]"
   ]
  },
  {
   "cell_type": "code",
   "execution_count": 48,
   "id": "dd714d00",
   "metadata": {},
   "outputs": [
    {
     "data": {
      "text/plain": [
       "['⬛', '⬛', '⬛', '⬛', '⬛', '⬛']"
      ]
     },
     "execution_count": 48,
     "metadata": {},
     "output_type": "execute_result"
    }
   ],
   "source": [
    "L"
   ]
  },
  {
   "cell_type": "code",
   "execution_count": 49,
   "id": "9903c661",
   "metadata": {},
   "outputs": [],
   "source": [
    "L = [1,0,0,1,1,1,0]"
   ]
  },
  {
   "cell_type": "code",
   "execution_count": 50,
   "id": "02774647",
   "metadata": {},
   "outputs": [
    {
     "data": {
      "text/plain": [
       "[2, 0, 0, 2, 2, 2, 0]"
      ]
     },
     "execution_count": 50,
     "metadata": {},
     "output_type": "execute_result"
    }
   ],
   "source": [
    "[2*x for x in L]"
   ]
  },
  {
   "cell_type": "code",
   "execution_count": 51,
   "id": "57259a33",
   "metadata": {},
   "outputs": [
    {
     "data": {
      "text/plain": [
       "['⬜', '⬛', '⬛', '⬜', '⬜', '⬜', '⬛']"
      ]
     },
     "execution_count": 51,
     "metadata": {},
     "output_type": "execute_result"
    }
   ],
   "source": [
    "[mapping[x] for x in L]"
   ]
  },
  {
   "cell_type": "code",
   "execution_count": 55,
   "id": "56e9a3b5",
   "metadata": {},
   "outputs": [],
   "source": [
    "l = ''.join(mapping[x] for x in L)"
   ]
  },
  {
   "cell_type": "code",
   "execution_count": 56,
   "id": "bdbd60f9",
   "metadata": {},
   "outputs": [
    {
     "data": {
      "text/plain": [
       "str"
      ]
     },
     "execution_count": 56,
     "metadata": {},
     "output_type": "execute_result"
    }
   ],
   "source": [
    "type(l)"
   ]
  },
  {
   "cell_type": "code",
   "execution_count": 57,
   "id": "993a4948",
   "metadata": {},
   "outputs": [
    {
     "data": {
      "text/plain": [
       "'⬜⬛⬛⬜⬜⬜⬛'"
      ]
     },
     "execution_count": 57,
     "metadata": {},
     "output_type": "execute_result"
    }
   ],
   "source": [
    "l"
   ]
  },
  {
   "cell_type": "code",
   "execution_count": 58,
   "id": "b7deec97",
   "metadata": {},
   "outputs": [
    {
     "data": {
      "text/plain": [
       "[-6, -5, 1, 3, 7]"
      ]
     },
     "execution_count": 58,
     "metadata": {},
     "output_type": "execute_result"
    }
   ],
   "source": [
    "sorted([3,1,-5,7,-6])"
   ]
  },
  {
   "cell_type": "code",
   "execution_count": 60,
   "id": "e2133b3c",
   "metadata": {},
   "outputs": [
    {
     "data": {
      "text/plain": [
       "[-6, -5, 1, 3, 7]"
      ]
     },
     "execution_count": 60,
     "metadata": {},
     "output_type": "execute_result"
    }
   ],
   "source": [
    "sorted({3,1,-5,7,-6,-6})"
   ]
  },
  {
   "cell_type": "code",
   "execution_count": 62,
   "id": "db453ad1",
   "metadata": {},
   "outputs": [
    {
     "data": {
      "text/plain": [
       "[-6, -5, 1, 3, 7]"
      ]
     },
     "execution_count": 62,
     "metadata": {},
     "output_type": "execute_result"
    }
   ],
   "source": [
    "sorted({3:0,1:12,-5:'Str',7:123,-6:9.5})"
   ]
  },
  {
   "cell_type": "code",
   "execution_count": 63,
   "id": "bff883c7",
   "metadata": {},
   "outputs": [
    {
     "data": {
      "text/plain": [
       "[-6, -5, 1, 3, 7]"
      ]
     },
     "execution_count": 63,
     "metadata": {},
     "output_type": "execute_result"
    }
   ],
   "source": [
    "sorted({3:0,1:12,-5:'Str',7:123,-6:9.5}.keys())"
   ]
  },
  {
   "cell_type": "markdown",
   "id": "859e1373",
   "metadata": {},
   "source": [
    "Sort pair for the 1st element and then second elements"
   ]
  },
  {
   "cell_type": "code",
   "execution_count": 64,
   "id": "70827054",
   "metadata": {},
   "outputs": [
    {
     "data": {
      "text/plain": [
       "[(1, -5), (1, 7), (3, -2), (3, 0)]"
      ]
     },
     "execution_count": 64,
     "metadata": {},
     "output_type": "execute_result"
    }
   ],
   "source": [
    "sorted({(3,0),(3,-2),(1,7),(1,-5)})"
   ]
  },
  {
   "cell_type": "code",
   "execution_count": 65,
   "id": "e9a71b25",
   "metadata": {},
   "outputs": [
    {
     "ename": "TypeError",
     "evalue": "'<' not supported between instances of 'str' and 'int'",
     "output_type": "error",
     "traceback": [
      "\u001b[1;31m---------------------------------------------------------------------------\u001b[0m",
      "\u001b[1;31mTypeError\u001b[0m                                 Traceback (most recent call last)",
      "\u001b[1;32m~\\AppData\\Local\\Temp/ipykernel_24608/4125796871.py\u001b[0m in \u001b[0;36m<module>\u001b[1;34m\u001b[0m\n\u001b[1;32m----> 1\u001b[1;33m \u001b[0msorted\u001b[0m\u001b[1;33m(\u001b[0m\u001b[1;33m{\u001b[0m\u001b[1;36m1\u001b[0m\u001b[1;33m,\u001b[0m\u001b[1;34m'⬛'\u001b[0m\u001b[1;33m}\u001b[0m\u001b[1;33m)\u001b[0m\u001b[1;33m\u001b[0m\u001b[1;33m\u001b[0m\u001b[0m\n\u001b[0m",
      "\u001b[1;31mTypeError\u001b[0m: '<' not supported between instances of 'str' and 'int'"
     ]
    }
   ],
   "source": [
    "sorted({1,'⬛'})"
   ]
  },
  {
   "cell_type": "code",
   "execution_count": 66,
   "id": "c09cde78",
   "metadata": {},
   "outputs": [
    {
     "data": {
      "text/plain": [
       "11035"
      ]
     },
     "execution_count": 66,
     "metadata": {},
     "output_type": "execute_result"
    }
   ],
   "source": [
    "ord('⬛')"
   ]
  },
  {
   "cell_type": "code",
   "execution_count": 67,
   "id": "e0530150",
   "metadata": {},
   "outputs": [
    {
     "ename": "TypeError",
     "evalue": "'<' not supported between instances of 'tuple' and 'int'",
     "output_type": "error",
     "traceback": [
      "\u001b[1;31m---------------------------------------------------------------------------\u001b[0m",
      "\u001b[1;31mTypeError\u001b[0m                                 Traceback (most recent call last)",
      "\u001b[1;32m~\\AppData\\Local\\Temp/ipykernel_24608/2117758343.py\u001b[0m in \u001b[0;36m<module>\u001b[1;34m\u001b[0m\n\u001b[1;32m----> 1\u001b[1;33m \u001b[0msorted\u001b[0m\u001b[1;33m(\u001b[0m\u001b[1;33m{\u001b[0m\u001b[1;36m1\u001b[0m\u001b[1;33m,\u001b[0m\u001b[1;33m(\u001b[0m\u001b[1;36m2\u001b[0m\u001b[1;33m,\u001b[0m\u001b[1;33m)\u001b[0m\u001b[1;33m}\u001b[0m\u001b[1;33m)\u001b[0m\u001b[1;33m\u001b[0m\u001b[1;33m\u001b[0m\u001b[0m\n\u001b[0m",
      "\u001b[1;31mTypeError\u001b[0m: '<' not supported between instances of 'tuple' and 'int'"
     ]
    }
   ],
   "source": [
    "sorted({1,(2,)})"
   ]
  },
  {
   "cell_type": "code",
   "execution_count": 68,
   "id": "7646fd32",
   "metadata": {},
   "outputs": [
    {
     "data": {
      "text/plain": [
       "[(1,), (2,)]"
      ]
     },
     "execution_count": 68,
     "metadata": {},
     "output_type": "execute_result"
    }
   ],
   "source": [
    "sorted({(1,),(2,)})"
   ]
  },
  {
   "cell_type": "code",
   "execution_count": 69,
   "id": "528c71cd",
   "metadata": {},
   "outputs": [
    {
     "data": {
      "text/plain": [
       "[-6, -5, 1, 3, 5, 7]"
      ]
     },
     "execution_count": 69,
     "metadata": {},
     "output_type": "execute_result"
    }
   ],
   "source": [
    "sorted({3,1,-5,7,5,-6,5})"
   ]
  },
  {
   "cell_type": "code",
   "execution_count": 74,
   "id": "67f94070",
   "metadata": {},
   "outputs": [
    {
     "data": {
      "text/plain": [
       "[7, -6, 5, -5, 3, 1]"
      ]
     },
     "execution_count": 74,
     "metadata": {},
     "output_type": "execute_result"
    }
   ],
   "source": [
    "sorted({3,1,-5,7,5,-6,5},key =abs, reverse=True)"
   ]
  },
  {
   "cell_type": "code",
   "execution_count": 77,
   "id": "8538e521",
   "metadata": {},
   "outputs": [
    {
     "ename": "SyntaxError",
     "evalue": "invalid syntax (Temp/ipykernel_24608/2271547415.py, line 1)",
     "output_type": "error",
     "traceback": [
      "\u001b[1;36m  File \u001b[1;32m\"C:\\Users\\chy34\\AppData\\Local\\Temp/ipykernel_24608/2271547415.py\"\u001b[1;36m, line \u001b[1;32m1\u001b[0m\n\u001b[1;33m    a='Beautiful, is; better*than\\nugly'                                                                                                                                                                                                                                                                                                                                                                                                                                                                                                                                                                                                                                                                                                                                                                                                                                                                                                                                                                                                                                                                                                                                                                                                        import re\u001b[0m\n\u001b[1;37m                                                                                                                                                                                                                                                                                                                                                                                                                                                                                                                                                                                                                                                                                                                                                                                                                                                                                                                                                                                                                                                                                                                                                                                                                                                ^\u001b[0m\n\u001b[1;31mSyntaxError\u001b[0m\u001b[1;31m:\u001b[0m invalid syntax\n"
     ]
    }
   ],
   "source": [
    "                                                                                                      "
   ]
  },
  {
   "cell_type": "code",
   "execution_count": 79,
   "id": "2c1f640a",
   "metadata": {},
   "outputs": [
    {
     "ename": "SyntaxError",
     "evalue": "invalid syntax (Temp/ipykernel_24608/4077259241.py, line 1)",
     "output_type": "error",
     "traceback": [
      "\u001b[1;36m  File \u001b[1;32m\"C:\\Users\\chy34\\AppData\\Local\\Temp/ipykernel_24608/4077259241.py\"\u001b[1;36m, line \u001b[1;32m1\u001b[0m\n\u001b[1;33m    a='Beautiful, is; better*than\\nugly'                                                                                                                                                                                                                                                                                                                                                                                                                                                                                                                                                                                                                                                                                                                                                                                                                                                                                                                                                                                                                                                                                                                                                                                                        import re\u001b[0m\n\u001b[1;37m                                                                                                                                                                                                                                                                                                                                                                                                                                                                                                                                                                                                                                                                                                                                                                                                                                                                                                                                                                                                                                                                                                                                                                                                                                                ^\u001b[0m\n\u001b[1;31mSyntaxError\u001b[0m\u001b[1;31m:\u001b[0m invalid syntax\n"
     ]
    }
   ],
   "source": [
    "a='Beautiful, is; better*than\\nugly'                                                                                                                                                                                                                                                                                                                                                                                                                                                                                                                                                                                                                                                                                                                                                                                                                                                                                                                                                                                                                                                                                                                                                                                                    "
   ]
  },
  {
   "cell_type": "code",
   "execution_count": 80,
   "id": "cf146c6b",
   "metadata": {},
   "outputs": [],
   "source": [
    "a = []"
   ]
  },
  {
   "cell_type": "code",
   "execution_count": 83,
   "id": "55c84184",
   "metadata": {},
   "outputs": [
    {
     "data": {
      "text/plain": [
       "['Beautiful', 'is', 'better', 'than', 'ugly', '']"
      ]
     },
     "execution_count": 83,
     "metadata": {},
     "output_type": "execute_result"
    }
   ],
   "source": [
    "import re\n",
    "a='Beautiful, is; better*than\\nugly?'\n",
    "re.split('; |, |\\*|\\n|\\?',a)"
   ]
  },
  {
   "cell_type": "code",
   "execution_count": 84,
   "id": "a2ae2750",
   "metadata": {},
   "outputs": [],
   "source": [
    "a= ()"
   ]
  },
  {
   "cell_type": "code",
   "execution_count": 85,
   "id": "f3fa0e13",
   "metadata": {},
   "outputs": [
    {
     "ename": "TypeError",
     "evalue": "can only concatenate tuple (not \"int\") to tuple",
     "output_type": "error",
     "traceback": [
      "\u001b[1;31m---------------------------------------------------------------------------\u001b[0m",
      "\u001b[1;31mTypeError\u001b[0m                                 Traceback (most recent call last)",
      "\u001b[1;32m~\\AppData\\Local\\Temp/ipykernel_24608/3496036041.py\u001b[0m in \u001b[0;36m<module>\u001b[1;34m\u001b[0m\n\u001b[1;32m----> 1\u001b[1;33m \u001b[0ma\u001b[0m\u001b[1;33m+\u001b[0m\u001b[1;33m(\u001b[0m\u001b[1;36m1\u001b[0m\u001b[1;33m)\u001b[0m\u001b[1;33m\u001b[0m\u001b[1;33m\u001b[0m\u001b[0m\n\u001b[0m",
      "\u001b[1;31mTypeError\u001b[0m: can only concatenate tuple (not \"int\") to tuple"
     ]
    }
   ],
   "source": [
    "a+(1)"
   ]
  },
  {
   "cell_type": "code",
   "execution_count": 86,
   "id": "4ed83609",
   "metadata": {},
   "outputs": [
    {
     "ename": "TypeError",
     "evalue": "can only concatenate tuple (not \"int\") to tuple",
     "output_type": "error",
     "traceback": [
      "\u001b[1;31m---------------------------------------------------------------------------\u001b[0m",
      "\u001b[1;31mTypeError\u001b[0m                                 Traceback (most recent call last)",
      "\u001b[1;32m~\\AppData\\Local\\Temp/ipykernel_24608/3392120203.py\u001b[0m in \u001b[0;36m<module>\u001b[1;34m\u001b[0m\n\u001b[1;32m----> 1\u001b[1;33m \u001b[0mb\u001b[0m\u001b[1;33m=\u001b[0m \u001b[0ma\u001b[0m\u001b[1;33m+\u001b[0m\u001b[1;33m(\u001b[0m\u001b[1;36m4\u001b[0m\u001b[1;33m)\u001b[0m\u001b[1;33m\u001b[0m\u001b[1;33m\u001b[0m\u001b[0m\n\u001b[0m",
      "\u001b[1;31mTypeError\u001b[0m: can only concatenate tuple (not \"int\") to tuple"
     ]
    }
   ],
   "source": [
    "b= a+(4)"
   ]
  },
  {
   "cell_type": "code",
   "execution_count": 90,
   "id": "68cd17d7",
   "metadata": {},
   "outputs": [],
   "source": []
  },
  {
   "cell_type": "code",
   "execution_count": 93,
   "id": "1bde2de3",
   "metadata": {},
   "outputs": [
    {
     "ename": "TypeError",
     "evalue": "unsupported operand type(s) for +: 'int' and 'tuple'",
     "output_type": "error",
     "traceback": [
      "\u001b[1;31m---------------------------------------------------------------------------\u001b[0m",
      "\u001b[1;31mTypeError\u001b[0m                                 Traceback (most recent call last)",
      "\u001b[1;32m~\\AppData\\Local\\Temp/ipykernel_24608/3486356474.py\u001b[0m in \u001b[0;36m<module>\u001b[1;34m\u001b[0m\n\u001b[1;32m----> 1\u001b[1;33m \u001b[0mb\u001b[0m\u001b[1;33m=\u001b[0m \u001b[0ma\u001b[0m \u001b[1;33m+\u001b[0m \u001b[1;33m(\u001b[0m\u001b[1;36m4\u001b[0m\u001b[1;33m,\u001b[0m\u001b[1;33m)\u001b[0m\u001b[1;33m\u001b[0m\u001b[1;33m\u001b[0m\u001b[0m\n\u001b[0m",
      "\u001b[1;31mTypeError\u001b[0m: unsupported operand type(s) for +: 'int' and 'tuple'"
     ]
    }
   ],
   "source": []
  },
  {
   "cell_type": "code",
   "execution_count": 92,
   "id": "704a6cbd",
   "metadata": {},
   "outputs": [
    {
     "data": {
      "text/plain": [
       "5"
      ]
     },
     "execution_count": 92,
     "metadata": {},
     "output_type": "execute_result"
    }
   ],
   "source": [
    "b"
   ]
  },
  {
   "cell_type": "code",
   "execution_count": 100,
   "id": "eab0123f",
   "metadata": {},
   "outputs": [],
   "source": [
    "a = []\n",
    "for p in range(8):\n",
    "   a.append(f'{p:03b}')"
   ]
  },
  {
   "cell_type": "code",
   "execution_count": 101,
   "id": "8a573a44",
   "metadata": {},
   "outputs": [
    {
     "data": {
      "text/plain": [
       "['0', '1', '10', '11', '100', '101', '110', '111']"
      ]
     },
     "execution_count": 101,
     "metadata": {},
     "output_type": "execute_result"
    }
   ],
   "source": [
    "a"
   ]
  },
  {
   "cell_type": "code",
   "execution_count": null,
   "id": "0450c303",
   "metadata": {},
   "outputs": [],
   "source": []
  }
 ],
 "metadata": {
  "kernelspec": {
   "display_name": "Python 3 (ipykernel)",
   "language": "python",
   "name": "python3"
  },
  "language_info": {
   "codemirror_mode": {
    "name": "ipython",
    "version": 3
   },
   "file_extension": ".py",
   "mimetype": "text/x-python",
   "name": "python",
   "nbconvert_exporter": "python",
   "pygments_lexer": "ipython3",
   "version": "3.9.7"
  }
 },
 "nbformat": 4,
 "nbformat_minor": 5
}
