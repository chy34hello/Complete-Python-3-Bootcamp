{
 "cells": [
  {
   "cell_type": "code",
   "execution_count": 1,
   "id": "d98999f7-bd8a-4407-8745-e7bb38d6cdae",
   "metadata": {},
   "outputs": [],
   "source": [
    "L = [1, 0, 2, 0, 0, 3, 0, 0, 0, 4, 0]"
   ]
  },
  {
   "cell_type": "code",
   "execution_count": 2,
   "id": "82431669-cbc9-4afc-8a7a-d290eb23dd34",
   "metadata": {},
   "outputs": [
    {
     "data": {
      "text/plain": [
       "['1', '0', '2', '0', '0', '3', '0', '0', '0', '4', '0']"
      ]
     },
     "execution_count": 2,
     "metadata": {},
     "output_type": "execute_result"
    }
   ],
   "source": [
    "[str(e) for e in L]"
   ]
  },
  {
   "cell_type": "code",
   "execution_count": 3,
   "id": "3e729358-3dd3-49f5-ad18-880116534751",
   "metadata": {},
   "outputs": [
    {
     "data": {
      "text/plain": [
       "[1, 0, 2, 0, 0, 3, 0, 0, 0, 4, 0]"
      ]
     },
     "execution_count": 3,
     "metadata": {},
     "output_type": "execute_result"
    }
   ],
   "source": [
    "[e for e in L]"
   ]
  },
  {
   "cell_type": "code",
   "execution_count": 5,
   "id": "fa075b9c-3735-40db-858d-c1a5c2398bea",
   "metadata": {},
   "outputs": [
    {
     "data": {
      "text/plain": [
       "[1, 2, 3, 4]"
      ]
     },
     "execution_count": 5,
     "metadata": {},
     "output_type": "execute_result"
    },
    {
     "data": {
      "text/plain": [
       "[1, 0, 2, 0, 0, 3, 0, 0, 0, 4, 0]"
      ]
     },
     "execution_count": 5,
     "metadata": {},
     "output_type": "execute_result"
    }
   ],
   "source": [
    "[e for e in L if e]\n",
    "L"
   ]
  },
  {
   "cell_type": "code",
   "execution_count": 6,
   "id": "d779c7de-ca83-44c6-8bba-1d8d13f96cd3",
   "metadata": {},
   "outputs": [
    {
     "data": {
      "text/plain": [
       "[1, 2, 3, 4]"
      ]
     },
     "execution_count": 6,
     "metadata": {},
     "output_type": "execute_result"
    }
   ],
   "source": [
    "L = [e for e in L if e]\n",
    "L"
   ]
  },
  {
   "cell_type": "code",
   "execution_count": 7,
   "id": "9f6d6db9-1bf1-441e-aac4-1cea71094e2d",
   "metadata": {},
   "outputs": [
    {
     "data": {
      "text/plain": [
       "['__add__',\n",
       " '__class__',\n",
       " '__class_getitem__',\n",
       " '__contains__',\n",
       " '__delattr__',\n",
       " '__delitem__',\n",
       " '__dir__',\n",
       " '__doc__',\n",
       " '__eq__',\n",
       " '__format__',\n",
       " '__ge__',\n",
       " '__getattribute__',\n",
       " '__getitem__',\n",
       " '__gt__',\n",
       " '__hash__',\n",
       " '__iadd__',\n",
       " '__imul__',\n",
       " '__init__',\n",
       " '__init_subclass__',\n",
       " '__iter__',\n",
       " '__le__',\n",
       " '__len__',\n",
       " '__lt__',\n",
       " '__mul__',\n",
       " '__ne__',\n",
       " '__new__',\n",
       " '__reduce__',\n",
       " '__reduce_ex__',\n",
       " '__repr__',\n",
       " '__reversed__',\n",
       " '__rmul__',\n",
       " '__setattr__',\n",
       " '__setitem__',\n",
       " '__sizeof__',\n",
       " '__str__',\n",
       " '__subclasshook__',\n",
       " 'append',\n",
       " 'clear',\n",
       " 'copy',\n",
       " 'count',\n",
       " 'extend',\n",
       " 'index',\n",
       " 'insert',\n",
       " 'pop',\n",
       " 'remove',\n",
       " 'reverse',\n",
       " 'sort']"
      ]
     },
     "execution_count": 7,
     "metadata": {},
     "output_type": "execute_result"
    }
   ],
   "source": [
    "dir(L)"
   ]
  },
  {
   "cell_type": "code",
   "execution_count": 9,
   "id": "e5db0440-2c47-41f6-a105-1c3de6eb3309",
   "metadata": {},
   "outputs": [
    {
     "name": "stdout",
     "output_type": "stream",
     "text": [
      "1  0  2  0  0  3  0  0  0  4  0  "
     ]
    }
   ],
   "source": [
    "L = [1, 0, 2, 0, 0, 3, 0, 0, 0, 4, 0]\n",
    "for e in L:\n",
    "    print(e, end='  ')"
   ]
  },
  {
   "cell_type": "code",
   "execution_count": 10,
   "id": "e9f61e22-58f0-41df-ba10-34640ae99b5b",
   "metadata": {},
   "outputs": [
    {
     "name": "stdout",
     "output_type": "stream",
     "text": [
      "1  0  2  0  0  3  0  0  0  4  0  "
     ]
    }
   ],
   "source": [
    "L = [1, 0, 2, 0, 0, 3, 0, 0, 0, 4, 0]\n",
    "for i in range(len(L)):\n",
    "    print(L[i], end='  ')"
   ]
  },
  {
   "cell_type": "code",
   "execution_count": 8,
   "id": "090cd6cd-36a9-40c9-9810-040176bd3356",
   "metadata": {},
   "outputs": [
    {
     "data": {
      "text/plain": [
       "[1, 2, 3, 0, 4, 0]"
      ]
     },
     "execution_count": 8,
     "metadata": {},
     "output_type": "execute_result"
    }
   ],
   "source": [
    "L = [1, 0, 2, 0, 0, 3, 0, 0, 0, 4, 0]\n",
    "for e in L:\n",
    "    if e == 0:\n",
    "        L.remove(e)\n",
    "L"
   ]
  },
  {
   "cell_type": "code",
   "execution_count": null,
   "id": "e18811e9-31dc-4e84-b359-64aaf90bc8e5",
   "metadata": {},
   "outputs": [],
   "source": [
    "[1, 2, 0, 3, 0, 4]"
   ]
  },
  {
   "cell_type": "code",
   "execution_count": 15,
   "id": "db8d1faa-29eb-4114-8c16-697256ee1e03",
   "metadata": {},
   "outputs": [
    {
     "data": {
      "text/plain": [
       "[1, 2, 0, 0, 3, 0, 0, 0, 4, 0]"
      ]
     },
     "execution_count": 15,
     "metadata": {},
     "output_type": "execute_result"
    },
    {
     "data": {
      "text/plain": [
       "[1, 2, 0, 3, 0, 0, 0, 4, 0]"
      ]
     },
     "execution_count": 15,
     "metadata": {},
     "output_type": "execute_result"
    },
    {
     "data": {
      "text/plain": [
       "[1, 2, 3, 0, 0, 0, 4, 0]"
      ]
     },
     "execution_count": 15,
     "metadata": {},
     "output_type": "execute_result"
    },
    {
     "data": {
      "text/plain": [
       "[1, 2, 3, 0, 0, 4, 0]"
      ]
     },
     "execution_count": 15,
     "metadata": {},
     "output_type": "execute_result"
    }
   ],
   "source": [
    "L = [1, 0, 2, 0, 0, 3, 0, 0, 0, 4, 0]\n",
    "L.remove(0)\n",
    "L\n",
    "L.remove(0)\n",
    "L\n",
    "L.remove(0)\n",
    "L\n",
    "L.remove(0)\n",
    "L"
   ]
  },
  {
   "cell_type": "code",
   "execution_count": 12,
   "id": "faf704cd-2442-4e22-b19d-82b9407ff292",
   "metadata": {},
   "outputs": [
    {
     "data": {
      "text/plain": [
       "[1, 2, 3, 0, 4, 0]"
      ]
     },
     "execution_count": 12,
     "metadata": {},
     "output_type": "execute_result"
    }
   ],
   "source": [
    "L = [1, 0, 2, 0, 0, 3, 0, 0, 0, 4, 0]\n",
    "for e in L:\n",
    "    if e == 0:\n",
    "        L.remove(e)\n",
    "L"
   ]
  },
  {
   "cell_type": "code",
   "execution_count": 14,
   "id": "b5ee2e3a",
   "metadata": {},
   "outputs": [
    {
     "ename": "AttributeError",
     "evalue": "'list' object has no attribute 'add'",
     "output_type": "error",
     "traceback": [
      "\u001b[1;31m---------------------------------------------------------------------------\u001b[0m",
      "\u001b[1;31mAttributeError\u001b[0m                            Traceback (most recent call last)",
      "\u001b[1;32m~\\AppData\\Local\\Temp/ipykernel_7676/1125770828.py\u001b[0m in \u001b[0;36m<module>\u001b[1;34m\u001b[0m\n\u001b[0;32m      1\u001b[0m \u001b[0mL\u001b[0m \u001b[1;33m=\u001b[0m \u001b[1;33m[\u001b[0m\u001b[1;36m1\u001b[0m\u001b[1;33m,\u001b[0m\u001b[1;36m2\u001b[0m\u001b[1;33m,\u001b[0m\u001b[1;36m3\u001b[0m\u001b[1;33m,\u001b[0m\u001b[1;36m4\u001b[0m\u001b[1;33m,\u001b[0m\u001b[1;36m5\u001b[0m\u001b[1;33m,\u001b[0m\u001b[1;36m7\u001b[0m\u001b[1;33m]\u001b[0m\u001b[1;33m\u001b[0m\u001b[1;33m\u001b[0m\u001b[0m\n\u001b[0;32m      2\u001b[0m \u001b[1;32mfor\u001b[0m \u001b[0me\u001b[0m \u001b[1;32min\u001b[0m \u001b[0mL\u001b[0m\u001b[1;33m:\u001b[0m\u001b[1;33m\u001b[0m\u001b[1;33m\u001b[0m\u001b[0m\n\u001b[1;32m----> 3\u001b[1;33m     \u001b[0mL\u001b[0m\u001b[1;33m.\u001b[0m\u001b[0madd\u001b[0m\u001b[1;33m(\u001b[0m\u001b[1;36m2\u001b[0m\u001b[1;33m*\u001b[0m\u001b[0me\u001b[0m\u001b[1;33m)\u001b[0m\u001b[1;33m\u001b[0m\u001b[1;33m\u001b[0m\u001b[0m\n\u001b[0m\u001b[0;32m      4\u001b[0m \u001b[0mL\u001b[0m\u001b[1;33m\u001b[0m\u001b[1;33m\u001b[0m\u001b[0m\n",
      "\u001b[1;31mAttributeError\u001b[0m: 'list' object has no attribute 'add'"
     ]
    }
   ],
   "source": [
    "L = [1,2,3,4,5,7]\n",
    "for e in L:\n",
    "    L.append(2*e)\n",
    "L"
   ]
  },
  {
   "cell_type": "code",
   "execution_count": null,
   "id": "58c536a3-2a94-45ee-b1f8-9d1619773139",
   "metadata": {},
   "outputs": [],
   "source": [
    "[1, 2, 3, 0, 4, 0]"
   ]
  },
  {
   "cell_type": "code",
   "execution_count": 19,
   "id": "606a35f3-c1e4-4c31-ad73-6af1462ac885",
   "metadata": {},
   "outputs": [
    {
     "data": {
      "text/plain": [
       "[1, 0, 2, 0, 0, 3, 0, 0, 0, 4, 0]"
      ]
     },
     "execution_count": 19,
     "metadata": {},
     "output_type": "execute_result"
    },
    {
     "data": {
      "text/plain": [
       "[1, 0, 0, 0, 3, 0, 0, 0, 4, 0]"
      ]
     },
     "execution_count": 19,
     "metadata": {},
     "output_type": "execute_result"
    }
   ],
   "source": [
    "L = [1, 0, 2, 0, 0, 3, 0, 0, 0, 4, 0]\n",
    "L1 = list(L)\n",
    "L1.remove(2)\n",
    "L\n",
    "L1"
   ]
  },
  {
   "cell_type": "code",
   "execution_count": 20,
   "id": "3c7019a1-554c-4267-af24-049234739812",
   "metadata": {},
   "outputs": [
    {
     "data": {
      "text/plain": [
       "[1, 2, 3, 4]"
      ]
     },
     "execution_count": 20,
     "metadata": {},
     "output_type": "execute_result"
    }
   ],
   "source": [
    "L = [1, 0, 2, 0, 0, 3, 0, 0, 0, 4, 0]\n",
    "for e in list(L):\n",
    "    if e == 0:\n",
    "        L.remove(e)\n",
    "L"
   ]
  },
  {
   "cell_type": "code",
   "execution_count": 11,
   "id": "f02ff365",
   "metadata": {},
   "outputs": [
    {
     "data": {
      "text/plain": [
       "'vertical'"
      ]
     },
     "execution_count": 11,
     "metadata": {},
     "output_type": "execute_result"
    }
   ],
   "source": [
    "D={(-2,2): 'vertical', (2,2): 'vertical', (-2,-2): 'vertical', (2,-2): 'vertical'}\n",
    "D\n",
    "\n",
    "D.pop((-2,2))\n",
    "\n",
    "\n",
    "    "
   ]
  },
  {
   "cell_type": "code",
   "execution_count": 24,
   "id": "7407b6ed-0f7d-4a10-950d-cbcd34843c8d",
   "metadata": {},
   "outputs": [
    {
     "ename": "RuntimeError",
     "evalue": "Set changed size during iteration",
     "output_type": "error",
     "traceback": [
      "\u001b[0;31m---------------------------------------------------------------------------\u001b[0m",
      "\u001b[0;31mRuntimeError\u001b[0m                              Traceback (most recent call last)",
      "Input \u001b[0;32mIn [24]\u001b[0m, in \u001b[0;36m<cell line: 2>\u001b[0;34m()\u001b[0m\n\u001b[1;32m      1\u001b[0m S \u001b[38;5;241m=\u001b[39m {\u001b[38;5;241m1\u001b[39m, \u001b[38;5;241m0\u001b[39m, \u001b[38;5;241m2\u001b[39m, \u001b[38;5;241m0\u001b[39m, \u001b[38;5;241m0\u001b[39m, \u001b[38;5;241m3\u001b[39m, \u001b[38;5;241m0\u001b[39m, \u001b[38;5;241m0\u001b[39m, \u001b[38;5;241m0\u001b[39m, \u001b[38;5;241m4\u001b[39m, \u001b[38;5;241m0\u001b[39m}\n\u001b[0;32m----> 2\u001b[0m \u001b[38;5;28;01mfor\u001b[39;00m e \u001b[38;5;129;01min\u001b[39;00m S:\n\u001b[1;32m      3\u001b[0m     \u001b[38;5;28;01mif\u001b[39;00m e \u001b[38;5;241m==\u001b[39m \u001b[38;5;241m0\u001b[39m:\n\u001b[1;32m      4\u001b[0m         S\u001b[38;5;241m.\u001b[39mremove(e)\n",
      "\u001b[0;31mRuntimeError\u001b[0m: Set changed size during iteration"
     ]
    }
   ],
   "source": [
    "S = {1, 0, 2, 0, 0, 3, 0, 0, 0, 4, 0}\n",
    "for e in S:\n",
    "    if e == 0:\n",
    "        S.remove(e)\n",
    "S"
   ]
  },
  {
   "cell_type": "code",
   "execution_count": 25,
   "id": "22e7505e-b38b-4cb1-b71f-378b782b01a4",
   "metadata": {},
   "outputs": [
    {
     "data": {
      "text/plain": [
       "{1, 2, 3, 4}"
      ]
     },
     "execution_count": 25,
     "metadata": {},
     "output_type": "execute_result"
    }
   ],
   "source": [
    "S = {1, 0, 2, 0, 0, 3, 0, 0, 0, 4, 0}\n",
    "for e in set(S):\n",
    "    if e == 0:\n",
    "        S.remove(e)\n",
    "S"
   ]
  },
  {
   "cell_type": "code",
   "execution_count": 26,
   "id": "8efcf4c8-b4c1-41ac-ab22-a2fd891a5aa8",
   "metadata": {},
   "outputs": [
    {
     "ename": "TypeError",
     "evalue": "unhashable type: 'list'",
     "output_type": "error",
     "traceback": [
      "\u001b[0;31m---------------------------------------------------------------------------\u001b[0m",
      "\u001b[0;31mTypeError\u001b[0m                                 Traceback (most recent call last)",
      "Input \u001b[0;32mIn [26]\u001b[0m, in \u001b[0;36m<cell line: 1>\u001b[0;34m()\u001b[0m\n\u001b[0;32m----> 1\u001b[0m {[\u001b[38;5;241m0\u001b[39m]}\n",
      "\u001b[0;31mTypeError\u001b[0m: unhashable type: 'list'"
     ]
    }
   ],
   "source": [
    "{[0]}"
   ]
  },
  {
   "cell_type": "code",
   "execution_count": 27,
   "id": "2eb2786a-b733-4c10-8ffa-1cac7dec7f8d",
   "metadata": {},
   "outputs": [
    {
     "ename": "TypeError",
     "evalue": "unhashable type: 'set'",
     "output_type": "error",
     "traceback": [
      "\u001b[0;31m---------------------------------------------------------------------------\u001b[0m",
      "\u001b[0;31mTypeError\u001b[0m                                 Traceback (most recent call last)",
      "Input \u001b[0;32mIn [27]\u001b[0m, in \u001b[0;36m<cell line: 1>\u001b[0;34m()\u001b[0m\n\u001b[0;32m----> 1\u001b[0m {{\u001b[38;5;241m0\u001b[39m}}\n",
      "\u001b[0;31mTypeError\u001b[0m: unhashable type: 'set'"
     ]
    }
   ],
   "source": [
    "{{0}}"
   ]
  },
  {
   "cell_type": "code",
   "execution_count": 28,
   "id": "37e636d9-6cd6-4c7a-892a-e810005dde90",
   "metadata": {},
   "outputs": [
    {
     "data": {
      "text/plain": [
       "{(0,)}"
      ]
     },
     "execution_count": 28,
     "metadata": {},
     "output_type": "execute_result"
    }
   ],
   "source": [
    "{(0,)}"
   ]
  },
  {
   "cell_type": "code",
   "execution_count": null,
   "id": "cda1bcf0-42ee-4b62-a293-dd5210c9917e",
   "metadata": {},
   "outputs": [],
   "source": [
    "(0, 0, 0) -> 0/1, (0, 0, 1) -> 0/1 ... (1, 1, 1) -> 0/1"
   ]
  },
  {
   "cell_type": "code",
   "execution_count": 29,
   "id": "ba5a8cbf-e2a8-4dc7-9f66-1021320078a3",
   "metadata": {},
   "outputs": [
    {
     "data": {
      "text/plain": [
       "256"
      ]
     },
     "execution_count": 29,
     "metadata": {},
     "output_type": "execute_result"
    }
   ],
   "source": [
    "2 ** 8"
   ]
  },
  {
   "cell_type": "code",
   "execution_count": 30,
   "id": "2eeb3c82-0263-4d9a-9e5f-b837546677ec",
   "metadata": {},
   "outputs": [
    {
     "data": {
      "text/plain": [
       "'10111'"
      ]
     },
     "execution_count": 30,
     "metadata": {},
     "output_type": "execute_result"
    }
   ],
   "source": [
    "f'{23:b}'"
   ]
  },
  {
   "cell_type": "code",
   "execution_count": 31,
   "id": "06bfadc0-3d3a-4ed0-bf66-92374dc182d8",
   "metadata": {},
   "outputs": [
    {
     "data": {
      "text/plain": [
       "'   10111'"
      ]
     },
     "execution_count": 31,
     "metadata": {},
     "output_type": "execute_result"
    }
   ],
   "source": [
    "f'{23:8b}'"
   ]
  },
  {
   "cell_type": "code",
   "execution_count": 32,
   "id": "bfb42a70-a724-488b-8337-cc151909426c",
   "metadata": {},
   "outputs": [
    {
     "data": {
      "text/plain": [
       "'00010111'"
      ]
     },
     "execution_count": 32,
     "metadata": {},
     "output_type": "execute_result"
    }
   ],
   "source": [
    "f'{23:08b}'"
   ]
  },
  {
   "cell_type": "code",
   "execution_count": 33,
   "id": "16aaddb9-92b9-4285-a0c9-4dcb5f8ca592",
   "metadata": {},
   "outputs": [
    {
     "data": {
      "text/plain": [
       "['0', '0', '0', '1', '0', '1', '1', '1']"
      ]
     },
     "execution_count": 33,
     "metadata": {},
     "output_type": "execute_result"
    }
   ],
   "source": [
    "list(f'{23:08b}')"
   ]
  },
  {
   "cell_type": "code",
   "execution_count": 34,
   "id": "04da8d9a-a5d3-4236-afc0-4fe32838cf92",
   "metadata": {},
   "outputs": [
    {
     "data": {
      "text/plain": [
       "[0, 0, 0, 1, 0, 1, 1, 1]"
      ]
     },
     "execution_count": 34,
     "metadata": {},
     "output_type": "execute_result"
    }
   ],
   "source": [
    "[int(e) for e in f'{23:08b}']"
   ]
  },
  {
   "cell_type": "code",
   "execution_count": 35,
   "id": "1cbe03a5-9447-416d-95e9-8e85ddd1670e",
   "metadata": {},
   "outputs": [
    {
     "data": {
      "text/plain": [
       "[0, 0, 0, 0, 0, 0, 0, 0]"
      ]
     },
     "execution_count": 35,
     "metadata": {},
     "output_type": "execute_result"
    }
   ],
   "source": [
    "[int(e) for e in f'{0:08b}']"
   ]
  },
  {
   "cell_type": "code",
   "execution_count": 36,
   "id": "9df41318-ae66-44ed-906f-857d2dcf6488",
   "metadata": {},
   "outputs": [
    {
     "data": {
      "text/plain": [
       "[1, 1, 1, 1, 1, 1, 1, 1]"
      ]
     },
     "execution_count": 36,
     "metadata": {},
     "output_type": "execute_result"
    }
   ],
   "source": [
    "[int(e) for e in f'{2 ** 8 - 1:08b}']"
   ]
  },
  {
   "cell_type": "code",
   "execution_count": 37,
   "id": "b1883495-1e42-450f-8f54-5d0f028ff4cf",
   "metadata": {},
   "outputs": [
    {
     "data": {
      "text/plain": [
       "'000'"
      ]
     },
     "execution_count": 37,
     "metadata": {},
     "output_type": "execute_result"
    }
   ],
   "source": [
    "f'{0:03b}'"
   ]
  },
  {
   "cell_type": "code",
   "execution_count": 39,
   "id": "24e429c0-a5e9-4088-89de-f66f07df0f15",
   "metadata": {},
   "outputs": [
    {
     "data": {
      "text/plain": [
       "'111'"
      ]
     },
     "execution_count": 39,
     "metadata": {},
     "output_type": "execute_result"
    },
    {
     "data": {
      "text/plain": [
       "'111'"
      ]
     },
     "execution_count": 39,
     "metadata": {},
     "output_type": "execute_result"
    }
   ],
   "source": [
    "f'{7:03b}'\n",
    "f'{2 ** 3 - 1:03b}'"
   ]
  },
  {
   "cell_type": "code",
   "execution_count": 40,
   "id": "b8d24b1c-8366-414d-b88d-6cdfef8158e5",
   "metadata": {},
   "outputs": [
    {
     "name": "stdout",
     "output_type": "stream",
     "text": [
      "000\n",
      "001\n",
      "010\n",
      "011\n",
      "100\n",
      "101\n",
      "110\n",
      "111\n"
     ]
    }
   ],
   "source": [
    "for n in range(8):\n",
    "    print(f'{n:03b}')"
   ]
  },
  {
   "cell_type": "code",
   "execution_count": 41,
   "id": "fe7c5aae-e4cb-483c-ad19-e96dd5e8c080",
   "metadata": {},
   "outputs": [
    {
     "name": "stdout",
     "output_type": "stream",
     "text": [
      "<generator object <genexpr> at 0x10d534270>\n",
      "<generator object <genexpr> at 0x10d534270>\n",
      "<generator object <genexpr> at 0x10d534270>\n",
      "<generator object <genexpr> at 0x10d534270>\n",
      "<generator object <genexpr> at 0x10d534270>\n",
      "<generator object <genexpr> at 0x10d534270>\n",
      "<generator object <genexpr> at 0x10d534270>\n",
      "<generator object <genexpr> at 0x10d534270>\n"
     ]
    }
   ],
   "source": [
    "for n in range(8):\n",
    "    print((int(e) for e in f'{n:03b}'))"
   ]
  },
  {
   "cell_type": "code",
   "execution_count": 42,
   "id": "35fc1040-96a5-4670-a1f3-6d75f6528f92",
   "metadata": {},
   "outputs": [
    {
     "name": "stdout",
     "output_type": "stream",
     "text": [
      "(0, 0, 0)\n",
      "(0, 0, 1)\n",
      "(0, 1, 0)\n",
      "(0, 1, 1)\n",
      "(1, 0, 0)\n",
      "(1, 0, 1)\n",
      "(1, 1, 0)\n",
      "(1, 1, 1)\n"
     ]
    }
   ],
   "source": [
    "for n in range(8):\n",
    "    print(tuple(int(e) for e in f'{n:03b}'))"
   ]
  },
  {
   "cell_type": "code",
   "execution_count": 45,
   "id": "7881efb2-ed15-4eeb-abb7-cdac5f7463ee",
   "metadata": {},
   "outputs": [
    {
     "data": {
      "text/plain": [
       "[0, 0, 0, 1, 0, 1, 1, 1]"
      ]
     },
     "execution_count": 45,
     "metadata": {},
     "output_type": "execute_result"
    }
   ],
   "source": [
    "rule_nb = 75 # Between 0 and 2 * - 1\n",
    "values = [int(e) for e in f'{23:08b}']\n",
    "values"
   ]
  },
  {
   "cell_type": "code",
   "execution_count": 51,
   "id": "e07cdd55-8531-43cf-8510-d941c5570c30",
   "metadata": {},
   "outputs": [
    {
     "data": {
      "text/plain": [
       "{(0, 0, 0): 0,\n",
       " (0, 0, 1): 0,\n",
       " (0, 1, 0): 0,\n",
       " (0, 1, 1): 1,\n",
       " (1, 0, 0): 0,\n",
       " (1, 0, 1): 1,\n",
       " (1, 1, 0): 1,\n",
       " (1, 1, 1): 1}"
      ]
     },
     "execution_count": 51,
     "metadata": {},
     "output_type": "execute_result"
    }
   ],
   "source": [
    "D = {}\n",
    "for n in range(8):\n",
    "    D[tuple(int(e) for e in f'{n:03b}')] = values[n]\n",
    "D"
   ]
  },
  {
   "cell_type": "code",
   "execution_count": 53,
   "id": "3971f180-d6e4-4bc4-8422-605a421b7bdd",
   "metadata": {},
   "outputs": [
    {
     "data": {
      "text/plain": [
       "{(0, 0, 0): 1,\n",
       " (0, 0, 1): 1,\n",
       " (0, 1, 0): 1,\n",
       " (0, 1, 1): 0,\n",
       " (1, 0, 0): 1,\n",
       " (1, 0, 1): 0,\n",
       " (1, 1, 0): 0,\n",
       " (1, 1, 1): 0}"
      ]
     },
     "execution_count": 53,
     "metadata": {},
     "output_type": "execute_result"
    }
   ],
   "source": [
    "D = {}\n",
    "for n in range(8):\n",
    "    D[tuple(int(e) for e in f'{n:03b}')] = values[-n - 1]\n",
    "D"
   ]
  },
  {
   "cell_type": "code",
   "execution_count": 54,
   "id": "754fa41e-3926-41da-8fda-de54e242f737",
   "metadata": {},
   "outputs": [
    {
     "data": {
      "text/plain": [
       "{(0, 0, 0): 1,\n",
       " (0, 0, 1): 1,\n",
       " (0, 1, 0): 1,\n",
       " (0, 1, 1): 0,\n",
       " (1, 0, 0): 1,\n",
       " (1, 0, 1): 0,\n",
       " (1, 1, 0): 0,\n",
       " (1, 1, 1): 0}"
      ]
     },
     "execution_count": 54,
     "metadata": {},
     "output_type": "execute_result"
    }
   ],
   "source": [
    "D = {}\n",
    "for n in range(8):\n",
    "    D[tuple(int(e) for e in f'{n:03b}')] = values[7 - n]\n",
    "D"
   ]
  },
  {
   "cell_type": "code",
   "execution_count": 57,
   "id": "a06a534e-e754-4aa7-9bb7-51f7c2b4e1ce",
   "metadata": {},
   "outputs": [
    {
     "data": {
      "text/plain": [
       "(1234567, 8)"
      ]
     },
     "execution_count": 57,
     "metadata": {},
     "output_type": "execute_result"
    },
    {
     "data": {
      "text/plain": [
       "(123456, 78)"
      ]
     },
     "execution_count": 57,
     "metadata": {},
     "output_type": "execute_result"
    },
    {
     "data": {
      "text/plain": [
       "(1234, 5678)"
      ]
     },
     "execution_count": 57,
     "metadata": {},
     "output_type": "execute_result"
    }
   ],
   "source": [
    "12345678 // 10, 12345678 % 10\n",
    "12345678 // 100, 12345678 % 100\n",
    "12345678 // 10 ** 4, 12345678 % 10 ** 4"
   ]
  },
  {
   "cell_type": "code",
   "execution_count": 59,
   "id": "f47c3065-76fa-48bb-a3b2-f28c99a6905a",
   "metadata": {},
   "outputs": [
    {
     "data": {
      "text/plain": [
       "'11000000011101'"
      ]
     },
     "execution_count": 59,
     "metadata": {},
     "output_type": "execute_result"
    }
   ],
   "source": [
    "x = 12317\n",
    "f'{x:b}'"
   ]
  },
  {
   "cell_type": "code",
   "execution_count": 66,
   "id": "9e030f6b-d58d-46d1-ae5f-9d388d1ef3bc",
   "metadata": {},
   "outputs": [
    {
     "data": {
      "text/plain": [
       "12317"
      ]
     },
     "execution_count": 66,
     "metadata": {},
     "output_type": "execute_result"
    },
    {
     "data": {
      "text/plain": [
       "(6158, 1)"
      ]
     },
     "execution_count": 66,
     "metadata": {},
     "output_type": "execute_result"
    },
    {
     "data": {
      "text/plain": [
       "('1100000001110', '1')"
      ]
     },
     "execution_count": 66,
     "metadata": {},
     "output_type": "execute_result"
    }
   ],
   "source": [
    "x\n",
    "x // 2, x % 2\n",
    "f'{x // 2:01b}', f'{x % 2:01b}'"
   ]
  },
  {
   "cell_type": "code",
   "execution_count": 68,
   "id": "d7e4c5f9-017e-4b0c-b448-2ab346bc6f04",
   "metadata": {},
   "outputs": [
    {
     "data": {
      "text/plain": [
       "'11000000011101'"
      ]
     },
     "execution_count": 68,
     "metadata": {},
     "output_type": "execute_result"
    },
    {
     "data": {
      "text/plain": [
       "('110000000111', '01')"
      ]
     },
     "execution_count": 68,
     "metadata": {},
     "output_type": "execute_result"
    }
   ],
   "source": [
    "f'{x:b}'\n",
    "f'{x // 4:02b}', f'{x % 4:02b}'"
   ]
  },
  {
   "cell_type": "code",
   "execution_count": 69,
   "id": "12d8c426-dd79-4e1e-9bd6-e3237b94e346",
   "metadata": {},
   "outputs": [
    {
     "data": {
      "text/plain": [
       "'11000000011101'"
      ]
     },
     "execution_count": 69,
     "metadata": {},
     "output_type": "execute_result"
    },
    {
     "data": {
      "text/plain": [
       "('11000000011', '101')"
      ]
     },
     "execution_count": 69,
     "metadata": {},
     "output_type": "execute_result"
    }
   ],
   "source": [
    "f'{x:b}'\n",
    "f'{x // 8:03b}', f'{x % 8:03b}'"
   ]
  },
  {
   "cell_type": "code",
   "execution_count": null,
   "id": "9c68daeb-2bdf-4e00-8e83-e843bfd4013e",
   "metadata": {},
   "outputs": [],
   "source": [
    "101\n",
    "% 2\n",
    "% 4 // 2   OR // 2 % 2\n",
    "// 4"
   ]
  },
  {
   "cell_type": "code",
   "execution_count": 71,
   "id": "5ffcd50b-defd-4d81-adf5-767c3f34e074",
   "metadata": {},
   "outputs": [
    {
     "name": "stdout",
     "output_type": "stream",
     "text": [
      "(0, 0, 0)\n",
      "(0, 0, 1)\n",
      "(0, 1, 0)\n",
      "(0, 1, 1)\n",
      "(1, 0, 0)\n",
      "(1, 0, 1)\n",
      "(1, 1, 0)\n",
      "(1, 1, 1)\n"
     ]
    }
   ],
   "source": [
    "for n in range(8):\n",
    "    print((n // 4, n % 4 // 2, n % 2))"
   ]
  },
  {
   "cell_type": "code",
   "execution_count": 72,
   "id": "371b29db-6b14-4a19-bd24-a5097382f720",
   "metadata": {},
   "outputs": [
    {
     "name": "stdout",
     "output_type": "stream",
     "text": [
      "(0, 0, 0)\n",
      "(0, 0, 1)\n",
      "(0, 1, 0)\n",
      "(0, 1, 1)\n",
      "(1, 0, 0)\n",
      "(1, 0, 1)\n",
      "(1, 1, 0)\n",
      "(1, 1, 1)\n"
     ]
    }
   ],
   "source": [
    "for n in range(8):\n",
    "    print((n // 4, n // 2 % 2, n % 2))"
   ]
  },
  {
   "cell_type": "code",
   "execution_count": null,
   "id": "318d54b0-e2c1-43f5-9075-53f990737c1c",
   "metadata": {},
   "outputs": [],
   "source": [
    "n = abc\n",
    "n % 4 -> bc\n",
    "n % 4 // 2 - b\n",
    "\n",
    "n = abc\n",
    "n // 2 -> ab\n",
    "n // 2 % 2 -> b"
   ]
  },
  {
   "cell_type": "code",
   "execution_count": 73,
   "id": "9e69aca7-aeaf-4978-893e-6d673939c268",
   "metadata": {},
   "outputs": [
    {
     "data": {
      "text/plain": [
       "{(0, 0, 0): 1,\n",
       " (0, 0, 1): 1,\n",
       " (0, 1, 0): 1,\n",
       " (0, 1, 1): 0,\n",
       " (1, 0, 0): 1,\n",
       " (1, 0, 1): 0,\n",
       " (1, 1, 0): 0,\n",
       " (1, 1, 1): 0}"
      ]
     },
     "execution_count": 73,
     "metadata": {},
     "output_type": "execute_result"
    }
   ],
   "source": [
    "{(n // 4, n // 2 % 2, n % 2): values[7 - n] for n in range(8)}"
   ]
  },
  {
   "cell_type": "code",
   "execution_count": 77,
   "id": "cf11af4e-80ac-4219-b1e9-115f1cb84127",
   "metadata": {},
   "outputs": [
    {
     "data": {
      "text/plain": [
       "[0, 1, 2, 3, 4, 5, 6, 7, 8, 9, 10, 11, 12, 13, 14]"
      ]
     },
     "execution_count": 77,
     "metadata": {},
     "output_type": "execute_result"
    }
   ],
   "source": [
    "list(range(15))"
   ]
  },
  {
   "cell_type": "code",
   "execution_count": 76,
   "id": "50753848-edef-442b-920a-f9bbdf50f0c9",
   "metadata": {},
   "outputs": [
    {
     "data": {
      "text/plain": [
       "[2, 3, 4, 5, 6, 7, 8, 9, 10, 11, 12, 13, 14]"
      ]
     },
     "execution_count": 76,
     "metadata": {},
     "output_type": "execute_result"
    }
   ],
   "source": [
    "list(range(2, 15))"
   ]
  },
  {
   "cell_type": "code",
   "execution_count": 79,
   "id": "3e8aa877-6ed4-4300-a677-e56119438bdb",
   "metadata": {},
   "outputs": [
    {
     "data": {
      "text/plain": [
       "[2, 4, 6, 8, 10, 12, 14]"
      ]
     },
     "execution_count": 79,
     "metadata": {},
     "output_type": "execute_result"
    },
    {
     "data": {
      "text/plain": [
       "[2, 5, 8, 11, 14]"
      ]
     },
     "execution_count": 79,
     "metadata": {},
     "output_type": "execute_result"
    }
   ],
   "source": [
    "list(range(2, 15, 2))\n",
    "list(range(2, 15, 3))"
   ]
  },
  {
   "cell_type": "code",
   "execution_count": 81,
   "id": "07ce537a-3a5e-4202-ba07-ec5224a61474",
   "metadata": {},
   "outputs": [],
   "source": [
    "def primes_up_to(n):\n",
    "    sieve = [True] * (n + 1)\n",
    "    for i in range(2, n + 1):\n",
    "        if sieve[i]:\n",
    "            for j in range(i * 2, n + 1, i):\n",
    "                sieve[j] = False\n",
    "    return [i for i in range(2, n + 1) if sieve[i]]"
   ]
  },
  {
   "cell_type": "code",
   "execution_count": 85,
   "id": "2df62886-1c19-4831-af4c-25ae288c119c",
   "metadata": {},
   "outputs": [
    {
     "data": {
      "text/plain": [
       "[2, 3, 5, 7, 11, 13, 17, 19, 23, 29, 31, 37, 41, 43, 47]"
      ]
     },
     "execution_count": 85,
     "metadata": {},
     "output_type": "execute_result"
    }
   ],
   "source": [
    "primes_up_to(50)"
   ]
  },
  {
   "cell_type": "code",
   "execution_count": null,
   "id": "c6e79682-689d-4808-9964-523269b2aaf2",
   "metadata": {},
   "outputs": [],
   "source": [
    "n = p * ... with p >= 2 and smallest factor\n",
    "n >= p ** 2\n",
    "p <= sqrt(n)"
   ]
  },
  {
   "cell_type": "code",
   "execution_count": 87,
   "id": "ce3f0523-bfb1-4de7-abc4-8cba20365472",
   "metadata": {},
   "outputs": [],
   "source": [
    "def primes_up_to(n):\n",
    "    sieve = [True] * (n + 1)\n",
    "    for i in range(2, sqrt(n) + 1):\n",
    "        if sieve[i]:\n",
    "            for j in range(i * 2, n + 1, i):\n",
    "                sieve[j] = False\n",
    "    return [i for i in range(2, n + 1) if sieve[i]]"
   ]
  },
  {
   "cell_type": "code",
   "execution_count": 88,
   "id": "682d0d60-53b0-45c3-8a07-d239624a0153",
   "metadata": {},
   "outputs": [
    {
     "ename": "NameError",
     "evalue": "name 'sqrt' is not defined",
     "output_type": "error",
     "traceback": [
      "\u001b[0;31m---------------------------------------------------------------------------\u001b[0m",
      "\u001b[0;31mNameError\u001b[0m                                 Traceback (most recent call last)",
      "Input \u001b[0;32mIn [88]\u001b[0m, in \u001b[0;36m<cell line: 1>\u001b[0;34m()\u001b[0m\n\u001b[0;32m----> 1\u001b[0m \u001b[43mprimes_up_to\u001b[49m\u001b[43m(\u001b[49m\u001b[38;5;241;43m50\u001b[39;49m\u001b[43m)\u001b[49m\n",
      "Input \u001b[0;32mIn [87]\u001b[0m, in \u001b[0;36mprimes_up_to\u001b[0;34m(n)\u001b[0m\n\u001b[1;32m      1\u001b[0m \u001b[38;5;28;01mdef\u001b[39;00m \u001b[38;5;21mprimes_up_to\u001b[39m(n):\n\u001b[1;32m      2\u001b[0m     sieve \u001b[38;5;241m=\u001b[39m [\u001b[38;5;28;01mTrue\u001b[39;00m] \u001b[38;5;241m*\u001b[39m (n \u001b[38;5;241m+\u001b[39m \u001b[38;5;241m1\u001b[39m)\n\u001b[0;32m----> 3\u001b[0m     \u001b[38;5;28;01mfor\u001b[39;00m i \u001b[38;5;129;01min\u001b[39;00m \u001b[38;5;28mrange\u001b[39m(\u001b[38;5;241m2\u001b[39m, \u001b[43msqrt\u001b[49m(n) \u001b[38;5;241m+\u001b[39m \u001b[38;5;241m1\u001b[39m):\n\u001b[1;32m      4\u001b[0m         \u001b[38;5;28;01mif\u001b[39;00m sieve[i]:\n\u001b[1;32m      5\u001b[0m             \u001b[38;5;28;01mfor\u001b[39;00m j \u001b[38;5;129;01min\u001b[39;00m \u001b[38;5;28mrange\u001b[39m(i \u001b[38;5;241m*\u001b[39m \u001b[38;5;241m2\u001b[39m, n \u001b[38;5;241m+\u001b[39m \u001b[38;5;241m1\u001b[39m, i):\n",
      "\u001b[0;31mNameError\u001b[0m: name 'sqrt' is not defined"
     ]
    }
   ],
   "source": [
    "primes_up_to(50)"
   ]
  },
  {
   "cell_type": "code",
   "execution_count": 89,
   "id": "7f5a2b58-c746-4642-9555-5beda5daa6bc",
   "metadata": {},
   "outputs": [],
   "source": [
    "from math import sqrt\n",
    "\n",
    "def primes_up_to(n):\n",
    "    sieve = [True] * (n + 1)\n",
    "    for i in range(2, sqrt(n) + 1):\n",
    "        if sieve[i]:\n",
    "            for j in range(i * 2, n + 1, i):\n",
    "                sieve[j] = False\n",
    "    return [i for i in range(2, n + 1) if sieve[i]]"
   ]
  },
  {
   "cell_type": "code",
   "execution_count": 90,
   "id": "7b04dcf1-2061-491c-9339-042f0a9eefd2",
   "metadata": {},
   "outputs": [
    {
     "ename": "TypeError",
     "evalue": "'float' object cannot be interpreted as an integer",
     "output_type": "error",
     "traceback": [
      "\u001b[0;31m---------------------------------------------------------------------------\u001b[0m",
      "\u001b[0;31mTypeError\u001b[0m                                 Traceback (most recent call last)",
      "Input \u001b[0;32mIn [90]\u001b[0m, in \u001b[0;36m<cell line: 1>\u001b[0;34m()\u001b[0m\n\u001b[0;32m----> 1\u001b[0m \u001b[43mprimes_up_to\u001b[49m\u001b[43m(\u001b[49m\u001b[38;5;241;43m50\u001b[39;49m\u001b[43m)\u001b[49m\n",
      "Input \u001b[0;32mIn [89]\u001b[0m, in \u001b[0;36mprimes_up_to\u001b[0;34m(n)\u001b[0m\n\u001b[1;32m      3\u001b[0m \u001b[38;5;28;01mdef\u001b[39;00m \u001b[38;5;21mprimes_up_to\u001b[39m(n):\n\u001b[1;32m      4\u001b[0m     sieve \u001b[38;5;241m=\u001b[39m [\u001b[38;5;28;01mTrue\u001b[39;00m] \u001b[38;5;241m*\u001b[39m (n \u001b[38;5;241m+\u001b[39m \u001b[38;5;241m1\u001b[39m)\n\u001b[0;32m----> 5\u001b[0m     \u001b[38;5;28;01mfor\u001b[39;00m i \u001b[38;5;129;01min\u001b[39;00m \u001b[38;5;28;43mrange\u001b[39;49m\u001b[43m(\u001b[49m\u001b[38;5;241;43m2\u001b[39;49m\u001b[43m,\u001b[49m\u001b[43m \u001b[49m\u001b[43msqrt\u001b[49m\u001b[43m(\u001b[49m\u001b[43mn\u001b[49m\u001b[43m)\u001b[49m\u001b[43m \u001b[49m\u001b[38;5;241;43m+\u001b[39;49m\u001b[43m \u001b[49m\u001b[38;5;241;43m1\u001b[39;49m\u001b[43m)\u001b[49m:\n\u001b[1;32m      6\u001b[0m         \u001b[38;5;28;01mif\u001b[39;00m sieve[i]:\n\u001b[1;32m      7\u001b[0m             \u001b[38;5;28;01mfor\u001b[39;00m j \u001b[38;5;129;01min\u001b[39;00m \u001b[38;5;28mrange\u001b[39m(i \u001b[38;5;241m*\u001b[39m \u001b[38;5;241m2\u001b[39m, n \u001b[38;5;241m+\u001b[39m \u001b[38;5;241m1\u001b[39m, i):\n",
      "\u001b[0;31mTypeError\u001b[0m: 'float' object cannot be interpreted as an integer"
     ]
    }
   ],
   "source": [
    "primes_up_to(50)"
   ]
  },
  {
   "cell_type": "code",
   "execution_count": 91,
   "id": "defb07f4-c1e1-4a8e-a550-90efa8c04182",
   "metadata": {},
   "outputs": [
    {
     "data": {
      "text/plain": [
       "3.1622776601683795"
      ]
     },
     "execution_count": 91,
     "metadata": {},
     "output_type": "execute_result"
    }
   ],
   "source": [
    "sqrt(10)"
   ]
  },
  {
   "cell_type": "code",
   "execution_count": 92,
   "id": "bcba7fc0-54ce-4af8-b1a7-08639ff8c36f",
   "metadata": {},
   "outputs": [
    {
     "data": {
      "text/plain": [
       "4.0"
      ]
     },
     "execution_count": 92,
     "metadata": {},
     "output_type": "execute_result"
    }
   ],
   "source": [
    "sqrt(16)"
   ]
  },
  {
   "cell_type": "code",
   "execution_count": 93,
   "id": "c579e802-4712-4dbe-b8db-3f4657fb2c15",
   "metadata": {},
   "outputs": [
    {
     "ename": "TypeError",
     "evalue": "'float' object cannot be interpreted as an integer",
     "output_type": "error",
     "traceback": [
      "\u001b[0;31m---------------------------------------------------------------------------\u001b[0m",
      "\u001b[0;31mTypeError\u001b[0m                                 Traceback (most recent call last)",
      "Input \u001b[0;32mIn [93]\u001b[0m, in \u001b[0;36m<cell line: 1>\u001b[0;34m()\u001b[0m\n\u001b[0;32m----> 1\u001b[0m \u001b[38;5;28;01mfor\u001b[39;00m i \u001b[38;5;129;01min\u001b[39;00m \u001b[38;5;28;43mrange\u001b[39;49m\u001b[43m(\u001b[49m\u001b[38;5;241;43m4.0\u001b[39;49m\u001b[43m)\u001b[49m:\n\u001b[1;32m      2\u001b[0m     \u001b[38;5;28mprint\u001b[39m(i)\n",
      "\u001b[0;31mTypeError\u001b[0m: 'float' object cannot be interpreted as an integer"
     ]
    }
   ],
   "source": [
    "for i in range(4.0):\n",
    "    print(i)"
   ]
  },
  {
   "cell_type": "code",
   "execution_count": 94,
   "id": "527e2b10-3d36-4449-b687-afda76400189",
   "metadata": {},
   "outputs": [
    {
     "data": {
      "text/plain": [
       "4"
      ]
     },
     "execution_count": 94,
     "metadata": {},
     "output_type": "execute_result"
    }
   ],
   "source": [
    "int(4.0)"
   ]
  },
  {
   "cell_type": "code",
   "execution_count": 95,
   "id": "6e78296c-9aad-47d0-85ab-da5d566f239c",
   "metadata": {},
   "outputs": [
    {
     "data": {
      "text/plain": [
       "4"
      ]
     },
     "execution_count": 95,
     "metadata": {},
     "output_type": "execute_result"
    }
   ],
   "source": [
    "int(4.00001)"
   ]
  },
  {
   "cell_type": "code",
   "execution_count": 96,
   "id": "2dac864e-f39c-4f86-824b-75754c9ed717",
   "metadata": {},
   "outputs": [
    {
     "data": {
      "text/plain": [
       "3"
      ]
     },
     "execution_count": 96,
     "metadata": {},
     "output_type": "execute_result"
    }
   ],
   "source": [
    "int(3.999999)"
   ]
  },
  {
   "cell_type": "code",
   "execution_count": 97,
   "id": "dc46c607-086a-4e40-bd29-d10f2de9f59c",
   "metadata": {},
   "outputs": [
    {
     "data": {
      "text/plain": [
       "(4, 4)"
      ]
     },
     "execution_count": 97,
     "metadata": {},
     "output_type": "execute_result"
    }
   ],
   "source": [
    "round(4.00001), round(3.999999)"
   ]
  },
  {
   "cell_type": "code",
   "execution_count": 98,
   "id": "fa6d63cc-b16c-4733-8ad7-ced7f6e86b4b",
   "metadata": {},
   "outputs": [],
   "source": [
    "def primes_up_to(n):\n",
    "    sieve = [True] * (n + 1)\n",
    "    for i in range(2, round(sqrt(n)) + 1):\n",
    "        if sieve[i]:\n",
    "            for j in range(i * 2, n + 1, i):\n",
    "                sieve[j] = False\n",
    "    return [i for i in range(2, n + 1) if sieve[i]]"
   ]
  },
  {
   "cell_type": "code",
   "execution_count": 99,
   "id": "787c901e-dff1-480f-9700-31ad4781c2ab",
   "metadata": {},
   "outputs": [
    {
     "data": {
      "text/plain": [
       "[2, 3, 5, 7, 11, 13, 17, 19, 23, 29, 31, 37, 41, 43, 47]"
      ]
     },
     "execution_count": 99,
     "metadata": {},
     "output_type": "execute_result"
    }
   ],
   "source": [
    "primes_up_to(50)"
   ]
  },
  {
   "cell_type": "code",
   "execution_count": 100,
   "id": "e48b2bcb-cd0d-46e5-8e9a-ad5ff85afbbd",
   "metadata": {},
   "outputs": [],
   "source": [
    "def primes_up_to(n):\n",
    "    sieve = [True] * (n + 1)\n",
    "    for i in range(2, round(sqrt(n)) + 1):\n",
    "        if sieve[i]:\n",
    "            for j in range(i ** 2, n + 1, i):\n",
    "                sieve[j] = False\n",
    "    return [i for i in range(2, n + 1) if sieve[i]]"
   ]
  },
  {
   "cell_type": "code",
   "execution_count": 101,
   "id": "08ca1b02-58e4-4714-9304-e77b01b5043f",
   "metadata": {},
   "outputs": [
    {
     "data": {
      "text/plain": [
       "[2, 3, 5, 7, 11, 13, 17, 19, 23, 29, 31, 37, 41, 43, 47]"
      ]
     },
     "execution_count": 101,
     "metadata": {},
     "output_type": "execute_result"
    }
   ],
   "source": [
    "primes_up_to(50)"
   ]
  },
  {
   "cell_type": "code",
   "execution_count": 102,
   "id": "f3bc37fe-9016-4d0e-b1b0-1c13a92c3f35",
   "metadata": {},
   "outputs": [
    {
     "name": "stdout",
     "output_type": "stream",
     "text": [
      "5.59 µs ± 77.8 ns per loop (mean ± std. dev. of 7 runs, 100,000 loops each)\n"
     ]
    }
   ],
   "source": [
    "timeit primes_up_to(50)"
   ]
  },
  {
   "cell_type": "code",
   "execution_count": 103,
   "id": "6c6296f2-e004-4c81-a7d9-7884706f9f0e",
   "metadata": {},
   "outputs": [
    {
     "name": "stdout",
     "output_type": "stream",
     "text": [
      "14 ms ± 63.8 µs per loop (mean ± std. dev. of 7 runs, 100 loops each)\n"
     ]
    }
   ],
   "source": [
    "timeit primes_up_to(100_000)"
   ]
  },
  {
   "cell_type": "code",
   "execution_count": 104,
   "id": "37dc2dcf-824d-4bce-a705-8ec5ac97e68c",
   "metadata": {},
   "outputs": [
    {
     "name": "stdout",
     "output_type": "stream",
     "text": [
      "176 ms ± 3.83 ms per loop (mean ± std. dev. of 7 runs, 10 loops each)\n"
     ]
    }
   ],
   "source": [
    "timeit primes_up_to(1_000_000)"
   ]
  },
  {
   "cell_type": "code",
   "execution_count": 105,
   "id": "12b9db80-9d3b-4458-ac25-f92da8be9157",
   "metadata": {},
   "outputs": [
    {
     "name": "stdout",
     "output_type": "stream",
     "text": [
      "2.19 s ± 7.1 ms per loop (mean ± std. dev. of 7 runs, 1 loop each)\n"
     ]
    }
   ],
   "source": [
    "timeit primes_up_to(10_000_000)"
   ]
  }
 ],
 "metadata": {
  "kernelspec": {
   "display_name": "Python 3 (ipykernel)",
   "language": "python",
   "name": "python3"
  },
  "language_info": {
   "codemirror_mode": {
    "name": "ipython",
    "version": 3
   },
   "file_extension": ".py",
   "mimetype": "text/x-python",
   "name": "python",
   "nbconvert_exporter": "python",
   "pygments_lexer": "ipython3",
   "version": "3.9.7"
  },
  "widgets": {
   "application/vnd.jupyter.widget-state+json": {
    "state": {},
    "version_major": 2,
    "version_minor": 0
   }
  }
 },
 "nbformat": 4,
 "nbformat_minor": 5
}
