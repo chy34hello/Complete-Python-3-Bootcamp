{
 "cells": [
  {
   "cell_type": "code",
   "execution_count": 1,
   "id": "fdc31277-bc3e-4392-a5bb-9e3c818c1480",
   "metadata": {},
   "outputs": [
    {
     "data": {
      "text/plain": [
       "(2, 1)"
      ]
     },
     "execution_count": 1,
     "metadata": {},
     "output_type": "execute_result"
    },
    {
     "data": {
      "text/plain": [
       "(-3, 1)"
      ]
     },
     "execution_count": 1,
     "metadata": {},
     "output_type": "execute_result"
    },
    {
     "data": {
      "text/plain": [
       "(-3, -1)"
      ]
     },
     "execution_count": 1,
     "metadata": {},
     "output_type": "execute_result"
    },
    {
     "data": {
      "text/plain": [
       "(2, -1)"
      ]
     },
     "execution_count": 1,
     "metadata": {},
     "output_type": "execute_result"
    }
   ],
   "source": [
    "5 // 2, 5 % 2\n",
    "-5 // 2, -5 % 2\n",
    "5 // -2, 5 % -2\n",
    "-5 // -2, -5 % -2"
   ]
  },
  {
   "cell_type": "code",
   "execution_count": null,
   "id": "37096e1e",
   "metadata": {},
   "outputs": [],
   "source": []
  },
  {
   "cell_type": "code",
   "execution_count": 2,
   "id": "bc9996fe-1ad1-4332-aa2a-459b93152ba0",
   "metadata": {},
   "outputs": [
    {
     "data": {
      "text/plain": [
       "(2, 1)"
      ]
     },
     "execution_count": 2,
     "metadata": {},
     "output_type": "execute_result"
    },
    {
     "data": {
      "text/plain": [
       "(-3, 1)"
      ]
     },
     "execution_count": 2,
     "metadata": {},
     "output_type": "execute_result"
    },
    {
     "data": {
      "text/plain": [
       "(-3, -1)"
      ]
     },
     "execution_count": 2,
     "metadata": {},
     "output_type": "execute_result"
    },
    {
     "data": {
      "text/plain": [
       "(2, -1)"
      ]
     },
     "execution_count": 2,
     "metadata": {},
     "output_type": "execute_result"
    }
   ],
   "source": [
    "divmod(5, 2)\n",
    "divmod(-5, 2)\n",
    "divmod(5, -2)\n",
    "divmod(-5, -2)"
   ]
  },
  {
   "cell_type": "code",
   "execution_count": 3,
   "id": "acb82c95-8b76-403a-89cb-8771ffae3bf3",
   "metadata": {},
   "outputs": [
    {
     "data": {
      "text/plain": [
       "2"
      ]
     },
     "execution_count": 3,
     "metadata": {},
     "output_type": "execute_result"
    },
    {
     "data": {
      "text/plain": [
       "1"
      ]
     },
     "execution_count": 3,
     "metadata": {},
     "output_type": "execute_result"
    }
   ],
   "source": [
    "divmod(5, 2)[0]\n",
    "divmod(5, 2)[1]"
   ]
  },
  {
   "cell_type": "code",
   "execution_count": null,
   "id": "ea8e46a1-7a67-453a-9ff8-dcb75536b8ba",
   "metadata": {},
   "outputs": [],
   "source": [
    "gcd(a, b) == gcd(b, a % b)"
   ]
  },
  {
   "cell_type": "code",
   "execution_count": null,
   "id": "2e1fe4d5-73ab-4d02-851c-c2f071eed8c3",
   "metadata": {},
   "outputs": [],
   "source": [
    "gcd(a, 0) == a"
   ]
  },
  {
   "cell_type": "code",
   "execution_count": null,
   "id": "d4c541d4-5375-4994-a6ed-a97596cd1c9d",
   "metadata": {},
   "outputs": [],
   "source": [
    "gcd(87, 15)"
   ]
  },
  {
   "cell_type": "code",
   "execution_count": 4,
   "id": "04f7a274-e132-458f-bd54-b88090f4982c",
   "metadata": {},
   "outputs": [
    {
     "data": {
      "text/plain": [
       "12"
      ]
     },
     "execution_count": 4,
     "metadata": {},
     "output_type": "execute_result"
    }
   ],
   "source": [
    "87 % 15"
   ]
  },
  {
   "cell_type": "code",
   "execution_count": null,
   "id": "317bc47f-994f-490b-85d5-54e0c81aee32",
   "metadata": {},
   "outputs": [],
   "source": [
    "gcd(87, 15) == gcd(15, 12)"
   ]
  },
  {
   "cell_type": "code",
   "execution_count": null,
   "id": "6f902c93-68b7-4aab-8574-89a9159a829a",
   "metadata": {},
   "outputs": [],
   "source": [
    "gcd(15, 87) == gcd(87, 15)"
   ]
  },
  {
   "cell_type": "code",
   "execution_count": null,
   "id": "4ba1890e-04b1-42b0-b46b-102d8418594e",
   "metadata": {},
   "outputs": [],
   "source": [
    "15 % 87 = 15"
   ]
  },
  {
   "cell_type": "code",
   "execution_count": null,
   "id": "ebf6689a-f4aa-4e19-9223-515365e99194",
   "metadata": {},
   "outputs": [],
   "source": [
    "def our_gcd(a, b):\n",
    "    while b != 0:\n",
    "        a = b\n",
    "        b = a % b"
   ]
  },
  {
   "cell_type": "code",
   "execution_count": 6,
   "id": "44348f0e-6779-4a0c-93e8-9213ccef64b2",
   "metadata": {},
   "outputs": [],
   "source": [
    "a = 10\n",
    "b = 15"
   ]
  },
  {
   "cell_type": "code",
   "execution_count": 7,
   "id": "7af779bc-6f2e-4ca0-a791-fe2d36f22e98",
   "metadata": {},
   "outputs": [
    {
     "data": {
      "text/plain": [
       "15"
      ]
     },
     "execution_count": 7,
     "metadata": {},
     "output_type": "execute_result"
    },
    {
     "data": {
      "text/plain": [
       "10"
      ]
     },
     "execution_count": 7,
     "metadata": {},
     "output_type": "execute_result"
    }
   ],
   "source": [
    "temp = a\n",
    "a = b\n",
    "b = temp\n",
    "a\n",
    "b"
   ]
  },
  {
   "cell_type": "code",
   "execution_count": 10,
   "id": "2c02d684-42e4-4e88-821b-ac592d649e5d",
   "metadata": {},
   "outputs": [],
   "source": [
    "a = 10\n",
    "b = 15"
   ]
  },
  {
   "cell_type": "code",
   "execution_count": 11,
   "id": "e8bc87f5-52f5-4947-8fae-9ce8cccfda9a",
   "metadata": {},
   "outputs": [
    {
     "data": {
      "text/plain": [
       "15"
      ]
     },
     "execution_count": 11,
     "metadata": {},
     "output_type": "execute_result"
    },
    {
     "data": {
      "text/plain": [
       "10"
      ]
     },
     "execution_count": 11,
     "metadata": {},
     "output_type": "execute_result"
    }
   ],
   "source": [
    "a, b = b, a\n",
    "a\n",
    "b"
   ]
  },
  {
   "cell_type": "code",
   "execution_count": null,
   "id": "48be1792-4a20-4f6f-99e5-4541250537ab",
   "metadata": {},
   "outputs": [],
   "source": [
    "(a, b) = (b, a)\n",
    "         (15, 10)\n",
    "    "
   ]
  },
  {
   "cell_type": "code",
   "execution_count": 13,
   "id": "05575fef-6db0-42b1-89c7-00b168db70e5",
   "metadata": {},
   "outputs": [
    {
     "data": {
      "text/plain": [
       "3"
      ]
     },
     "execution_count": 13,
     "metadata": {},
     "output_type": "execute_result"
    },
    {
     "data": {
      "text/plain": [
       "4"
      ]
     },
     "execution_count": 13,
     "metadata": {},
     "output_type": "execute_result"
    }
   ],
   "source": [
    "u, v = 3, 4\n",
    "u\n",
    "v"
   ]
  },
  {
   "cell_type": "code",
   "execution_count": 14,
   "id": "692d058b-e022-4f24-9956-2bca9e239a41",
   "metadata": {},
   "outputs": [
    {
     "ename": "ValueError",
     "evalue": "not enough values to unpack (expected 3, got 2)",
     "output_type": "error",
     "traceback": [
      "\u001b[0;31m---------------------------------------------------------------------------\u001b[0m",
      "\u001b[0;31mValueError\u001b[0m                                Traceback (most recent call last)",
      "Input \u001b[0;32mIn [14]\u001b[0m, in \u001b[0;36m<module>\u001b[0;34m\u001b[0m\n\u001b[0;32m----> 1\u001b[0m u, v, w \u001b[38;5;241m=\u001b[39m \u001b[38;5;241m3\u001b[39m, \u001b[38;5;241m4\u001b[39m\n",
      "\u001b[0;31mValueError\u001b[0m: not enough values to unpack (expected 3, got 2)"
     ]
    }
   ],
   "source": [
    "u, v, w = 3, 4"
   ]
  },
  {
   "cell_type": "code",
   "execution_count": 15,
   "id": "7ecdbefa-ed69-4dfc-8ef4-cd6596a9c1e2",
   "metadata": {},
   "outputs": [
    {
     "ename": "ValueError",
     "evalue": "too many values to unpack (expected 2)",
     "output_type": "error",
     "traceback": [
      "\u001b[0;31m---------------------------------------------------------------------------\u001b[0m",
      "\u001b[0;31mValueError\u001b[0m                                Traceback (most recent call last)",
      "Input \u001b[0;32mIn [15]\u001b[0m, in \u001b[0;36m<module>\u001b[0;34m\u001b[0m\n\u001b[0;32m----> 1\u001b[0m u, v \u001b[38;5;241m=\u001b[39m \u001b[38;5;241m3\u001b[39m, \u001b[38;5;241m4\u001b[39m, \u001b[38;5;241m5\u001b[39m\n",
      "\u001b[0;31mValueError\u001b[0m: too many values to unpack (expected 2)"
     ]
    }
   ],
   "source": [
    "u, v = 3, 4, 5"
   ]
  },
  {
   "cell_type": "code",
   "execution_count": 16,
   "id": "76a181a1-fe2e-4714-91bb-ee0ed79eef40",
   "metadata": {},
   "outputs": [],
   "source": [
    "def our_gcd(a, b):\n",
    "    while b != 0:\n",
    "        a, b = b, a % b\n",
    "    return a"
   ]
  },
  {
   "cell_type": "code",
   "execution_count": 17,
   "id": "cbb7aacd-e78f-4d5a-bf47-0df7e8c2fd3e",
   "metadata": {},
   "outputs": [
    {
     "data": {
      "text/plain": [
       "3"
      ]
     },
     "execution_count": 17,
     "metadata": {},
     "output_type": "execute_result"
    }
   ],
   "source": [
    "our_gcd(87, 15)"
   ]
  },
  {
   "cell_type": "code",
   "execution_count": 18,
   "id": "755f77ca-51be-431b-b140-87a052c2e105",
   "metadata": {},
   "outputs": [
    {
     "data": {
      "text/plain": [
       "1"
      ]
     },
     "execution_count": 18,
     "metadata": {},
     "output_type": "execute_result"
    }
   ],
   "source": [
    "our_gcd(26, 33)"
   ]
  },
  {
   "cell_type": "code",
   "execution_count": 19,
   "id": "cecc037d-d110-4dd6-a2d2-e045df123d3f",
   "metadata": {},
   "outputs": [],
   "source": [
    "def compute_fraction(sigma, tau):\n",
    "    numerator = int(sigma) * (10 ** len(tau) - 1) + int(tau)\n",
    "    denominator = (10 ** len(tau) - 1) * 10 ** len(sigma)\n",
    "    return numerator, denominator"
   ]
  },
  {
   "cell_type": "code",
   "execution_count": 20,
   "id": "6362ab2a-04f1-4fc3-98e0-0534cff927ef",
   "metadata": {},
   "outputs": [
    {
     "data": {
      "text/plain": [
       "(23882, 99900)"
      ]
     },
     "execution_count": 20,
     "metadata": {},
     "output_type": "execute_result"
    }
   ],
   "source": [
    "compute_fraction('23', '905')"
   ]
  },
  {
   "cell_type": "code",
   "execution_count": null,
   "id": "305f5271-53d0-409e-b96d-c9b2ce06c090",
   "metadata": {},
   "outputs": [],
   "source": []
  },
  {
   "cell_type": "code",
   "execution_count": 24,
   "id": "5a90f75e-fbec-466f-b74f-999f26575381",
   "metadata": {},
   "outputs": [],
   "source": [
    "def simplify(p, q):\n",
    "    the_gcd = our_gcd(p, q)\n",
    "    return p // the_gcd, q // the_gcd"
   ]
  },
  {
   "cell_type": "code",
   "execution_count": 25,
   "id": "f6856134-dc2f-4e87-8792-e50bb7909213",
   "metadata": {},
   "outputs": [
    {
     "ename": "TypeError",
     "evalue": "simplify() missing 1 required positional argument: 'q'",
     "output_type": "error",
     "traceback": [
      "\u001b[0;31m---------------------------------------------------------------------------\u001b[0m",
      "\u001b[0;31mTypeError\u001b[0m                                 Traceback (most recent call last)",
      "Input \u001b[0;32mIn [25]\u001b[0m, in \u001b[0;36m<module>\u001b[0;34m\u001b[0m\n\u001b[0;32m----> 1\u001b[0m \u001b[43msimplify\u001b[49m\u001b[43m(\u001b[49m\u001b[43mcompute_fraction\u001b[49m\u001b[43m(\u001b[49m\u001b[38;5;124;43m'\u001b[39;49m\u001b[38;5;124;43m23\u001b[39;49m\u001b[38;5;124;43m'\u001b[39;49m\u001b[43m,\u001b[49m\u001b[43m \u001b[49m\u001b[38;5;124;43m'\u001b[39;49m\u001b[38;5;124;43m905\u001b[39;49m\u001b[38;5;124;43m'\u001b[39;49m\u001b[43m)\u001b[49m\u001b[43m)\u001b[49m\n",
      "\u001b[0;31mTypeError\u001b[0m: simplify() missing 1 required positional argument: 'q'"
     ]
    }
   ],
   "source": [
    "simplify(compute_fraction('23', '905'))"
   ]
  },
  {
   "cell_type": "code",
   "execution_count": 26,
   "id": "7d899524-0d36-43e3-97e7-e2ceb0ee2cad",
   "metadata": {},
   "outputs": [
    {
     "data": {
      "text/plain": [
       "(11941, 49950)"
      ]
     },
     "execution_count": 26,
     "metadata": {},
     "output_type": "execute_result"
    }
   ],
   "source": [
    "simplify(*compute_fraction('23', '905'))"
   ]
  },
  {
   "cell_type": "code",
   "execution_count": 27,
   "id": "89a3230a-fb18-41a0-9f11-f1dbedaf87f7",
   "metadata": {},
   "outputs": [],
   "source": [
    "def output_better(p, q):\n",
    "    print(f'{p}/{q}')"
   ]
  },
  {
   "cell_type": "code",
   "execution_count": 28,
   "id": "37e977b6-b978-440a-988a-a49a44dd712a",
   "metadata": {},
   "outputs": [
    {
     "ename": "TypeError",
     "evalue": "output_better() missing 1 required positional argument: 'q'",
     "output_type": "error",
     "traceback": [
      "\u001b[0;31m---------------------------------------------------------------------------\u001b[0m",
      "\u001b[0;31mTypeError\u001b[0m                                 Traceback (most recent call last)",
      "Input \u001b[0;32mIn [28]\u001b[0m, in \u001b[0;36m<module>\u001b[0;34m\u001b[0m\n\u001b[0;32m----> 1\u001b[0m \u001b[43moutput_better\u001b[49m\u001b[43m(\u001b[49m\u001b[43msimplify\u001b[49m\u001b[43m(\u001b[49m\u001b[38;5;241;43m*\u001b[39;49m\u001b[43mcompute_fraction\u001b[49m\u001b[43m(\u001b[49m\u001b[38;5;124;43m'\u001b[39;49m\u001b[38;5;124;43m23\u001b[39;49m\u001b[38;5;124;43m'\u001b[39;49m\u001b[43m,\u001b[49m\u001b[43m \u001b[49m\u001b[38;5;124;43m'\u001b[39;49m\u001b[38;5;124;43m905\u001b[39;49m\u001b[38;5;124;43m'\u001b[39;49m\u001b[43m)\u001b[49m\u001b[43m)\u001b[49m\u001b[43m)\u001b[49m\n",
      "\u001b[0;31mTypeError\u001b[0m: output_better() missing 1 required positional argument: 'q'"
     ]
    }
   ],
   "source": [
    "output_better(simplify(*compute_fraction('23', '905')))"
   ]
  },
  {
   "cell_type": "code",
   "execution_count": null,
   "id": "1c801932-05b9-4ea9-a4e4-ed47418c0ac9",
   "metadata": {},
   "outputs": [],
   "source": [
    "(11941, 49950)\n",
    "*(11941, 49950) kind of 11941, 49950"
   ]
  },
  {
   "cell_type": "code",
   "execution_count": 30,
   "id": "daa3a90d-a750-4203-895f-b1094a1623eb",
   "metadata": {},
   "outputs": [
    {
     "ename": "SyntaxError",
     "evalue": "can't use starred expression here (1284753820.py, line 1)",
     "output_type": "error",
     "traceback": [
      "\u001b[0;36m  Input \u001b[0;32mIn [30]\u001b[0;36m\u001b[0m\n\u001b[0;31m    *(11941, 49950)\u001b[0m\n\u001b[0m    ^\u001b[0m\n\u001b[0;31mSyntaxError\u001b[0m\u001b[0;31m:\u001b[0m can't use starred expression here\n"
     ]
    }
   ],
   "source": [
    "*(11941, 49950)"
   ]
  },
  {
   "cell_type": "code",
   "execution_count": 29,
   "id": "1407d665-c9d0-4d48-a06c-fa413bba3937",
   "metadata": {},
   "outputs": [
    {
     "name": "stdout",
     "output_type": "stream",
     "text": [
      "11941/49950\n"
     ]
    }
   ],
   "source": [
    "output_better(*simplify(*compute_fraction('23', '905')))"
   ]
  },
  {
   "cell_type": "code",
   "execution_count": 32,
   "id": "681d5e29-472b-405b-b135-4e1a22c2cff0",
   "metadata": {},
   "outputs": [
    {
     "name": "stdout",
     "output_type": "stream",
     "text": [
      "\n",
      "a\n",
      "a b\n",
      "a b c\n"
     ]
    }
   ],
   "source": [
    "print()\n",
    "print('a')\n",
    "print('a', 'b')\n",
    "print('a', 'b', 'c')"
   ]
  },
  {
   "cell_type": "code",
   "execution_count": 33,
   "id": "68cc050e-c95d-430c-a58c-f28c74f5ae41",
   "metadata": {},
   "outputs": [],
   "source": [
    "def f(*x):\n",
    "    print(x)"
   ]
  },
  {
   "cell_type": "code",
   "execution_count": 34,
   "id": "3d6e316e-96c2-43bb-8ed7-86b418244488",
   "metadata": {},
   "outputs": [
    {
     "name": "stdout",
     "output_type": "stream",
     "text": [
      "()\n",
      "('a',)\n",
      "('a', 'b')\n",
      "('a', 'b', 'c')\n"
     ]
    }
   ],
   "source": [
    "f()\n",
    "f('a')\n",
    "f('a', 'b')\n",
    "f('a', 'b', 'c')"
   ]
  },
  {
   "cell_type": "code",
   "execution_count": null,
   "id": "5ff4a8e9-b3da-4804-9f38-700b7539fece",
   "metadata": {},
   "outputs": [],
   "source": [
    "def our_gcd(a, b):\n",
    "    while b:\n",
    "        a, b = b, a % b\n",
    "    return a"
   ]
  },
  {
   "cell_type": "code",
   "execution_count": 35,
   "id": "b942dfca-437e-46f0-b310-57af6a5b00d1",
   "metadata": {},
   "outputs": [
    {
     "data": {
      "text/plain": [
       "False"
      ]
     },
     "execution_count": 35,
     "metadata": {},
     "output_type": "execute_result"
    }
   ],
   "source": [
    "23 == 0"
   ]
  },
  {
   "cell_type": "code",
   "execution_count": 36,
   "id": "1d7d5cd9-ce62-477f-b885-c50eb86b9c36",
   "metadata": {},
   "outputs": [
    {
     "data": {
      "text/plain": [
       "bool"
      ]
     },
     "execution_count": 36,
     "metadata": {},
     "output_type": "execute_result"
    }
   ],
   "source": [
    "type(23 == 0)"
   ]
  },
  {
   "cell_type": "code",
   "execution_count": 37,
   "id": "ea654e61-e3ce-4c0d-8c49-72c794763baf",
   "metadata": {},
   "outputs": [
    {
     "data": {
      "text/plain": [
       "True"
      ]
     },
     "execution_count": 37,
     "metadata": {},
     "output_type": "execute_result"
    }
   ],
   "source": [
    "bool(23)"
   ]
  },
  {
   "cell_type": "code",
   "execution_count": 38,
   "id": "22a3e99b-3447-44f0-a7b6-bee9a5d2fcf7",
   "metadata": {},
   "outputs": [
    {
     "data": {
      "text/plain": [
       "True"
      ]
     },
     "execution_count": 38,
     "metadata": {},
     "output_type": "execute_result"
    }
   ],
   "source": [
    "bool(1)"
   ]
  },
  {
   "cell_type": "code",
   "execution_count": 40,
   "id": "e9d78525-c78f-4b5e-a346-64a272cee213",
   "metadata": {},
   "outputs": [
    {
     "data": {
      "text/plain": [
       "True"
      ]
     },
     "execution_count": 40,
     "metadata": {},
     "output_type": "execute_result"
    }
   ],
   "source": [
    "bool(-1)"
   ]
  },
  {
   "cell_type": "code",
   "execution_count": 41,
   "id": "1f969f58-d834-48e1-bae8-ef4656f7a35c",
   "metadata": {},
   "outputs": [
    {
     "data": {
      "text/plain": [
       "False"
      ]
     },
     "execution_count": 41,
     "metadata": {},
     "output_type": "execute_result"
    }
   ],
   "source": [
    "bool(0)"
   ]
  },
  {
   "cell_type": "code",
   "execution_count": 42,
   "id": "58828b2f-c23c-457c-9b8a-658bbfe369b1",
   "metadata": {},
   "outputs": [
    {
     "data": {
      "text/plain": [
       "True"
      ]
     },
     "execution_count": 42,
     "metadata": {},
     "output_type": "execute_result"
    },
    {
     "data": {
      "text/plain": [
       "False"
      ]
     },
     "execution_count": 42,
     "metadata": {},
     "output_type": "execute_result"
    }
   ],
   "source": [
    "bool(3.4)\n",
    "bool(0)"
   ]
  },
  {
   "cell_type": "code",
   "execution_count": 43,
   "id": "05d58c2f-919b-45e6-bae5-c2c8bfb96ed1",
   "metadata": {},
   "outputs": [
    {
     "data": {
      "text/plain": [
       "True"
      ]
     },
     "execution_count": 43,
     "metadata": {},
     "output_type": "execute_result"
    },
    {
     "data": {
      "text/plain": [
       "False"
      ]
     },
     "execution_count": 43,
     "metadata": {},
     "output_type": "execute_result"
    }
   ],
   "source": [
    "bool([0])\n",
    "bool([])"
   ]
  },
  {
   "cell_type": "code",
   "execution_count": 44,
   "id": "04696160-aeec-43cb-aa1e-ce2d76c55a7c",
   "metadata": {},
   "outputs": [
    {
     "data": {
      "text/plain": [
       "True"
      ]
     },
     "execution_count": 44,
     "metadata": {},
     "output_type": "execute_result"
    }
   ],
   "source": [
    "bool([False])"
   ]
  },
  {
   "cell_type": "code",
   "execution_count": 45,
   "id": "7b336f64-2f6c-40f3-9cb1-82133ca56362",
   "metadata": {},
   "outputs": [
    {
     "data": {
      "text/plain": [
       "True"
      ]
     },
     "execution_count": 45,
     "metadata": {},
     "output_type": "execute_result"
    },
    {
     "data": {
      "text/plain": [
       "False"
      ]
     },
     "execution_count": 45,
     "metadata": {},
     "output_type": "execute_result"
    }
   ],
   "source": [
    "bool({0: 0})\n",
    "bool({})"
   ]
  },
  {
   "cell_type": "code",
   "execution_count": 46,
   "id": "bcb23642-93bb-4e40-8f1e-60bedb7b796a",
   "metadata": {},
   "outputs": [
    {
     "data": {
      "text/plain": [
       "True"
      ]
     },
     "execution_count": 46,
     "metadata": {},
     "output_type": "execute_result"
    },
    {
     "data": {
      "text/plain": [
       "False"
      ]
     },
     "execution_count": 46,
     "metadata": {},
     "output_type": "execute_result"
    }
   ],
   "source": [
    "bool(' ')\n",
    "bool('')"
   ]
  },
  {
   "cell_type": "code",
   "execution_count": 47,
   "id": "ca34641b-ad28-4993-baca-3657e60a15e9",
   "metadata": {},
   "outputs": [
    {
     "data": {
      "text/plain": [
       "False"
      ]
     },
     "execution_count": 47,
     "metadata": {},
     "output_type": "execute_result"
    }
   ],
   "source": [
    "bool(None)"
   ]
  },
  {
   "cell_type": "code",
   "execution_count": 9,
   "id": "6366c740-e1bf-42f3-a3a6-5d9c79f9648e",
   "metadata": {
    "tags": []
   },
   "outputs": [],
   "source": [
    "def f(*x):\n",
    "    return x * 2"
   ]
  },
  {
   "cell_type": "code",
   "execution_count": null,
   "id": "3bcf4878-2670-40f6-a301-0f93eb5b2b2a",
   "metadata": {},
   "outputs": [],
   "source": [
    "x == ()"
   ]
  },
  {
   "cell_type": "code",
   "execution_count": 11,
   "id": "45ba445f-46e1-46fa-a1e1-616b911eb6e5",
   "metadata": {},
   "outputs": [
    {
     "data": {
      "text/plain": [
       "()"
      ]
     },
     "execution_count": 11,
     "metadata": {},
     "output_type": "execute_result"
    }
   ],
   "source": [
    "() * 2"
   ]
  },
  {
   "cell_type": "code",
   "execution_count": 10,
   "id": "910ea1b4-bff3-4b12-a915-1170d9df2179",
   "metadata": {},
   "outputs": [
    {
     "data": {
      "text/plain": [
       "()"
      ]
     },
     "execution_count": 10,
     "metadata": {},
     "output_type": "execute_result"
    }
   ],
   "source": [
    "f()"
   ]
  },
  {
   "cell_type": "code",
   "execution_count": null,
   "id": "00a0b05a-9417-4bf5-8b63-1df6adab68e5",
   "metadata": {},
   "outputs": [],
   "source": [
    "x == (0,)"
   ]
  },
  {
   "cell_type": "code",
   "execution_count": 14,
   "id": "592f52f2-849e-4914-90d0-a42d891d330c",
   "metadata": {},
   "outputs": [
    {
     "data": {
      "text/plain": [
       "(0, 0)"
      ]
     },
     "execution_count": 14,
     "metadata": {},
     "output_type": "execute_result"
    }
   ],
   "source": [
    "(0,) * 2"
   ]
  },
  {
   "cell_type": "code",
   "execution_count": 12,
   "id": "be147b33-ec71-4067-beb7-5b8f0ab77303",
   "metadata": {},
   "outputs": [
    {
     "data": {
      "text/plain": [
       "(0, 0)"
      ]
     },
     "execution_count": 12,
     "metadata": {},
     "output_type": "execute_result"
    }
   ],
   "source": [
    "f(0)"
   ]
  },
  {
   "cell_type": "code",
   "execution_count": null,
   "id": "4f8d55b4-6f4d-4f0b-b9d8-9cf850d248b3",
   "metadata": {},
   "outputs": [],
   "source": [
    "x = ((0, 0),)"
   ]
  },
  {
   "cell_type": "code",
   "execution_count": 15,
   "id": "81b0699a-57e8-4589-9194-f10a723e21ad",
   "metadata": {},
   "outputs": [
    {
     "data": {
      "text/plain": [
       "((0, 0), (0, 0))"
      ]
     },
     "execution_count": 15,
     "metadata": {},
     "output_type": "execute_result"
    }
   ],
   "source": [
    "f(f(0))"
   ]
  },
  {
   "cell_type": "code",
   "execution_count": null,
   "id": "86ffbea8-57fb-4ffe-9380-c93d8fb726df",
   "metadata": {},
   "outputs": [],
   "source": [
    "f(0): (0, 0)\n",
    "*f(0): 0, 0\n",
    "x = (0, 0)"
   ]
  },
  {
   "cell_type": "code",
   "execution_count": 16,
   "id": "ae6a7acd-70bd-4361-9026-93a053eec4e0",
   "metadata": {},
   "outputs": [
    {
     "data": {
      "text/plain": [
       "(0, 0, 0, 0)"
      ]
     },
     "execution_count": 16,
     "metadata": {},
     "output_type": "execute_result"
    }
   ],
   "source": [
    "(0, 0) * 2"
   ]
  },
  {
   "cell_type": "code",
   "execution_count": 17,
   "id": "2dd553f4-6d4f-4468-80d0-ce027eeddc9a",
   "metadata": {},
   "outputs": [
    {
     "data": {
      "text/plain": [
       "(0, 0, 0, 0)"
      ]
     },
     "execution_count": 17,
     "metadata": {},
     "output_type": "execute_result"
    }
   ],
   "source": [
    "f(*f(0))"
   ]
  },
  {
   "cell_type": "code",
   "execution_count": 18,
   "id": "30b2c078-c23f-400f-bbac-f573f9bae875",
   "metadata": {},
   "outputs": [
    {
     "data": {
      "text/plain": [
       "(((0, 0), (0, 0)), ((0, 0), (0, 0)))"
      ]
     },
     "execution_count": 18,
     "metadata": {},
     "output_type": "execute_result"
    }
   ],
   "source": [
    "f(f(f(0)))"
   ]
  },
  {
   "cell_type": "code",
   "execution_count": 19,
   "id": "e1f1535e-f70c-4a0d-9c62-3ba49c8b56a1",
   "metadata": {},
   "outputs": [
    {
     "data": {
      "text/plain": [
       "((0, 0, 0, 0), (0, 0, 0, 0))"
      ]
     },
     "execution_count": 19,
     "metadata": {},
     "output_type": "execute_result"
    }
   ],
   "source": [
    "f(f(*f(0)))"
   ]
  },
  {
   "cell_type": "code",
   "execution_count": null,
   "id": "79d0d881-4185-4b17-89c7-a8eb5afe43dd",
   "metadata": {},
   "outputs": [],
   "source": [
    "f(*f(0)): (0, 0, 0, 0)\n",
    "*f(*f(0)): 0, 0, 0, 0\n",
    "x: (0, 0, 0, 0)"
   ]
  },
  {
   "cell_type": "code",
   "execution_count": 20,
   "id": "de397970-038d-4e73-bb90-d465a67bb329",
   "metadata": {},
   "outputs": [
    {
     "data": {
      "text/plain": [
       "(0, 0, 0, 0, 0, 0, 0, 0)"
      ]
     },
     "execution_count": 20,
     "metadata": {},
     "output_type": "execute_result"
    }
   ],
   "source": [
    "f(*f(*f(0)))"
   ]
  },
  {
   "cell_type": "code",
   "execution_count": 23,
   "id": "3880c0b8-af32-408d-9c85-7f272a676373",
   "metadata": {
    "tags": []
   },
   "outputs": [
    {
     "data": {
      "text/plain": [
       "5679.5"
      ]
     },
     "execution_count": 23,
     "metadata": {},
     "output_type": "execute_result"
    },
    {
     "data": {
      "text/plain": [
       "5679"
      ]
     },
     "execution_count": 23,
     "metadata": {},
     "output_type": "execute_result"
    },
    {
     "data": {
      "text/plain": [
       "5"
      ]
     },
     "execution_count": 23,
     "metadata": {},
     "output_type": "execute_result"
    }
   ],
   "source": [
    "56795 / 10\n",
    "56795 // 10\n",
    "56795 % 10"
   ]
  },
  {
   "cell_type": "code",
   "execution_count": 1,
   "id": "7cb8755b",
   "metadata": {},
   "outputs": [
    {
     "data": {
      "text/plain": [
       "'01011010'"
      ]
     },
     "execution_count": 1,
     "metadata": {},
     "output_type": "execute_result"
    }
   ],
   "source": [
    "f'{90:08b}'"
   ]
  },
  {
   "cell_type": "code",
   "execution_count": 2,
   "id": "43479314",
   "metadata": {},
   "outputs": [
    {
     "data": {
      "text/plain": [
       "'1011010'"
      ]
     },
     "execution_count": 2,
     "metadata": {},
     "output_type": "execute_result"
    }
   ],
   "source": [
    "f'{90:b}'"
   ]
  },
  {
   "cell_type": "code",
   "execution_count": 3,
   "id": "2c2e981f",
   "metadata": {},
   "outputs": [
    {
     "data": {
      "text/plain": [
       "' 1011010'"
      ]
     },
     "execution_count": 3,
     "metadata": {},
     "output_type": "execute_result"
    }
   ],
   "source": [
    "f'{90:8b}'"
   ]
  },
  {
   "cell_type": "code",
   "execution_count": null,
   "id": "62bf8f58",
   "metadata": {},
   "outputs": [],
   "source": [
    "[int(d) for d in f'{}']"
   ]
  }
 ],
 "metadata": {
  "kernelspec": {
   "display_name": "Python 3 (ipykernel)",
   "language": "python",
   "name": "python3"
  },
  "language_info": {
   "codemirror_mode": {
    "name": "ipython",
    "version": 3
   },
   "file_extension": ".py",
   "mimetype": "text/x-python",
   "name": "python",
   "nbconvert_exporter": "python",
   "pygments_lexer": "ipython3",
   "version": "3.9.7"
  },
  "widgets": {
   "application/vnd.jupyter.widget-state+json": {
    "state": {},
    "version_major": 2,
    "version_minor": 0
   }
  }
 },
 "nbformat": 4,
 "nbformat_minor": 5
}
