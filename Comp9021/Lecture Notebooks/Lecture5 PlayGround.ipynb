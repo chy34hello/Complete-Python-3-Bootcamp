{
 "cells": [
  {
   "cell_type": "markdown",
   "id": "eca8815c",
   "metadata": {},
   "source": [
    "Base 2, 8 ,16\n",
    "\n",
    "Unicode character set\n",
    "\n",
    "Dictionary comprehensions\n",
    "\n",
    "sorted() function\n",
    "\n",
    "lambda expressions"
   ]
  },
  {
   "cell_type": "code",
   "execution_count": 2,
   "id": "b475bb1c",
   "metadata": {},
   "outputs": [
    {
     "data": {
      "text/plain": [
       "'11011'"
      ]
     },
     "execution_count": 2,
     "metadata": {},
     "output_type": "execute_result"
    }
   ],
   "source": [
    "f'{27:b}'"
   ]
  },
  {
   "cell_type": "code",
   "execution_count": 3,
   "id": "12701401",
   "metadata": {},
   "outputs": [
    {
     "data": {
      "text/plain": [
       "27"
      ]
     },
     "execution_count": 3,
     "metadata": {},
     "output_type": "execute_result"
    }
   ],
   "source": [
    "1+2+8+16"
   ]
  },
  {
   "cell_type": "code",
   "execution_count": 4,
   "id": "f71a4ee8",
   "metadata": {},
   "outputs": [
    {
     "data": {
      "text/plain": [
       "'33'"
      ]
     },
     "execution_count": 4,
     "metadata": {},
     "output_type": "execute_result"
    }
   ],
   "source": [
    "f'{27:o}'"
   ]
  },
  {
   "cell_type": "code",
   "execution_count": 5,
   "id": "a9da862a",
   "metadata": {},
   "outputs": [
    {
     "data": {
      "text/plain": [
       "27"
      ]
     },
     "execution_count": 5,
     "metadata": {},
     "output_type": "execute_result"
    }
   ],
   "source": [
    "3+3*8\n"
   ]
  },
  {
   "cell_type": "code",
   "execution_count": 6,
   "id": "0f16c4f3",
   "metadata": {},
   "outputs": [
    {
     "data": {
      "text/plain": [
       "'1b'"
      ]
     },
     "execution_count": 6,
     "metadata": {},
     "output_type": "execute_result"
    }
   ],
   "source": [
    "f'{27:x}'"
   ]
  },
  {
   "cell_type": "code",
   "execution_count": 7,
   "id": "9b7c724f",
   "metadata": {},
   "outputs": [
    {
     "data": {
      "text/plain": [
       "27"
      ]
     },
     "execution_count": 7,
     "metadata": {},
     "output_type": "execute_result"
    }
   ],
   "source": [
    "11+1*16\n"
   ]
  },
  {
   "cell_type": "code",
   "execution_count": 8,
   "id": "3c6f58ac",
   "metadata": {},
   "outputs": [
    {
     "data": {
      "text/plain": [
       "27"
      ]
     },
     "execution_count": 8,
     "metadata": {},
     "output_type": "execute_result"
    }
   ],
   "source": [
    "0b11011"
   ]
  },
  {
   "cell_type": "code",
   "execution_count": 9,
   "id": "a2e67c57",
   "metadata": {},
   "outputs": [
    {
     "data": {
      "text/plain": [
       "27"
      ]
     },
     "execution_count": 9,
     "metadata": {},
     "output_type": "execute_result"
    }
   ],
   "source": [
    "0o33"
   ]
  },
  {
   "cell_type": "code",
   "execution_count": 10,
   "id": "93e8e2a6",
   "metadata": {},
   "outputs": [
    {
     "data": {
      "text/plain": [
       "27"
      ]
     },
     "execution_count": 10,
     "metadata": {},
     "output_type": "execute_result"
    }
   ],
   "source": [
    "0x1b"
   ]
  },
  {
   "cell_type": "code",
   "execution_count": 11,
   "id": "c1a3cf00",
   "metadata": {},
   "outputs": [
    {
     "data": {
      "text/plain": [
       "27"
      ]
     },
     "execution_count": 11,
     "metadata": {},
     "output_type": "execute_result"
    }
   ],
   "source": [
    "int('27')"
   ]
  },
  {
   "cell_type": "code",
   "execution_count": 15,
   "id": "fdb2135e",
   "metadata": {},
   "outputs": [
    {
     "data": {
      "text/plain": [
       "27"
      ]
     },
     "execution_count": 15,
     "metadata": {},
     "output_type": "execute_result"
    }
   ],
   "source": [
    "int('0b11011',2)"
   ]
  },
  {
   "cell_type": "code",
   "execution_count": 16,
   "id": "4094fdbc",
   "metadata": {},
   "outputs": [
    {
     "data": {
      "text/plain": [
       "27"
      ]
     },
     "execution_count": 16,
     "metadata": {},
     "output_type": "execute_result"
    }
   ],
   "source": [
    "int('11011',2)"
   ]
  },
  {
   "cell_type": "code",
   "execution_count": 17,
   "id": "ae54a96b",
   "metadata": {},
   "outputs": [
    {
     "data": {
      "text/plain": [
       "27"
      ]
     },
     "execution_count": 17,
     "metadata": {},
     "output_type": "execute_result"
    }
   ],
   "source": [
    "int('33', 8)"
   ]
  },
  {
   "cell_type": "code",
   "execution_count": 18,
   "id": "d45bb03c",
   "metadata": {},
   "outputs": [
    {
     "data": {
      "text/plain": [
       "'='"
      ]
     },
     "execution_count": 18,
     "metadata": {},
     "output_type": "execute_result"
    }
   ],
   "source": [
    "chr(61)"
   ]
  },
  {
   "cell_type": "code",
   "execution_count": 21,
   "id": "721c3f68",
   "metadata": {},
   "outputs": [
    {
     "data": {
      "text/plain": [
       "61"
      ]
     },
     "execution_count": 21,
     "metadata": {},
     "output_type": "execute_result"
    }
   ],
   "source": [
    "ord('=')\n"
   ]
  },
  {
   "cell_type": "code",
   "execution_count": 22,
   "id": "4c4e82c1",
   "metadata": {},
   "outputs": [
    {
     "data": {
      "text/plain": [
       "'퐱'"
      ]
     },
     "execution_count": 22,
     "metadata": {},
     "output_type": "execute_result"
    }
   ],
   "source": [
    "chr(54321)"
   ]
  },
  {
   "cell_type": "code",
   "execution_count": 23,
   "id": "df9de149",
   "metadata": {},
   "outputs": [
    {
     "data": {
      "text/plain": [
       "54321"
      ]
     },
     "execution_count": 23,
     "metadata": {},
     "output_type": "execute_result"
    }
   ],
   "source": [
    "ord('퐱')"
   ]
  },
  {
   "cell_type": "code",
   "execution_count": 36,
   "id": "f4bdd06f",
   "metadata": {},
   "outputs": [
    {
     "ename": "SyntaxError",
     "evalue": "(unicode error) 'unicodeescape' codec can't decode bytes in position 0-21: unknown Unicode character name (Temp/ipykernel_24608/2989513772.py, line 1)",
     "output_type": "error",
     "traceback": [
      "\u001b[1;36m  File \u001b[1;32m\"C:\\Users\\chy34\\AppData\\Local\\Temp/ipykernel_24608/2989513772.py\"\u001b[1;36m, line \u001b[1;32m1\u001b[0m\n\u001b[1;33m    '\\N{white large circle}'\u001b[0m\n\u001b[1;37m                            ^\u001b[0m\n\u001b[1;31mSyntaxError\u001b[0m\u001b[1;31m:\u001b[0m (unicode error) 'unicodeescape' codec can't decode bytes in position 0-21: unknown Unicode character name\n"
     ]
    }
   ],
   "source": [
    "'\\N{white large circle}'"
   ]
  },
  {
   "cell_type": "code",
   "execution_count": 32,
   "id": "d5d62eba",
   "metadata": {},
   "outputs": [
    {
     "data": {
      "text/plain": [
       "'⬜'"
      ]
     },
     "execution_count": 32,
     "metadata": {},
     "output_type": "execute_result"
    }
   ],
   "source": [
    "'\\N{white large square}'"
   ]
  },
  {
   "cell_type": "code",
   "execution_count": 28,
   "id": "9d3360d7",
   "metadata": {},
   "outputs": [
    {
     "data": {
      "text/plain": [
       "'\\x00'"
      ]
     },
     "execution_count": 28,
     "metadata": {},
     "output_type": "execute_result"
    }
   ],
   "source": [
    "chr(0)"
   ]
  },
  {
   "cell_type": "code",
   "execution_count": 29,
   "id": "f2c90bd6",
   "metadata": {},
   "outputs": [
    {
     "data": {
      "text/plain": [
       "'\\x01'"
      ]
     },
     "execution_count": 29,
     "metadata": {},
     "output_type": "execute_result"
    }
   ],
   "source": [
    "chr(1)"
   ]
  },
  {
   "cell_type": "code",
   "execution_count": 30,
   "id": "793dce60",
   "metadata": {},
   "outputs": [
    {
     "data": {
      "text/plain": [
       "'❦'"
      ]
     },
     "execution_count": 30,
     "metadata": {},
     "output_type": "execute_result"
    }
   ],
   "source": [
    "chr(10086)"
   ]
  },
  {
   "cell_type": "code",
   "execution_count": 31,
   "id": "89a6bde2",
   "metadata": {},
   "outputs": [
    {
     "data": {
      "text/plain": [
       "'⬛'"
      ]
     },
     "execution_count": 31,
     "metadata": {},
     "output_type": "execute_result"
    }
   ],
   "source": [
    "'\\N{black large square}'"
   ]
  },
  {
   "cell_type": "code",
   "execution_count": 43,
   "id": "03123ea8",
   "metadata": {},
   "outputs": [],
   "source": [
    "a = '\\N{black large square}'\n",
    "L=[]\n",
    "L.append(a)\n",
    "L.append(a)\n",
    "L.append(a)\n",
    "L.append(a)\n",
    "L.append(a)\n",
    "L.append(a)\n"
   ]
  },
  {
   "cell_type": "code",
   "execution_count": 44,
   "id": "b9656d4d",
   "metadata": {},
   "outputs": [
    {
     "data": {
      "text/plain": [
       "6"
      ]
     },
     "execution_count": 44,
     "metadata": {},
     "output_type": "execute_result"
    }
   ],
   "source": [
    "len(L)"
   ]
  },
  {
   "cell_type": "code",
   "execution_count": 46,
   "id": "c6338b9a",
   "metadata": {},
   "outputs": [],
   "source": [
    "mapping = {0: '⬛', 1:'⬜'}"
   ]
  },
  {
   "cell_type": "code",
   "execution_count": 47,
   "id": "b59ee010",
   "metadata": {},
   "outputs": [
    {
     "data": {
      "text/plain": [
       "'⬜'"
      ]
     },
     "execution_count": 47,
     "metadata": {},
     "output_type": "execute_result"
    }
   ],
   "source": [
    "mapping[1]"
   ]
  },
  {
   "cell_type": "code",
   "execution_count": 48,
   "id": "3472dfb9",
   "metadata": {},
   "outputs": [
    {
     "data": {
      "text/plain": [
       "['⬛', '⬛', '⬛', '⬛', '⬛', '⬛']"
      ]
     },
     "execution_count": 48,
     "metadata": {},
     "output_type": "execute_result"
    }
   ],
   "source": [
    "L"
   ]
  },
  {
   "cell_type": "code",
   "execution_count": 49,
   "id": "2537df0c",
   "metadata": {},
   "outputs": [],
   "source": [
    "L = [1,0,0,1,1,1,0]"
   ]
  },
  {
   "cell_type": "code",
   "execution_count": 50,
   "id": "34b7fe8b",
   "metadata": {},
   "outputs": [
    {
     "data": {
      "text/plain": [
       "[2, 0, 0, 2, 2, 2, 0]"
      ]
     },
     "execution_count": 50,
     "metadata": {},
     "output_type": "execute_result"
    }
   ],
   "source": [
    "[2*x for x in L]"
   ]
  },
  {
   "cell_type": "code",
   "execution_count": 51,
   "id": "20ec996f",
   "metadata": {},
   "outputs": [
    {
     "data": {
      "text/plain": [
       "['⬜', '⬛', '⬛', '⬜', '⬜', '⬜', '⬛']"
      ]
     },
     "execution_count": 51,
     "metadata": {},
     "output_type": "execute_result"
    }
   ],
   "source": [
    "[mapping[x] for x in L]"
   ]
  },
  {
   "cell_type": "code",
   "execution_count": 55,
   "id": "f5c05c25",
   "metadata": {},
   "outputs": [],
   "source": [
    "l = ''.join(mapping[x] for x in L)"
   ]
  },
  {
   "cell_type": "code",
   "execution_count": 56,
   "id": "be6671f9",
   "metadata": {},
   "outputs": [
    {
     "data": {
      "text/plain": [
       "str"
      ]
     },
     "execution_count": 56,
     "metadata": {},
     "output_type": "execute_result"
    }
   ],
   "source": [
    "type(l)"
   ]
  },
  {
   "cell_type": "code",
   "execution_count": 57,
   "id": "58d7c1b1",
   "metadata": {},
   "outputs": [
    {
     "data": {
      "text/plain": [
       "'⬜⬛⬛⬜⬜⬜⬛'"
      ]
     },
     "execution_count": 57,
     "metadata": {},
     "output_type": "execute_result"
    }
   ],
   "source": [
    "l"
   ]
  },
  {
   "cell_type": "code",
   "execution_count": 58,
   "id": "b0f79e23",
   "metadata": {},
   "outputs": [
    {
     "data": {
      "text/plain": [
       "[-6, -5, 1, 3, 7]"
      ]
     },
     "execution_count": 58,
     "metadata": {},
     "output_type": "execute_result"
    }
   ],
   "source": [
    "sorted([3,1,-5,7,-6])"
   ]
  },
  {
   "cell_type": "code",
   "execution_count": 60,
   "id": "698451f8",
   "metadata": {},
   "outputs": [
    {
     "data": {
      "text/plain": [
       "[-6, -5, 1, 3, 7]"
      ]
     },
     "execution_count": 60,
     "metadata": {},
     "output_type": "execute_result"
    }
   ],
   "source": [
    "sorted({3,1,-5,7,-6,-6})"
   ]
  },
  {
   "cell_type": "code",
   "execution_count": 62,
   "id": "023e30db",
   "metadata": {},
   "outputs": [
    {
     "data": {
      "text/plain": [
       "[-6, -5, 1, 3, 7]"
      ]
     },
     "execution_count": 62,
     "metadata": {},
     "output_type": "execute_result"
    }
   ],
   "source": [
    "sorted({3:0,1:12,-5:'Str',7:123,-6:9.5})"
   ]
  },
  {
   "cell_type": "code",
   "execution_count": 63,
   "id": "6cb8805c",
   "metadata": {},
   "outputs": [
    {
     "data": {
      "text/plain": [
       "[-6, -5, 1, 3, 7]"
      ]
     },
     "execution_count": 63,
     "metadata": {},
     "output_type": "execute_result"
    }
   ],
   "source": [
    "sorted({3:0,1:12,-5:'Str',7:123,-6:9.5}.keys())"
   ]
  },
  {
   "cell_type": "markdown",
   "id": "8336378f",
   "metadata": {},
   "source": [
    "Sort pair for the 1st element and then second elements"
   ]
  },
  {
   "cell_type": "code",
   "execution_count": 64,
   "id": "8ff920bc",
   "metadata": {},
   "outputs": [
    {
     "data": {
      "text/plain": [
       "[(1, -5), (1, 7), (3, -2), (3, 0)]"
      ]
     },
     "execution_count": 64,
     "metadata": {},
     "output_type": "execute_result"
    }
   ],
   "source": [
    "sorted({(3,0),(3,-2),(1,7),(1,-5)})"
   ]
  },
  {
   "cell_type": "code",
   "execution_count": 65,
   "id": "54e4bf94",
   "metadata": {},
   "outputs": [
    {
     "ename": "TypeError",
     "evalue": "'<' not supported between instances of 'str' and 'int'",
     "output_type": "error",
     "traceback": [
      "\u001b[1;31m---------------------------------------------------------------------------\u001b[0m",
      "\u001b[1;31mTypeError\u001b[0m                                 Traceback (most recent call last)",
      "\u001b[1;32m~\\AppData\\Local\\Temp/ipykernel_24608/4125796871.py\u001b[0m in \u001b[0;36m<module>\u001b[1;34m\u001b[0m\n\u001b[1;32m----> 1\u001b[1;33m \u001b[0msorted\u001b[0m\u001b[1;33m(\u001b[0m\u001b[1;33m{\u001b[0m\u001b[1;36m1\u001b[0m\u001b[1;33m,\u001b[0m\u001b[1;34m'⬛'\u001b[0m\u001b[1;33m}\u001b[0m\u001b[1;33m)\u001b[0m\u001b[1;33m\u001b[0m\u001b[1;33m\u001b[0m\u001b[0m\n\u001b[0m",
      "\u001b[1;31mTypeError\u001b[0m: '<' not supported between instances of 'str' and 'int'"
     ]
    }
   ],
   "source": [
    "sorted({1,'⬛'})"
   ]
  },
  {
   "cell_type": "code",
   "execution_count": 66,
   "id": "15bb4425",
   "metadata": {},
   "outputs": [
    {
     "data": {
      "text/plain": [
       "11035"
      ]
     },
     "execution_count": 66,
     "metadata": {},
     "output_type": "execute_result"
    }
   ],
   "source": [
    "ord('⬛')"
   ]
  },
  {
   "cell_type": "code",
   "execution_count": 67,
   "id": "e05b03db",
   "metadata": {},
   "outputs": [
    {
     "ename": "TypeError",
     "evalue": "'<' not supported between instances of 'tuple' and 'int'",
     "output_type": "error",
     "traceback": [
      "\u001b[1;31m---------------------------------------------------------------------------\u001b[0m",
      "\u001b[1;31mTypeError\u001b[0m                                 Traceback (most recent call last)",
      "\u001b[1;32m~\\AppData\\Local\\Temp/ipykernel_24608/2117758343.py\u001b[0m in \u001b[0;36m<module>\u001b[1;34m\u001b[0m\n\u001b[1;32m----> 1\u001b[1;33m \u001b[0msorted\u001b[0m\u001b[1;33m(\u001b[0m\u001b[1;33m{\u001b[0m\u001b[1;36m1\u001b[0m\u001b[1;33m,\u001b[0m\u001b[1;33m(\u001b[0m\u001b[1;36m2\u001b[0m\u001b[1;33m,\u001b[0m\u001b[1;33m)\u001b[0m\u001b[1;33m}\u001b[0m\u001b[1;33m)\u001b[0m\u001b[1;33m\u001b[0m\u001b[1;33m\u001b[0m\u001b[0m\n\u001b[0m",
      "\u001b[1;31mTypeError\u001b[0m: '<' not supported between instances of 'tuple' and 'int'"
     ]
    }
   ],
   "source": [
    "sorted({1,(2,)})"
   ]
  },
  {
   "cell_type": "code",
   "execution_count": 68,
   "id": "6f506ca4",
   "metadata": {},
   "outputs": [
    {
     "data": {
      "text/plain": [
       "[(1,), (2,)]"
      ]
     },
     "execution_count": 68,
     "metadata": {},
     "output_type": "execute_result"
    }
   ],
   "source": [
    "sorted({(1,),(2,)})"
   ]
  },
  {
   "cell_type": "code",
   "execution_count": 69,
   "id": "a03cfcdd",
   "metadata": {},
   "outputs": [
    {
     "data": {
      "text/plain": [
       "[-6, -5, 1, 3, 5, 7]"
      ]
     },
     "execution_count": 69,
     "metadata": {},
     "output_type": "execute_result"
    }
   ],
   "source": [
    "sorted({3,1,-5,7,5,-6,5})"
   ]
  },
  {
   "cell_type": "code",
   "execution_count": 74,
   "id": "4d200d71",
   "metadata": {},
   "outputs": [
    {
     "data": {
      "text/plain": [
       "[7, -6, 5, -5, 3, 1]"
      ]
     },
     "execution_count": 74,
     "metadata": {},
     "output_type": "execute_result"
    }
   ],
   "source": [
    "sorted({3,1,-5,7,5,-6,5},key =abs, reverse=True)"
   ]
  },
  {
   "cell_type": "code",
   "execution_count": 77,
   "id": "2c6e71e8",
   "metadata": {},
   "outputs": [
    {
     "ename": "SyntaxError",
     "evalue": "invalid syntax (Temp/ipykernel_24608/2271547415.py, line 1)",
     "output_type": "error",
     "traceback": [
      "\u001b[1;36m  File \u001b[1;32m\"C:\\Users\\chy34\\AppData\\Local\\Temp/ipykernel_24608/2271547415.py\"\u001b[1;36m, line \u001b[1;32m1\u001b[0m\n\u001b[1;33m    a='Beautiful, is; better*than\\nugly'                                                                                                                                                                                                                                                                                                                                                                                                                                                                                                                                                                                                                                                                                                                                                                                                                                                                                                                                                                                                                                                                                                                                                                                                        import re\u001b[0m\n\u001b[1;37m                                                                                                                                                                                                                                                                                                                                                                                                                                                                                                                                                                                                                                                                                                                                                                                                                                                                                                                                                                                                                                                                                                                                                                                                                                                ^\u001b[0m\n\u001b[1;31mSyntaxError\u001b[0m\u001b[1;31m:\u001b[0m invalid syntax\n"
     ]
    }
   ],
   "source": [
    "                                                                                                      "
   ]
  },
  {
   "cell_type": "code",
   "execution_count": 79,
   "id": "d10b6eb4",
   "metadata": {},
   "outputs": [
    {
     "ename": "SyntaxError",
     "evalue": "invalid syntax (Temp/ipykernel_24608/4077259241.py, line 1)",
     "output_type": "error",
     "traceback": [
      "\u001b[1;36m  File \u001b[1;32m\"C:\\Users\\chy34\\AppData\\Local\\Temp/ipykernel_24608/4077259241.py\"\u001b[1;36m, line \u001b[1;32m1\u001b[0m\n\u001b[1;33m    a='Beautiful, is; better*than\\nugly'                                                                                                                                                                                                                                                                                                                                                                                                                                                                                                                                                                                                                                                                                                                                                                                                                                                                                                                                                                                                                                                                                                                                                                                                        import re\u001b[0m\n\u001b[1;37m                                                                                                                                                                                                                                                                                                                                                                                                                                                                                                                                                                                                                                                                                                                                                                                                                                                                                                                                                                                                                                                                                                                                                                                                                                                ^\u001b[0m\n\u001b[1;31mSyntaxError\u001b[0m\u001b[1;31m:\u001b[0m invalid syntax\n"
     ]
    }
   ],
   "source": [
    "a='Beautiful, is; better*than\\nugly'                                                                                                                                                                                                                                                                                                                                                                                                                                                                                                                                                                                                                                                                                                                                                                                                                                                                                                                                                                                                                                                                                                                                                                                                    "
   ]
  },
  {
   "cell_type": "code",
   "execution_count": 80,
   "id": "8898df7b",
   "metadata": {},
   "outputs": [],
   "source": [
    "a = []"
   ]
  },
  {
   "cell_type": "code",
   "execution_count": 83,
   "id": "2acb5b4c",
   "metadata": {},
   "outputs": [
    {
     "data": {
      "text/plain": [
       "['Beautiful', 'is', 'better', 'than', 'ugly', '']"
      ]
     },
     "execution_count": 83,
     "metadata": {},
     "output_type": "execute_result"
    }
   ],
   "source": [
    "import re\n",
    "a='Beautiful, is; better*than\\nugly?'\n",
    "re.split('; |, |\\*|\\n|\\?',a)"
   ]
  },
  {
   "cell_type": "code",
   "execution_count": 84,
   "id": "ccefeb5e",
   "metadata": {},
   "outputs": [],
   "source": [
    "a= ()"
   ]
  },
  {
   "cell_type": "code",
   "execution_count": 85,
   "id": "a5be7222",
   "metadata": {},
   "outputs": [
    {
     "ename": "TypeError",
     "evalue": "can only concatenate tuple (not \"int\") to tuple",
     "output_type": "error",
     "traceback": [
      "\u001b[1;31m---------------------------------------------------------------------------\u001b[0m",
      "\u001b[1;31mTypeError\u001b[0m                                 Traceback (most recent call last)",
      "\u001b[1;32m~\\AppData\\Local\\Temp/ipykernel_24608/3496036041.py\u001b[0m in \u001b[0;36m<module>\u001b[1;34m\u001b[0m\n\u001b[1;32m----> 1\u001b[1;33m \u001b[0ma\u001b[0m\u001b[1;33m+\u001b[0m\u001b[1;33m(\u001b[0m\u001b[1;36m1\u001b[0m\u001b[1;33m)\u001b[0m\u001b[1;33m\u001b[0m\u001b[1;33m\u001b[0m\u001b[0m\n\u001b[0m",
      "\u001b[1;31mTypeError\u001b[0m: can only concatenate tuple (not \"int\") to tuple"
     ]
    }
   ],
   "source": [
    "a+(1)"
   ]
  },
  {
   "cell_type": "code",
   "execution_count": 86,
   "id": "401e3c9b",
   "metadata": {},
   "outputs": [
    {
     "ename": "TypeError",
     "evalue": "can only concatenate tuple (not \"int\") to tuple",
     "output_type": "error",
     "traceback": [
      "\u001b[1;31m---------------------------------------------------------------------------\u001b[0m",
      "\u001b[1;31mTypeError\u001b[0m                                 Traceback (most recent call last)",
      "\u001b[1;32m~\\AppData\\Local\\Temp/ipykernel_24608/3392120203.py\u001b[0m in \u001b[0;36m<module>\u001b[1;34m\u001b[0m\n\u001b[1;32m----> 1\u001b[1;33m \u001b[0mb\u001b[0m\u001b[1;33m=\u001b[0m \u001b[0ma\u001b[0m\u001b[1;33m+\u001b[0m\u001b[1;33m(\u001b[0m\u001b[1;36m4\u001b[0m\u001b[1;33m)\u001b[0m\u001b[1;33m\u001b[0m\u001b[1;33m\u001b[0m\u001b[0m\n\u001b[0m",
      "\u001b[1;31mTypeError\u001b[0m: can only concatenate tuple (not \"int\") to tuple"
     ]
    }
   ],
   "source": [
    "b= a+(4)"
   ]
  },
  {
   "cell_type": "code",
   "execution_count": 90,
   "id": "3d823622",
   "metadata": {},
   "outputs": [],
   "source": []
  },
  {
   "cell_type": "code",
   "execution_count": 93,
   "id": "a2d0d991",
   "metadata": {},
   "outputs": [
    {
     "ename": "TypeError",
     "evalue": "unsupported operand type(s) for +: 'int' and 'tuple'",
     "output_type": "error",
     "traceback": [
      "\u001b[1;31m---------------------------------------------------------------------------\u001b[0m",
      "\u001b[1;31mTypeError\u001b[0m                                 Traceback (most recent call last)",
      "\u001b[1;32m~\\AppData\\Local\\Temp/ipykernel_24608/3486356474.py\u001b[0m in \u001b[0;36m<module>\u001b[1;34m\u001b[0m\n\u001b[1;32m----> 1\u001b[1;33m \u001b[0mb\u001b[0m\u001b[1;33m=\u001b[0m \u001b[0ma\u001b[0m \u001b[1;33m+\u001b[0m \u001b[1;33m(\u001b[0m\u001b[1;36m4\u001b[0m\u001b[1;33m,\u001b[0m\u001b[1;33m)\u001b[0m\u001b[1;33m\u001b[0m\u001b[1;33m\u001b[0m\u001b[0m\n\u001b[0m",
      "\u001b[1;31mTypeError\u001b[0m: unsupported operand type(s) for +: 'int' and 'tuple'"
     ]
    }
   ],
   "source": []
  },
  {
   "cell_type": "code",
   "execution_count": 92,
   "id": "1c9093a7",
   "metadata": {},
   "outputs": [
    {
     "data": {
      "text/plain": [
       "5"
      ]
     },
     "execution_count": 92,
     "metadata": {},
     "output_type": "execute_result"
    }
   ],
   "source": [
    "b"
   ]
  },
  {
   "cell_type": "code",
   "execution_count": 102,
   "id": "c999785c",
   "metadata": {},
   "outputs": [],
   "source": [
    "a = []\n",
    "for p in range(8):\n",
    "   a.append(f'{p:03b}')"
   ]
  },
  {
   "cell_type": "code",
   "execution_count": 103,
   "id": "c04e0891",
   "metadata": {},
   "outputs": [
    {
     "data": {
      "text/plain": [
       "['000', '001', '010', '011', '100', '101', '110', '111']"
      ]
     },
     "execution_count": 103,
     "metadata": {},
     "output_type": "execute_result"
    }
   ],
   "source": [
    "a"
   ]
  },
  {
   "cell_type": "code",
   "execution_count": 104,
   "id": "3e8bab0b",
   "metadata": {},
   "outputs": [],
   "source": [
    "intToDigits = lambda a : list(map(int, str(a)))"
   ]
  },
  {
   "cell_type": "code",
   "execution_count": 105,
   "id": "616afc99",
   "metadata": {},
   "outputs": [
    {
     "data": {
      "text/plain": [
       "[1, 1, 1, 1]"
      ]
     },
     "execution_count": 105,
     "metadata": {},
     "output_type": "execute_result"
    }
   ],
   "source": [
    "intToDigits(1111)"
   ]
  },
  {
   "cell_type": "code",
   "execution_count": 106,
   "id": "fd41a268",
   "metadata": {},
   "outputs": [
    {
     "ename": "SyntaxError",
     "evalue": "leading zeros in decimal integer literals are not permitted; use an 0o prefix for octal integers (Temp/ipykernel_24608/2888422668.py, line 1)",
     "output_type": "error",
     "traceback": [
      "\u001b[1;36m  File \u001b[1;32m\"C:\\Users\\chy34\\AppData\\Local\\Temp/ipykernel_24608/2888422668.py\"\u001b[1;36m, line \u001b[1;32m1\u001b[0m\n\u001b[1;33m    intToDigits(001)\u001b[0m\n\u001b[1;37m                  ^\u001b[0m\n\u001b[1;31mSyntaxError\u001b[0m\u001b[1;31m:\u001b[0m leading zeros in decimal integer literals are not permitted; use an 0o prefix for octal integers\n"
     ]
    }
   ],
   "source": [
    "intToDigits(001)"
   ]
  },
  {
   "cell_type": "code",
   "execution_count": 107,
   "id": "ca7334f0",
   "metadata": {},
   "outputs": [
    {
     "ename": "SyntaxError",
     "evalue": "invalid syntax (Temp/ipykernel_24608/729383533.py, line 2)",
     "output_type": "error",
     "traceback": [
      "\u001b[1;36m  File \u001b[1;32m\"C:\\Users\\chy34\\AppData\\Local\\Temp/ipykernel_24608/729383533.py\"\u001b[1;36m, line \u001b[1;32m2\u001b[0m\n\u001b[1;33m    l2.append(int(c))for c in '00001'\u001b[0m\n\u001b[1;37m                     ^\u001b[0m\n\u001b[1;31mSyntaxError\u001b[0m\u001b[1;31m:\u001b[0m invalid syntax\n"
     ]
    }
   ],
   "source": [
    "l2 =[]\n",
    "l2.append(int(c)) for c in '00001' "
   ]
  },
  {
   "cell_type": "code",
   "execution_count": 109,
   "id": "11fff1bd",
   "metadata": {},
   "outputs": [
    {
     "data": {
      "text/plain": [
       "[0, 0, 0, 0, 1]"
      ]
     },
     "execution_count": 109,
     "metadata": {},
     "output_type": "execute_result"
    }
   ],
   "source": [
    "l2 =[]\n",
    "[(int(c)) for c in '00001' ]"
   ]
  },
  {
   "cell_type": "code",
   "execution_count": 110,
   "id": "3b030020",
   "metadata": {},
   "outputs": [
    {
     "ename": "SyntaxError",
     "evalue": "leading zeros in decimal integer literals are not permitted; use an 0o prefix for octal integers (Temp/ipykernel_24608/2174416791.py, line 1)",
     "output_type": "error",
     "traceback": [
      "\u001b[1;36m  File \u001b[1;32m\"C:\\Users\\chy34\\AppData\\Local\\Temp/ipykernel_24608/2174416791.py\"\u001b[1;36m, line \u001b[1;32m1\u001b[0m\n\u001b[1;33m    str(001)\u001b[0m\n\u001b[1;37m          ^\u001b[0m\n\u001b[1;31mSyntaxError\u001b[0m\u001b[1;31m:\u001b[0m leading zeros in decimal integer literals are not permitted; use an 0o prefix for octal integers\n"
     ]
    }
   ],
   "source": [
    "str(001)"
   ]
  },
  {
   "cell_type": "code",
   "execution_count": 112,
   "id": "a6c0c365",
   "metadata": {},
   "outputs": [],
   "source": [
    "t1 = (1,)"
   ]
  },
  {
   "cell_type": "code",
   "execution_count": 113,
   "id": "13efdad9",
   "metadata": {},
   "outputs": [],
   "source": [
    "t2 = (2,)"
   ]
  },
  {
   "cell_type": "code",
   "execution_count": 114,
   "id": "89b74e85",
   "metadata": {},
   "outputs": [
    {
     "data": {
      "text/plain": [
       "(1, 2)"
      ]
     },
     "execution_count": 114,
     "metadata": {},
     "output_type": "execute_result"
    }
   ],
   "source": [
    "t1+t2"
   ]
  },
  {
   "cell_type": "code",
   "execution_count": 1,
   "id": "924581bc",
   "metadata": {},
   "outputs": [
    {
     "data": {
      "text/plain": [
       "1"
      ]
     },
     "execution_count": 1,
     "metadata": {},
     "output_type": "execute_result"
    }
   ],
   "source": [
    "t1 = (1,2)\n",
    "t1[0]"
   ]
  },
  {
   "cell_type": "code",
   "execution_count": 2,
   "id": "cf1d9349",
   "metadata": {},
   "outputs": [
    {
     "data": {
      "text/plain": [
       "int"
      ]
     },
     "execution_count": 2,
     "metadata": {},
     "output_type": "execute_result"
    }
   ],
   "source": [
    "type(t1[0])"
   ]
  },
  {
   "cell_type": "code",
   "execution_count": 3,
   "id": "84cda29b",
   "metadata": {},
   "outputs": [
    {
     "data": {
      "text/plain": [
       "3"
      ]
     },
     "execution_count": 3,
     "metadata": {},
     "output_type": "execute_result"
    }
   ],
   "source": [
    "t1 = (1,2)\n",
    "x,y =t1\n",
    "x+y "
   ]
  },
  {
   "cell_type": "code",
   "execution_count": 7,
   "id": "c7df8825",
   "metadata": {},
   "outputs": [
    {
     "name": "stdout",
     "output_type": "stream",
     "text": [
      "1\n",
      "2\n",
      "3\n",
      "4\n"
     ]
    }
   ],
   "source": [
    "for x in range(1,5, 1):\n",
    "    print(x)"
   ]
  },
  {
   "cell_type": "code",
   "execution_count": 8,
   "id": "14f2aab6",
   "metadata": {},
   "outputs": [],
   "source": [
    "abc = {(1,-2):  '11',  (-2,1): '22'}"
   ]
  },
  {
   "cell_type": "code",
   "execution_count": 11,
   "id": "1e259995",
   "metadata": {},
   "outputs": [
    {
     "data": {
      "text/plain": [
       "2"
      ]
     },
     "execution_count": 11,
     "metadata": {},
     "output_type": "execute_result"
    }
   ],
   "source": [
    "len(abc.keys())"
   ]
  },
  {
   "cell_type": "code",
   "execution_count": 12,
   "id": "d34bd05b",
   "metadata": {},
   "outputs": [
    {
     "data": {
      "text/plain": [
       "'11'"
      ]
     },
     "execution_count": 12,
     "metadata": {},
     "output_type": "execute_result"
    }
   ],
   "source": [
    "abc[(1,-2)]"
   ]
  },
  {
   "cell_type": "code",
   "execution_count": 13,
   "id": "56d7fcf5",
   "metadata": {},
   "outputs": [
    {
     "data": {
      "text/plain": [
       "'22'"
      ]
     },
     "execution_count": 13,
     "metadata": {},
     "output_type": "execute_result"
    }
   ],
   "source": [
    "abc[(-2,1)]"
   ]
  },
  {
   "cell_type": "code",
   "execution_count": 14,
   "id": "2082f916",
   "metadata": {},
   "outputs": [
    {
     "data": {
      "text/plain": [
       "(1, -2)"
      ]
     },
     "execution_count": 14,
     "metadata": {},
     "output_type": "execute_result"
    }
   ],
   "source": [
    "list(abc.keys())[0]"
   ]
  },
  {
   "cell_type": "code",
   "execution_count": null,
   "id": "b0495e0c",
   "metadata": {},
   "outputs": [],
   "source": [
    "l1 = "
   ]
  }
 ],
 "metadata": {
  "kernelspec": {
   "display_name": "Python 3 (ipykernel)",
   "language": "python",
   "name": "python3"
  },
  "language_info": {
   "codemirror_mode": {
    "name": "ipython",
    "version": 3
   },
   "file_extension": ".py",
   "mimetype": "text/x-python",
   "name": "python",
   "nbconvert_exporter": "python",
   "pygments_lexer": "ipython3",
   "version": "3.9.7"
  }
 },
 "nbformat": 4,
 "nbformat_minor": 5
}
