{
 "cells": [
  {
   "cell_type": "markdown",
   "id": "6ccaa743-cd63-4d63-b5cb-3da931b4f4db",
   "metadata": {},
   "source": [
    "Bases 2, 8, 16\n",
    "  - formatting numbers in these bases\n",
    "  - string literals in these bases\n",
    "  - letting int convert a string to a number using bases other than 10\n",
    "  \n",
    "Unicode character set\n",
    "Dictionary comprehensions\n",
    "sorted() function\n",
    "lambda expressions"
   ]
  },
  {
   "cell_type": "code",
   "execution_count": 1,
   "id": "33258d51-0b2f-4fe9-9c52-7ffb28e677f1",
   "metadata": {},
   "outputs": [
    {
     "data": {
      "text/plain": [
       "'27'"
      ]
     },
     "execution_count": 1,
     "metadata": {},
     "output_type": "execute_result"
    },
    {
     "data": {
      "text/plain": [
       "'27'"
      ]
     },
     "execution_count": 1,
     "metadata": {},
     "output_type": "execute_result"
    }
   ],
   "source": [
    "f'{27}'\n",
    "'27'"
   ]
  },
  {
   "cell_type": "code",
   "execution_count": 2,
   "id": "0e4101f9-0658-42c6-9373-93ae6a5a6766",
   "metadata": {},
   "outputs": [
    {
     "data": {
      "text/plain": [
       "'11011'"
      ]
     },
     "execution_count": 2,
     "metadata": {},
     "output_type": "execute_result"
    }
   ],
   "source": [
    "f'{27:b}'"
   ]
  },
  {
   "cell_type": "code",
   "execution_count": 3,
   "id": "a4cb6df3-9a44-4b39-92f6-212b25d4d635",
   "metadata": {},
   "outputs": [
    {
     "data": {
      "text/plain": [
       "27"
      ]
     },
     "execution_count": 3,
     "metadata": {},
     "output_type": "execute_result"
    }
   ],
   "source": [
    "1 + 2 + 8 + 16"
   ]
  },
  {
   "cell_type": "code",
   "execution_count": 4,
   "id": "b62d2e78-650b-4d80-b847-6241af44ec0c",
   "metadata": {},
   "outputs": [
    {
     "data": {
      "text/plain": [
       "'33'"
      ]
     },
     "execution_count": 4,
     "metadata": {},
     "output_type": "execute_result"
    }
   ],
   "source": [
    "f'{27:o}'"
   ]
  },
  {
   "cell_type": "code",
   "execution_count": 5,
   "id": "f9b698e8-56a4-444b-8fb0-c1af503b85cf",
   "metadata": {},
   "outputs": [
    {
     "data": {
      "text/plain": [
       "27"
      ]
     },
     "execution_count": 5,
     "metadata": {},
     "output_type": "execute_result"
    }
   ],
   "source": [
    "3 + 3 * 8"
   ]
  },
  {
   "cell_type": "code",
   "execution_count": 6,
   "id": "8c72a97c-6f17-4c87-b729-047b4d1de518",
   "metadata": {},
   "outputs": [
    {
     "data": {
      "text/plain": [
       "'34'"
      ]
     },
     "execution_count": 6,
     "metadata": {},
     "output_type": "execute_result"
    }
   ],
   "source": [
    "f'{28:o}'"
   ]
  },
  {
   "cell_type": "code",
   "execution_count": 7,
   "id": "e410f21b-976e-4d09-a513-0e04a36d9d3e",
   "metadata": {},
   "outputs": [
    {
     "data": {
      "text/plain": [
       "24"
      ]
     },
     "execution_count": 7,
     "metadata": {},
     "output_type": "execute_result"
    }
   ],
   "source": [
    "8 + 2 * 8"
   ]
  },
  {
   "cell_type": "code",
   "execution_count": 8,
   "id": "5f9aa8dc-5277-4fb8-aff1-b94df424ca27",
   "metadata": {},
   "outputs": [
    {
     "data": {
      "text/plain": [
       "'1b'"
      ]
     },
     "execution_count": 8,
     "metadata": {},
     "output_type": "execute_result"
    }
   ],
   "source": [
    "f'{27:x}'"
   ]
  },
  {
   "cell_type": "code",
   "execution_count": 9,
   "id": "dfded5ea-7442-44a7-9458-2c0d0828fb51",
   "metadata": {},
   "outputs": [
    {
     "data": {
      "text/plain": [
       "27"
      ]
     },
     "execution_count": 9,
     "metadata": {},
     "output_type": "execute_result"
    }
   ],
   "source": [
    "11 + 1 * 16"
   ]
  },
  {
   "cell_type": "code",
   "execution_count": 10,
   "id": "43e73e8d-b4e0-4125-b62f-c79404f3ddd7",
   "metadata": {},
   "outputs": [
    {
     "data": {
      "text/plain": [
       "27"
      ]
     },
     "execution_count": 10,
     "metadata": {},
     "output_type": "execute_result"
    }
   ],
   "source": [
    "27"
   ]
  },
  {
   "cell_type": "code",
   "execution_count": 11,
   "id": "62654800-efef-4417-9f46-1a3884cd7bf0",
   "metadata": {},
   "outputs": [
    {
     "data": {
      "text/plain": [
       "11011"
      ]
     },
     "execution_count": 11,
     "metadata": {},
     "output_type": "execute_result"
    }
   ],
   "source": [
    "11011"
   ]
  },
  {
   "cell_type": "code",
   "execution_count": 12,
   "id": "7faa2a7b-8787-43d5-b163-b47d4807338f",
   "metadata": {},
   "outputs": [
    {
     "data": {
      "text/plain": [
       "27"
      ]
     },
     "execution_count": 12,
     "metadata": {},
     "output_type": "execute_result"
    }
   ],
   "source": [
    "0b11011"
   ]
  },
  {
   "cell_type": "code",
   "execution_count": 13,
   "id": "0f002e12-7c81-4999-8075-c5afbe49b211",
   "metadata": {},
   "outputs": [
    {
     "data": {
      "text/plain": [
       "27"
      ]
     },
     "execution_count": 13,
     "metadata": {},
     "output_type": "execute_result"
    }
   ],
   "source": [
    "0o33"
   ]
  },
  {
   "cell_type": "code",
   "execution_count": 14,
   "id": "8a223df1-f62e-4744-a356-617f33a9bdab",
   "metadata": {},
   "outputs": [
    {
     "data": {
      "text/plain": [
       "27"
      ]
     },
     "execution_count": 14,
     "metadata": {},
     "output_type": "execute_result"
    }
   ],
   "source": [
    "0x1b"
   ]
  },
  {
   "cell_type": "code",
   "execution_count": 15,
   "id": "4c186b7a-bfee-41c8-96d4-aa1323fd0e29",
   "metadata": {},
   "outputs": [
    {
     "data": {
      "text/plain": [
       "27"
      ]
     },
     "execution_count": 15,
     "metadata": {},
     "output_type": "execute_result"
    }
   ],
   "source": [
    "int('27')"
   ]
  },
  {
   "cell_type": "code",
   "execution_count": 16,
   "id": "3e86257f-4886-4736-bc21-73b37be356e5",
   "metadata": {},
   "outputs": [
    {
     "ename": "ValueError",
     "evalue": "invalid literal for int() with base 10: '0b11011'",
     "output_type": "error",
     "traceback": [
      "\u001b[0;31m---------------------------------------------------------------------------\u001b[0m",
      "\u001b[0;31mValueError\u001b[0m                                Traceback (most recent call last)",
      "Input \u001b[0;32mIn [16]\u001b[0m, in \u001b[0;36m<cell line: 1>\u001b[0;34m()\u001b[0m\n\u001b[0;32m----> 1\u001b[0m \u001b[38;5;28;43mint\u001b[39;49m\u001b[43m(\u001b[49m\u001b[38;5;124;43m'\u001b[39;49m\u001b[38;5;124;43m0b11011\u001b[39;49m\u001b[38;5;124;43m'\u001b[39;49m\u001b[43m)\u001b[49m\n",
      "\u001b[0;31mValueError\u001b[0m: invalid literal for int() with base 10: '0b11011'"
     ]
    }
   ],
   "source": [
    "int('0b11011')"
   ]
  },
  {
   "cell_type": "code",
   "execution_count": 17,
   "id": "d1a08565-a41e-4447-95ec-59377f66e159",
   "metadata": {},
   "outputs": [
    {
     "data": {
      "text/plain": [
       "27"
      ]
     },
     "execution_count": 17,
     "metadata": {},
     "output_type": "execute_result"
    }
   ],
   "source": [
    "int('0b11011', 2)"
   ]
  },
  {
   "cell_type": "code",
   "execution_count": 18,
   "id": "1e964974-d0e0-4c66-a5e1-09c75628df49",
   "metadata": {},
   "outputs": [
    {
     "data": {
      "text/plain": [
       "27"
      ]
     },
     "execution_count": 18,
     "metadata": {},
     "output_type": "execute_result"
    }
   ],
   "source": [
    "int('11011', 2)"
   ]
  },
  {
   "cell_type": "code",
   "execution_count": 19,
   "id": "0c3c6d2b-2135-4802-a5e3-dd970c087379",
   "metadata": {},
   "outputs": [
    {
     "data": {
      "text/plain": [
       "27"
      ]
     },
     "execution_count": 19,
     "metadata": {},
     "output_type": "execute_result"
    }
   ],
   "source": [
    "int('33', 8)"
   ]
  },
  {
   "cell_type": "code",
   "execution_count": 20,
   "id": "01a81337-40b2-4a9d-a098-378ffb18b4d6",
   "metadata": {},
   "outputs": [
    {
     "data": {
      "text/plain": [
       "27"
      ]
     },
     "execution_count": 20,
     "metadata": {},
     "output_type": "execute_result"
    }
   ],
   "source": [
    "int('0o33', 8)"
   ]
  },
  {
   "cell_type": "code",
   "execution_count": 21,
   "id": "4d918eaf-dc11-407d-ad50-96c488139547",
   "metadata": {},
   "outputs": [
    {
     "ename": "ValueError",
     "evalue": "invalid literal for int() with base 8: '0o38'",
     "output_type": "error",
     "traceback": [
      "\u001b[0;31m---------------------------------------------------------------------------\u001b[0m",
      "\u001b[0;31mValueError\u001b[0m                                Traceback (most recent call last)",
      "Input \u001b[0;32mIn [21]\u001b[0m, in \u001b[0;36m<cell line: 1>\u001b[0;34m()\u001b[0m\n\u001b[0;32m----> 1\u001b[0m \u001b[38;5;28;43mint\u001b[39;49m\u001b[43m(\u001b[49m\u001b[38;5;124;43m'\u001b[39;49m\u001b[38;5;124;43m0o38\u001b[39;49m\u001b[38;5;124;43m'\u001b[39;49m\u001b[43m,\u001b[49m\u001b[43m \u001b[49m\u001b[38;5;241;43m8\u001b[39;49m\u001b[43m)\u001b[49m\n",
      "\u001b[0;31mValueError\u001b[0m: invalid literal for int() with base 8: '0o38'"
     ]
    }
   ],
   "source": [
    "int('0o38', 8)"
   ]
  },
  {
   "cell_type": "code",
   "execution_count": 22,
   "id": "e19c412e-7474-49ad-8288-6356d987846f",
   "metadata": {},
   "outputs": [
    {
     "data": {
      "text/plain": [
       "'='"
      ]
     },
     "execution_count": 22,
     "metadata": {},
     "output_type": "execute_result"
    }
   ],
   "source": [
    "chr(61)"
   ]
  },
  {
   "cell_type": "code",
   "execution_count": 23,
   "id": "63d53e6e-654a-4ed1-aaa5-9ee20c74e0a7",
   "metadata": {},
   "outputs": [
    {
     "data": {
      "text/plain": [
       "61"
      ]
     },
     "execution_count": 23,
     "metadata": {},
     "output_type": "execute_result"
    }
   ],
   "source": [
    "ord('=')"
   ]
  },
  {
   "cell_type": "code",
   "execution_count": 24,
   "id": "d4771987-23d7-4127-8b18-986a2565e845",
   "metadata": {},
   "outputs": [
    {
     "data": {
      "text/plain": [
       "'퐱'"
      ]
     },
     "execution_count": 24,
     "metadata": {},
     "output_type": "execute_result"
    }
   ],
   "source": [
    "chr(54321)"
   ]
  },
  {
   "cell_type": "code",
   "execution_count": 25,
   "id": "c89ce726-eead-4943-9ecc-bc588dee5acf",
   "metadata": {},
   "outputs": [
    {
     "data": {
      "text/plain": [
       "54321"
      ]
     },
     "execution_count": 25,
     "metadata": {},
     "output_type": "execute_result"
    }
   ],
   "source": [
    "ord('퐱')"
   ]
  },
  {
   "cell_type": "code",
   "execution_count": 26,
   "id": "96edc893-19b8-4be1-9145-59e10d8dca90",
   "metadata": {},
   "outputs": [
    {
     "ename": "SyntaxError",
     "evalue": "(unicode error) 'unicodeescape' codec can't decode bytes in position 0-13: unknown Unicode character name (2443954921.py, line 1)",
     "output_type": "error",
     "traceback": [
      "\u001b[0;36m  Input \u001b[0;32mIn [26]\u001b[0;36m\u001b[0m\n\u001b[0;31m    '\\N{red circle}'\u001b[0m\n\u001b[0m                    ^\u001b[0m\n\u001b[0;31mSyntaxError\u001b[0m\u001b[0;31m:\u001b[0m (unicode error) 'unicodeescape' codec can't decode bytes in position 0-13: unknown Unicode character name\n"
     ]
    }
   ],
   "source": [
    "'\\N{red circle}'"
   ]
  },
  {
   "cell_type": "code",
   "execution_count": 32,
   "id": "f8f6b95d-f50c-498a-ba1c-3a785a6a8f2a",
   "metadata": {},
   "outputs": [
    {
     "ename": "SyntaxError",
     "evalue": "(unicode error) 'unicodeescape' codec can't decode bytes in position 0-17: unknown Unicode character name (1860429361.py, line 1)",
     "output_type": "error",
     "traceback": [
      "\u001b[0;36m  Input \u001b[0;32mIn [32]\u001b[0;36m\u001b[0m\n\u001b[0;31m    f'\\N{big red circle}'\u001b[0m\n\u001b[0m                         ^\u001b[0m\n\u001b[0;31mSyntaxError\u001b[0m\u001b[0;31m:\u001b[0m (unicode error) 'unicodeescape' codec can't decode bytes in position 0-17: unknown Unicode character name\n"
     ]
    }
   ],
   "source": [
    "f'\\N{big red circle}'"
   ]
  },
  {
   "cell_type": "code",
   "execution_count": 31,
   "id": "2c3a42dc-e747-4915-b336-030b769a8992",
   "metadata": {},
   "outputs": [
    {
     "ename": "SyntaxError",
     "evalue": "(unicode error) 'unicodeescape' codec can't decode bytes in position 0-17: unknown Unicode character name (314082696.py, line 1)",
     "output_type": "error",
     "traceback": [
      "\u001b[0;36m  Input \u001b[0;32mIn [31]\u001b[0;36m\u001b[0m\n\u001b[0;31m    f'\\N{red big circle}'\u001b[0m\n\u001b[0m                         ^\u001b[0m\n\u001b[0;31mSyntaxError\u001b[0m\u001b[0;31m:\u001b[0m (unicode error) 'unicodeescape' codec can't decode bytes in position 0-17: unknown Unicode character name\n"
     ]
    }
   ],
   "source": [
    "f'\\N{red big circle}'"
   ]
  },
  {
   "cell_type": "code",
   "execution_count": 29,
   "id": "26ee8b2e-9552-4cc0-b333-0bc5856af976",
   "metadata": {},
   "outputs": [
    {
     "data": {
      "text/plain": [
       "'\\x00'"
      ]
     },
     "execution_count": 29,
     "metadata": {},
     "output_type": "execute_result"
    }
   ],
   "source": [
    "chr(0)"
   ]
  },
  {
   "cell_type": "code",
   "execution_count": 30,
   "id": "e0b3fe0e-cbfa-4d44-aa6a-c141a567c3f9",
   "metadata": {},
   "outputs": [
    {
     "data": {
      "text/plain": [
       "'\\x01'"
      ]
     },
     "execution_count": 30,
     "metadata": {},
     "output_type": "execute_result"
    }
   ],
   "source": [
    "chr(1)"
   ]
  },
  {
   "cell_type": "code",
   "execution_count": 33,
   "id": "474488fd-0405-41bc-9671-50f4ec01b5b2",
   "metadata": {},
   "outputs": [
    {
     "ename": "SyntaxError",
     "evalue": "(unicode error) 'unicodeescape' codec can't decode bytes in position 0-21: unknown Unicode character name (433710613.py, line 1)",
     "output_type": "error",
     "traceback": [
      "\u001b[0;36m  Input \u001b[0;32mIn [33]\u001b[0;36m\u001b[0m\n\u001b[0;31m    '\\N{large black square}'\u001b[0m\n\u001b[0m                            ^\u001b[0m\n\u001b[0;31mSyntaxError\u001b[0m\u001b[0;31m:\u001b[0m (unicode error) 'unicodeescape' codec can't decode bytes in position 0-21: unknown Unicode character name\n"
     ]
    }
   ],
   "source": [
    "'\\N{large black square}'"
   ]
  },
  {
   "cell_type": "code",
   "execution_count": 1,
   "id": "c294711b-8686-4dfb-89fc-573370637257",
   "metadata": {},
   "outputs": [
    {
     "data": {
      "text/plain": [
       "'⬛'"
      ]
     },
     "execution_count": 1,
     "metadata": {},
     "output_type": "execute_result"
    }
   ],
   "source": [
    "'\\N{black large square}'"
   ]
  },
  {
   "cell_type": "code",
   "execution_count": 2,
   "id": "f9738f38-6682-49e8-8220-93a5f2654507",
   "metadata": {},
   "outputs": [
    {
     "data": {
      "text/plain": [
       "'⬜'"
      ]
     },
     "execution_count": 2,
     "metadata": {},
     "output_type": "execute_result"
    }
   ],
   "source": [
    "'\\N{white large square}'"
   ]
  },
  {
   "cell_type": "code",
   "execution_count": 39,
   "id": "4dcabc12-280c-4c35-b3b1-afaf0a8d9975",
   "metadata": {},
   "outputs": [
    {
     "ename": "SyntaxError",
     "evalue": "(unicode error) 'unicodeescape' codec can't decode bytes in position 0-19: unknown Unicode character name (344493648.py, line 1)",
     "output_type": "error",
     "traceback": [
      "\u001b[0;36m  Input \u001b[0;32mIn [39]\u001b[0;36m\u001b[0m\n\u001b[0;31m    '\\N{red large square}'\u001b[0m\n\u001b[0m                          ^\u001b[0m\n\u001b[0;31mSyntaxError\u001b[0m\u001b[0;31m:\u001b[0m (unicode error) 'unicodeescape' codec can't decode bytes in position 0-19: unknown Unicode character name\n"
     ]
    }
   ],
   "source": [
    "'\\N{red large square}'"
   ]
  },
  {
   "cell_type": "code",
   "execution_count": 40,
   "id": "c82ed128-e7e5-4562-98c4-79c9938de6ca",
   "metadata": {},
   "outputs": [
    {
     "data": {
      "text/plain": [
       "'🟥'"
      ]
     },
     "execution_count": 40,
     "metadata": {},
     "output_type": "execute_result"
    }
   ],
   "source": [
    "'\\N{large red square}'"
   ]
  },
  {
   "cell_type": "code",
   "execution_count": 35,
   "id": "c4e577ab-2c44-4e54-a67b-21da56bb9909",
   "metadata": {},
   "outputs": [
    {
     "data": {
      "text/plain": [
       "'⬜'"
      ]
     },
     "execution_count": 35,
     "metadata": {},
     "output_type": "execute_result"
    }
   ],
   "source": [
    "'\\N{white large square}'"
   ]
  },
  {
   "cell_type": "code",
   "execution_count": 43,
   "id": "8ae08f2c-51b1-480b-81ec-c5041acbed97",
   "metadata": {},
   "outputs": [],
   "source": [
    "L = [1, 0, 0, 1, 1, 1, 0]"
   ]
  },
  {
   "cell_type": "code",
   "execution_count": 36,
   "id": "236e3f80-3f32-461a-a9cb-15e0a9652633",
   "metadata": {},
   "outputs": [],
   "source": [
    "mapping = {0: '⬜', 1: '⬛'}"
   ]
  },
  {
   "cell_type": "code",
   "execution_count": 37,
   "id": "016746d9-18e6-4257-aadb-c4e416eb2d93",
   "metadata": {},
   "outputs": [
    {
     "data": {
      "text/plain": [
       "'⬜'"
      ]
     },
     "execution_count": 37,
     "metadata": {},
     "output_type": "execute_result"
    }
   ],
   "source": [
    "mapping[0]"
   ]
  },
  {
   "cell_type": "code",
   "execution_count": 38,
   "id": "a65dcd37-3371-435c-900c-c6b6fe289ec8",
   "metadata": {},
   "outputs": [
    {
     "data": {
      "text/plain": [
       "'⬛'"
      ]
     },
     "execution_count": 38,
     "metadata": {},
     "output_type": "execute_result"
    }
   ],
   "source": [
    "mapping[1]"
   ]
  },
  {
   "cell_type": "code",
   "execution_count": 44,
   "id": "2026aa30-438e-4a62-8e36-4c6253c88023",
   "metadata": {},
   "outputs": [
    {
     "data": {
      "text/plain": [
       "[2, 0, 0, 2, 2, 2, 0]"
      ]
     },
     "execution_count": 44,
     "metadata": {},
     "output_type": "execute_result"
    }
   ],
   "source": [
    "[2 * x for x in L]"
   ]
  },
  {
   "cell_type": "code",
   "execution_count": 45,
   "id": "cbd11a2e-e7ad-4488-ab50-e9a1218ad935",
   "metadata": {},
   "outputs": [
    {
     "data": {
      "text/plain": [
       "['⬛', '⬜', '⬜', '⬛', '⬛', '⬛', '⬜']"
      ]
     },
     "execution_count": 45,
     "metadata": {},
     "output_type": "execute_result"
    }
   ],
   "source": [
    "[mapping[x] for x in L]"
   ]
  },
  {
   "cell_type": "code",
   "execution_count": 46,
   "id": "b74b07a4-39d1-4bfc-a296-72f28ff38a25",
   "metadata": {},
   "outputs": [
    {
     "data": {
      "text/plain": [
       "'⬛⬜⬜⬛⬛⬛⬜'"
      ]
     },
     "execution_count": 46,
     "metadata": {},
     "output_type": "execute_result"
    }
   ],
   "source": [
    "''.join([mapping[x] for x in L])"
   ]
  },
  {
   "cell_type": "code",
   "execution_count": 47,
   "id": "3ee40116-6960-46c5-8a4b-e0175bd0fec8",
   "metadata": {},
   "outputs": [
    {
     "data": {
      "text/plain": [
       "'⬛⬜⬜⬛⬛⬛⬜'"
      ]
     },
     "execution_count": 47,
     "metadata": {},
     "output_type": "execute_result"
    }
   ],
   "source": [
    "''.join(mapping[x] for x in L)"
   ]
  },
  {
   "cell_type": "code",
   "execution_count": 48,
   "id": "1d96ee64-8924-4062-958d-68a16ce50b0a",
   "metadata": {},
   "outputs": [
    {
     "data": {
      "text/plain": [
       "[-6, -5, 1, 3, 7]"
      ]
     },
     "execution_count": 48,
     "metadata": {},
     "output_type": "execute_result"
    }
   ],
   "source": [
    "sorted([3, 1, -5, 7, -6])"
   ]
  },
  {
   "cell_type": "code",
   "execution_count": 49,
   "id": "fab00232-69e1-4d90-b802-3af78542a32a",
   "metadata": {},
   "outputs": [
    {
     "data": {
      "text/plain": [
       "[-6, -5, 1, 3, 7]"
      ]
     },
     "execution_count": 49,
     "metadata": {},
     "output_type": "execute_result"
    }
   ],
   "source": [
    "sorted({3, 1, -5, 7, -6})"
   ]
  },
  {
   "cell_type": "code",
   "execution_count": 50,
   "id": "862d2b5d-a56b-4371-9738-800ceec78e54",
   "metadata": {},
   "outputs": [
    {
     "data": {
      "text/plain": [
       "[-6, -5, 1, 3, 7]"
      ]
     },
     "execution_count": 50,
     "metadata": {},
     "output_type": "execute_result"
    }
   ],
   "source": [
    "sorted({3: 0, 1: 0, -5: 'I', 7: '⬛', -6: 9.56})"
   ]
  },
  {
   "cell_type": "code",
   "execution_count": 51,
   "id": "f4d15fd1-8999-4f19-a7bb-1c10e7bf357e",
   "metadata": {},
   "outputs": [
    {
     "data": {
      "text/plain": [
       "[-6, -5, 1, 3, 7]"
      ]
     },
     "execution_count": 51,
     "metadata": {},
     "output_type": "execute_result"
    }
   ],
   "source": [
    "sorted({3: 0, 1: 0, -5: 'I', 7: '⬛', -6: 9.56}.keys())"
   ]
  },
  {
   "cell_type": "code",
   "execution_count": 52,
   "id": "aad78b21-e61f-45b4-b6f3-7598ce213a31",
   "metadata": {},
   "outputs": [
    {
     "data": {
      "text/plain": [
       "[(1, -5), (1, 7), (3, -2), (3, 0), (3, 1)]"
      ]
     },
     "execution_count": 52,
     "metadata": {},
     "output_type": "execute_result"
    }
   ],
   "source": [
    "sorted({(3, 0), (3, -2), (1, 7), (3, 1), (1, -5)})"
   ]
  },
  {
   "cell_type": "code",
   "execution_count": 55,
   "id": "87033a33-8176-4f13-8d46-0fffb5b64346",
   "metadata": {},
   "outputs": [
    {
     "ename": "TypeError",
     "evalue": "'<' not supported between instances of 'int' and 'str'",
     "output_type": "error",
     "traceback": [
      "\u001b[0;31m---------------------------------------------------------------------------\u001b[0m",
      "\u001b[0;31mTypeError\u001b[0m                                 Traceback (most recent call last)",
      "Input \u001b[0;32mIn [55]\u001b[0m, in \u001b[0;36m<cell line: 1>\u001b[0;34m()\u001b[0m\n\u001b[0;32m----> 1\u001b[0m \u001b[38;5;28;43msorted\u001b[39;49m\u001b[43m(\u001b[49m\u001b[43m{\u001b[49m\u001b[38;5;241;43m1\u001b[39;49m\u001b[43m,\u001b[49m\u001b[43m \u001b[49m\u001b[38;5;124;43m'\u001b[39;49m\u001b[38;5;124;43m⬛\u001b[39;49m\u001b[38;5;124;43m'\u001b[39;49m\u001b[43m}\u001b[49m\u001b[43m)\u001b[49m\n",
      "\u001b[0;31mTypeError\u001b[0m: '<' not supported between instances of 'int' and 'str'"
     ]
    }
   ],
   "source": [
    "sorted({1, '⬛'})"
   ]
  },
  {
   "cell_type": "code",
   "execution_count": 54,
   "id": "40a59a47-7c92-4eac-ab48-cc89a4a7ae66",
   "metadata": {},
   "outputs": [
    {
     "data": {
      "text/plain": [
       "11035"
      ]
     },
     "execution_count": 54,
     "metadata": {},
     "output_type": "execute_result"
    }
   ],
   "source": [
    "ord('⬛')"
   ]
  },
  {
   "cell_type": "code",
   "execution_count": 57,
   "id": "2fcf6e00-a11b-4a27-8b22-d31815df88e9",
   "metadata": {},
   "outputs": [
    {
     "ename": "TypeError",
     "evalue": "'<' not supported between instances of 'tuple' and 'int'",
     "output_type": "error",
     "traceback": [
      "\u001b[0;31m---------------------------------------------------------------------------\u001b[0m",
      "\u001b[0;31mTypeError\u001b[0m                                 Traceback (most recent call last)",
      "Input \u001b[0;32mIn [57]\u001b[0m, in \u001b[0;36m<cell line: 1>\u001b[0;34m()\u001b[0m\n\u001b[0;32m----> 1\u001b[0m \u001b[38;5;28;43msorted\u001b[39;49m\u001b[43m(\u001b[49m\u001b[43m{\u001b[49m\u001b[38;5;241;43m1\u001b[39;49m\u001b[43m,\u001b[49m\u001b[43m \u001b[49m\u001b[43m(\u001b[49m\u001b[38;5;241;43m2\u001b[39;49m\u001b[43m,\u001b[49m\u001b[43m)\u001b[49m\u001b[43m}\u001b[49m\u001b[43m)\u001b[49m\n",
      "\u001b[0;31mTypeError\u001b[0m: '<' not supported between instances of 'tuple' and 'int'"
     ]
    }
   ],
   "source": [
    "sorted({1, (2,)})"
   ]
  },
  {
   "cell_type": "code",
   "execution_count": 58,
   "id": "4a0e6fc4-00b3-406c-9319-1117c103acda",
   "metadata": {},
   "outputs": [
    {
     "data": {
      "text/plain": [
       "[(1,), (2,)]"
      ]
     },
     "execution_count": 58,
     "metadata": {},
     "output_type": "execute_result"
    }
   ],
   "source": [
    "sorted({(1,), (2,)})"
   ]
  },
  {
   "cell_type": "code",
   "execution_count": 59,
   "id": "2c412515-0f35-49b6-85d8-ae67df81f569",
   "metadata": {},
   "outputs": [
    {
     "data": {
      "text/plain": [
       "[-6, -5, 1, 3, 5, 7]"
      ]
     },
     "execution_count": 59,
     "metadata": {},
     "output_type": "execute_result"
    }
   ],
   "source": [
    "sorted({5, 3, 1, -5, 7, 5, -6, 5})"
   ]
  },
  {
   "cell_type": "code",
   "execution_count": 60,
   "id": "4a92ed13-ebfb-4335-be92-cdcff6906fbb",
   "metadata": {},
   "outputs": [
    {
     "data": {
      "text/plain": [
       "(4, 4)"
      ]
     },
     "execution_count": 60,
     "metadata": {},
     "output_type": "execute_result"
    }
   ],
   "source": [
    "abs(4), abs(-4)"
   ]
  },
  {
   "cell_type": "code",
   "execution_count": 63,
   "id": "220a58f1-4edb-48ce-bf44-baa30e5a0e0a",
   "metadata": {},
   "outputs": [
    {
     "data": {
      "text/plain": [
       "[1, 3, 5, 5, 5, 5, 6, 7]"
      ]
     },
     "execution_count": 63,
     "metadata": {},
     "output_type": "execute_result"
    }
   ],
   "source": [
    "sorted([5, 3, 1, 5, 7, 5, 6, 5])"
   ]
  },
  {
   "cell_type": "code",
   "execution_count": 64,
   "id": "a9952ed7-35de-4bab-925e-635b8ec1d37e",
   "metadata": {},
   "outputs": [
    {
     "data": {
      "text/plain": [
       "[1, 3, 5, -5, 5, 5, -6, 7]"
      ]
     },
     "execution_count": 64,
     "metadata": {},
     "output_type": "execute_result"
    }
   ],
   "source": [
    "sorted([5, 3, 1, -5, 7, 5, -6, 5], key=abs)"
   ]
  },
  {
   "cell_type": "code",
   "execution_count": 65,
   "id": "d11e495d-79e8-4179-8d8e-c97c6fbb50a4",
   "metadata": {},
   "outputs": [
    {
     "data": {
      "text/plain": [
       "{1, 3, 5, 6, 7}"
      ]
     },
     "execution_count": 65,
     "metadata": {},
     "output_type": "execute_result"
    }
   ],
   "source": [
    "{5, 3, 1, 5, 7, 5, 6, 5}"
   ]
  },
  {
   "cell_type": "code",
   "execution_count": 67,
   "id": "6db79c9c-eac0-4668-b1a1-13791898abcd",
   "metadata": {},
   "outputs": [
    {
     "data": {
      "text/plain": [
       "[7, -6, 5, -5, 5, 5, 3, 1]"
      ]
     },
     "execution_count": 67,
     "metadata": {},
     "output_type": "execute_result"
    }
   ],
   "source": [
    "sorted([5, 3, 1, -5, 7, 5, -6, 5], key=abs, reverse=True)"
   ]
  },
  {
   "cell_type": "code",
   "execution_count": 68,
   "id": "f73b89b3-d886-4a11-99ae-1cf61ea9b4ff",
   "metadata": {},
   "outputs": [
    {
     "data": {
      "text/plain": [
       "<list_reverseiterator at 0x10b7660b0>"
      ]
     },
     "execution_count": 68,
     "metadata": {},
     "output_type": "execute_result"
    }
   ],
   "source": [
    "reversed(sorted([5, 3, 1, -5, 7, 5, -6, 5], key=abs))"
   ]
  },
  {
   "cell_type": "code",
   "execution_count": 69,
   "id": "00d6fa07-5371-4631-a940-415e4f5f82ba",
   "metadata": {},
   "outputs": [
    {
     "data": {
      "text/plain": [
       "7"
      ]
     },
     "execution_count": 69,
     "metadata": {},
     "output_type": "execute_result"
    }
   ],
   "source": [
    "next(reversed(sorted([5, 3, 1, -5, 7, 5, -6, 5], key=abs)))"
   ]
  },
  {
   "cell_type": "code",
   "execution_count": 70,
   "id": "28b917e7-6960-4c9e-8e75-2fbfbae20566",
   "metadata": {},
   "outputs": [
    {
     "data": {
      "text/plain": [
       "[7, -6, 5, 5, -5, 5, 3, 1]"
      ]
     },
     "execution_count": 70,
     "metadata": {},
     "output_type": "execute_result"
    }
   ],
   "source": [
    "list(reversed(sorted([5, 3, 1, -5, 7, 5, -6, 5], key=abs)))"
   ]
  },
  {
   "cell_type": "code",
   "execution_count": 71,
   "id": "623e014c-8c8f-4918-9174-620e1a564e5a",
   "metadata": {},
   "outputs": [
    {
     "data": {
      "text/plain": [
       "[(1, -5), (1, 7), (3, -2), (3, 0), (3, 1)]"
      ]
     },
     "execution_count": 71,
     "metadata": {},
     "output_type": "execute_result"
    }
   ],
   "source": [
    "sorted({(3, 0), (3, -2), (1, 7), (3, 1), (1, -5)})"
   ]
  },
  {
   "cell_type": "code",
   "execution_count": 72,
   "id": "8da65a5d-b767-400b-acac-b2236c774b98",
   "metadata": {},
   "outputs": [],
   "source": [
    "def add_up(x, y):\n",
    "    return x + y"
   ]
  },
  {
   "cell_type": "code",
   "execution_count": 73,
   "id": "02b32476-acfb-4b01-8084-75d7ab53ad4f",
   "metadata": {},
   "outputs": [
    {
     "ename": "TypeError",
     "evalue": "add_up() missing 1 required positional argument: 'y'",
     "output_type": "error",
     "traceback": [
      "\u001b[0;31m---------------------------------------------------------------------------\u001b[0m",
      "\u001b[0;31mTypeError\u001b[0m                                 Traceback (most recent call last)",
      "Input \u001b[0;32mIn [73]\u001b[0m, in \u001b[0;36m<cell line: 1>\u001b[0;34m()\u001b[0m\n\u001b[0;32m----> 1\u001b[0m \u001b[38;5;28;43msorted\u001b[39;49m\u001b[43m(\u001b[49m\u001b[43m{\u001b[49m\u001b[43m(\u001b[49m\u001b[38;5;241;43m3\u001b[39;49m\u001b[43m,\u001b[49m\u001b[43m \u001b[49m\u001b[38;5;241;43m0\u001b[39;49m\u001b[43m)\u001b[49m\u001b[43m,\u001b[49m\u001b[43m \u001b[49m\u001b[43m(\u001b[49m\u001b[38;5;241;43m3\u001b[39;49m\u001b[43m,\u001b[49m\u001b[43m \u001b[49m\u001b[38;5;241;43m-\u001b[39;49m\u001b[38;5;241;43m2\u001b[39;49m\u001b[43m)\u001b[49m\u001b[43m,\u001b[49m\u001b[43m \u001b[49m\u001b[43m(\u001b[49m\u001b[38;5;241;43m1\u001b[39;49m\u001b[43m,\u001b[49m\u001b[43m \u001b[49m\u001b[38;5;241;43m7\u001b[39;49m\u001b[43m)\u001b[49m\u001b[43m,\u001b[49m\u001b[43m \u001b[49m\u001b[43m(\u001b[49m\u001b[38;5;241;43m3\u001b[39;49m\u001b[43m,\u001b[49m\u001b[43m \u001b[49m\u001b[38;5;241;43m1\u001b[39;49m\u001b[43m)\u001b[49m\u001b[43m,\u001b[49m\u001b[43m \u001b[49m\u001b[43m(\u001b[49m\u001b[38;5;241;43m1\u001b[39;49m\u001b[43m,\u001b[49m\u001b[43m \u001b[49m\u001b[38;5;241;43m-\u001b[39;49m\u001b[38;5;241;43m5\u001b[39;49m\u001b[43m)\u001b[49m\u001b[43m}\u001b[49m\u001b[43m,\u001b[49m\u001b[43m \u001b[49m\u001b[43mkey\u001b[49m\u001b[38;5;241;43m=\u001b[39;49m\u001b[43madd_up\u001b[49m\u001b[43m)\u001b[49m\n",
      "\u001b[0;31mTypeError\u001b[0m: add_up() missing 1 required positional argument: 'y'"
     ]
    }
   ],
   "source": [
    "sorted({(3, 0), (3, -2), (1, 7), (3, 1), (1, -5)}, key=add_up)"
   ]
  },
  {
   "cell_type": "code",
   "execution_count": 74,
   "id": "3d7ce8a3-e82c-4076-883a-a0fafb58fe7e",
   "metadata": {},
   "outputs": [],
   "source": [
    "def add_up(x):\n",
    "    return x[0] + x[1]"
   ]
  },
  {
   "cell_type": "code",
   "execution_count": 75,
   "id": "151b69e5-03a5-492c-8b47-e749493f21b1",
   "metadata": {},
   "outputs": [
    {
     "data": {
      "text/plain": [
       "[(1, -5), (3, -2), (3, 0), (3, 1), (1, 7)]"
      ]
     },
     "execution_count": 75,
     "metadata": {},
     "output_type": "execute_result"
    }
   ],
   "source": [
    "sorted({(3, 0), (3, -2), (1, 7), (3, 1), (1, -5)}, key=add_up)"
   ]
  },
  {
   "cell_type": "code",
   "execution_count": 93,
   "id": "ec2511de-dd13-4e86-ba1e-cdd3609c7caf",
   "metadata": {},
   "outputs": [],
   "source": [
    "f = add_up"
   ]
  },
  {
   "cell_type": "code",
   "execution_count": 94,
   "id": "76f8a59b-0f1b-4eb4-a782-e29fb5c8dbac",
   "metadata": {},
   "outputs": [
    {
     "data": {
      "text/plain": [
       "[(1, -5), (3, -2), (3, 0), (3, 1), (1, 7)]"
      ]
     },
     "execution_count": 94,
     "metadata": {},
     "output_type": "execute_result"
    }
   ],
   "source": [
    "sorted({(3, 0), (3, -2), (1, 7), (3, 1), (1, -5)}, key=f)"
   ]
  },
  {
   "cell_type": "code",
   "execution_count": 76,
   "id": "5cb852bb-09ad-46e2-aca0-17e7add7f982",
   "metadata": {},
   "outputs": [
    {
     "data": {
      "text/plain": [
       "<function __main__.<lambda>()>"
      ]
     },
     "execution_count": 76,
     "metadata": {},
     "output_type": "execute_result"
    }
   ],
   "source": [
    "lambda: 8"
   ]
  },
  {
   "cell_type": "code",
   "execution_count": 77,
   "id": "b845ea8d-ef82-4686-b6d8-b76367e73063",
   "metadata": {},
   "outputs": [
    {
     "ename": "TypeError",
     "evalue": "<lambda>() takes 0 positional arguments but 1 was given",
     "output_type": "error",
     "traceback": [
      "\u001b[0;31m---------------------------------------------------------------------------\u001b[0m",
      "\u001b[0;31mTypeError\u001b[0m                                 Traceback (most recent call last)",
      "Input \u001b[0;32mIn [77]\u001b[0m, in \u001b[0;36m<cell line: 1>\u001b[0;34m()\u001b[0m\n\u001b[0;32m----> 1\u001b[0m \u001b[43m(\u001b[49m\u001b[38;5;28;43;01mlambda\u001b[39;49;00m\u001b[43m:\u001b[49m\u001b[43m \u001b[49m\u001b[38;5;241;43m8\u001b[39;49m\u001b[43m)\u001b[49m\u001b[43m(\u001b[49m\u001b[38;5;241;43m34\u001b[39;49m\u001b[43m)\u001b[49m\n",
      "\u001b[0;31mTypeError\u001b[0m: <lambda>() takes 0 positional arguments but 1 was given"
     ]
    }
   ],
   "source": [
    "(lambda: 8)(34)"
   ]
  },
  {
   "cell_type": "code",
   "execution_count": 78,
   "id": "426dee6c-b496-4c02-ba1c-88985c3f8eec",
   "metadata": {},
   "outputs": [
    {
     "data": {
      "text/plain": [
       "8"
      ]
     },
     "execution_count": 78,
     "metadata": {},
     "output_type": "execute_result"
    }
   ],
   "source": [
    "(lambda: 8)()"
   ]
  },
  {
   "cell_type": "code",
   "execution_count": 79,
   "id": "71450c16-a394-4184-abb5-08537eab2f17",
   "metadata": {},
   "outputs": [],
   "source": [
    "I = lambda: 8"
   ]
  },
  {
   "cell_type": "code",
   "execution_count": 80,
   "id": "51d43f8b-da40-4335-b054-4dab2248d6b3",
   "metadata": {},
   "outputs": [
    {
     "data": {
      "text/plain": [
       "8"
      ]
     },
     "execution_count": 80,
     "metadata": {},
     "output_type": "execute_result"
    }
   ],
   "source": [
    "I()"
   ]
  },
  {
   "cell_type": "code",
   "execution_count": 81,
   "id": "959ab3b5-72a0-4573-9bdb-1f3d252dd343",
   "metadata": {},
   "outputs": [
    {
     "ename": "TypeError",
     "evalue": "<lambda>() missing 1 required positional argument: 'x'",
     "output_type": "error",
     "traceback": [
      "\u001b[0;31m---------------------------------------------------------------------------\u001b[0m",
      "\u001b[0;31mTypeError\u001b[0m                                 Traceback (most recent call last)",
      "Input \u001b[0;32mIn [81]\u001b[0m, in \u001b[0;36m<cell line: 1>\u001b[0;34m()\u001b[0m\n\u001b[0;32m----> 1\u001b[0m \u001b[43m(\u001b[49m\u001b[38;5;28;43;01mlambda\u001b[39;49;00m\u001b[43m \u001b[49m\u001b[43mx\u001b[49m\u001b[43m:\u001b[49m\u001b[43m \u001b[49m\u001b[43mx\u001b[49m\u001b[43m \u001b[49m\u001b[38;5;241;43m+\u001b[39;49m\u001b[43m \u001b[49m\u001b[38;5;241;43m8\u001b[39;49m\u001b[43m)\u001b[49m\u001b[43m(\u001b[49m\u001b[43m)\u001b[49m\n",
      "\u001b[0;31mTypeError\u001b[0m: <lambda>() missing 1 required positional argument: 'x'"
     ]
    }
   ],
   "source": [
    "(lambda x: x + 8)()"
   ]
  },
  {
   "cell_type": "code",
   "execution_count": 82,
   "id": "19c5c14a-71ed-4cf5-ad3d-6eabfaf52e9b",
   "metadata": {},
   "outputs": [
    {
     "ename": "TypeError",
     "evalue": "<lambda>() takes 1 positional argument but 2 were given",
     "output_type": "error",
     "traceback": [
      "\u001b[0;31m---------------------------------------------------------------------------\u001b[0m",
      "\u001b[0;31mTypeError\u001b[0m                                 Traceback (most recent call last)",
      "Input \u001b[0;32mIn [82]\u001b[0m, in \u001b[0;36m<cell line: 1>\u001b[0;34m()\u001b[0m\n\u001b[0;32m----> 1\u001b[0m \u001b[43m(\u001b[49m\u001b[38;5;28;43;01mlambda\u001b[39;49;00m\u001b[43m \u001b[49m\u001b[43mx\u001b[49m\u001b[43m:\u001b[49m\u001b[43m \u001b[49m\u001b[43mx\u001b[49m\u001b[43m \u001b[49m\u001b[38;5;241;43m+\u001b[39;49m\u001b[43m \u001b[49m\u001b[38;5;241;43m8\u001b[39;49m\u001b[43m)\u001b[49m\u001b[43m(\u001b[49m\u001b[38;5;241;43m3\u001b[39;49m\u001b[43m,\u001b[49m\u001b[43m \u001b[49m\u001b[38;5;241;43m5\u001b[39;49m\u001b[43m)\u001b[49m\n",
      "\u001b[0;31mTypeError\u001b[0m: <lambda>() takes 1 positional argument but 2 were given"
     ]
    }
   ],
   "source": [
    "(lambda x: x + 8)(3, 5)"
   ]
  },
  {
   "cell_type": "code",
   "execution_count": 83,
   "id": "2f33e7fd-cbf5-472d-b581-06a206e27f88",
   "metadata": {},
   "outputs": [
    {
     "data": {
      "text/plain": [
       "19"
      ]
     },
     "execution_count": 83,
     "metadata": {},
     "output_type": "execute_result"
    }
   ],
   "source": [
    "(lambda x: x + 8)(11)"
   ]
  },
  {
   "cell_type": "code",
   "execution_count": 84,
   "id": "f8c0711d-8675-427e-a6fd-948f944901de",
   "metadata": {},
   "outputs": [],
   "source": [
    "I = lambda x: x + 8"
   ]
  },
  {
   "cell_type": "code",
   "execution_count": 85,
   "id": "42cc66c2-f3f5-4c07-9e6d-f36ed568b9ed",
   "metadata": {},
   "outputs": [
    {
     "data": {
      "text/plain": [
       "(11, 42)"
      ]
     },
     "execution_count": 85,
     "metadata": {},
     "output_type": "execute_result"
    }
   ],
   "source": [
    "I(3), I(34)"
   ]
  },
  {
   "cell_type": "code",
   "execution_count": 86,
   "id": "b9934ab3-5f18-48f5-89dd-06970915a93a",
   "metadata": {},
   "outputs": [
    {
     "ename": "TypeError",
     "evalue": "<lambda>() missing 1 required positional argument: 'y'",
     "output_type": "error",
     "traceback": [
      "\u001b[0;31m---------------------------------------------------------------------------\u001b[0m",
      "\u001b[0;31mTypeError\u001b[0m                                 Traceback (most recent call last)",
      "Input \u001b[0;32mIn [86]\u001b[0m, in \u001b[0;36m<cell line: 1>\u001b[0;34m()\u001b[0m\n\u001b[0;32m----> 1\u001b[0m \u001b[43m(\u001b[49m\u001b[38;5;28;43;01mlambda\u001b[39;49;00m\u001b[43m \u001b[49m\u001b[43mx\u001b[49m\u001b[43m,\u001b[49m\u001b[43m \u001b[49m\u001b[43my\u001b[49m\u001b[43m:\u001b[49m\u001b[43m \u001b[49m\u001b[43m(\u001b[49m\u001b[43mx\u001b[49m\u001b[43m \u001b[49m\u001b[38;5;241;43m+\u001b[39;49m\u001b[43m \u001b[49m\u001b[43my\u001b[49m\u001b[43m)\u001b[49m\u001b[43m \u001b[49m\u001b[38;5;241;43m/\u001b[39;49m\u001b[43m \u001b[49m\u001b[38;5;241;43m2\u001b[39;49m\u001b[43m)\u001b[49m\u001b[43m(\u001b[49m\u001b[38;5;241;43m11\u001b[39;49m\u001b[43m)\u001b[49m\n",
      "\u001b[0;31mTypeError\u001b[0m: <lambda>() missing 1 required positional argument: 'y'"
     ]
    }
   ],
   "source": [
    "(lambda x, y: (x + y) / 2)(11)"
   ]
  },
  {
   "cell_type": "code",
   "execution_count": 87,
   "id": "701b5698-9558-4774-94ad-9ede920ffec1",
   "metadata": {},
   "outputs": [
    {
     "data": {
      "text/plain": [
       "10.0"
      ]
     },
     "execution_count": 87,
     "metadata": {},
     "output_type": "execute_result"
    }
   ],
   "source": [
    "(lambda x, y: (x + y) / 2)(11, 9)"
   ]
  },
  {
   "cell_type": "code",
   "execution_count": 88,
   "id": "86708651-86cd-4a5c-87fc-5206c26dfe1b",
   "metadata": {},
   "outputs": [],
   "source": [
    "I = lambda x, y: (x + y) / 2"
   ]
  },
  {
   "cell_type": "code",
   "execution_count": 89,
   "id": "e519a1b1-662c-4378-9d9c-2739f21c212a",
   "metadata": {},
   "outputs": [
    {
     "data": {
      "text/plain": [
       "10.0"
      ]
     },
     "execution_count": 89,
     "metadata": {},
     "output_type": "execute_result"
    }
   ],
   "source": [
    "I(11, 9)"
   ]
  },
  {
   "cell_type": "code",
   "execution_count": 90,
   "id": "ee3a16d2-d541-49c6-be21-04057a4604c4",
   "metadata": {},
   "outputs": [
    {
     "data": {
      "text/plain": [
       "[(1, -5), (3, -2), (3, 0), (3, 1), (1, 7)]"
      ]
     },
     "execution_count": 90,
     "metadata": {},
     "output_type": "execute_result"
    }
   ],
   "source": [
    "sorted({(3, 0), (3, -2), (1, 7), (3, 1), (1, -5)}, key=lambda x: x[0] + x[1])"
   ]
  },
  {
   "cell_type": "code",
   "execution_count": 96,
   "id": "0bf058b7-7709-4c85-9de8-4c76a9859a2a",
   "metadata": {},
   "outputs": [
    {
     "data": {
      "text/plain": [
       "[(1, -5, 1), (1, 7, 2), (3, -5, 1), (3, 0, 1), (3, 0, 2)]"
      ]
     },
     "execution_count": 96,
     "metadata": {},
     "output_type": "execute_result"
    }
   ],
   "source": [
    "sorted({(3, 0, 2), (3, 0, 1), (1, 7, 2), (3, -5, 1), (1, -5, 1)})"
   ]
  },
  {
   "cell_type": "code",
   "execution_count": 98,
   "id": "cf9010ee-dee8-4f2f-84ad-d8b7138f50a1",
   "metadata": {},
   "outputs": [
    {
     "data": {
      "text/plain": [
       "[(1, -5, 1), (3, -5, 1), (3, 0, 1), (3, 0, 2), (1, 7, 2)]"
      ]
     },
     "execution_count": 98,
     "metadata": {},
     "output_type": "execute_result"
    }
   ],
   "source": [
    "sorted({(3, 0, 2), (3, 0, 1), (1, 7, 2), (3, -5, 1), (1, -5, 1)}, key=lambda x: (x[2], x[1], x[0]))"
   ]
  }
 ],
 "metadata": {
  "kernelspec": {
   "display_name": "Python 3 (ipykernel)",
   "language": "python",
   "name": "python3"
  },
  "language_info": {
   "codemirror_mode": {
    "name": "ipython",
    "version": 3
   },
   "file_extension": ".py",
   "mimetype": "text/x-python",
   "name": "python",
   "nbconvert_exporter": "python",
   "pygments_lexer": "ipython3",
   "version": "3.9.7"
  },
  "widgets": {
   "application/vnd.jupyter.widget-state+json": {
    "state": {},
    "version_major": 2,
    "version_minor": 0
   }
  }
 },
 "nbformat": 4,
 "nbformat_minor": 5
}
